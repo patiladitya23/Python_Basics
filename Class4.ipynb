{
 "cells": [
  {
   "cell_type": "code",
   "execution_count": null,
   "metadata": {},
   "outputs": [],
   "source": [
    "\"\"\"\n",
    "Agenda\n",
    "\n",
    "1. String Methods\n",
    "2. Control flow statements\n",
    "\"\"\""
   ]
  },
  {
   "cell_type": "code",
   "execution_count": 2,
   "metadata": {},
   "outputs": [
    {
     "data": {
      "text/plain": [
       "'l'"
      ]
     },
     "execution_count": 2,
     "metadata": {},
     "output_type": "execute_result"
    }
   ],
   "source": [
    "# String Methods\n",
    "\n",
    "#String Indexing - here it starts from zero\n",
    "# if there are N characters in the string, then the index will range from 0 to N-1\n",
    "# to index in reverse order i.e. from behing the index ranges from -1 to -N\n",
    "#       012345678\n",
    "name = \"Alexender\"\n",
    "\n",
    "name[1] # this methos is helping us to access individual character from the given string"
   ]
  },
  {
   "cell_type": "code",
   "execution_count": 4,
   "metadata": {},
   "outputs": [
    {
     "data": {
      "text/plain": [
       "'e'"
      ]
     },
     "execution_count": 4,
     "metadata": {},
     "output_type": "execute_result"
    }
   ],
   "source": [
    "name[-2] # accessing the element from behind"
   ]
  },
  {
   "cell_type": "code",
   "execution_count": 6,
   "metadata": {},
   "outputs": [
    {
     "data": {
      "text/plain": [
       "'lex'"
      ]
     },
     "execution_count": 6,
     "metadata": {},
     "output_type": "execute_result"
    }
   ],
   "source": [
    "# String Slicing\n",
    "# It means extracting chunk form the given string.\n",
    "\n",
    "name = \"Alexender\"\n",
    "\n",
    "name[1:4] # here is 1 is starting point which is included and 4 is ending point where 4 is excluded"
   ]
  },
  {
   "cell_type": "code",
   "execution_count": 9,
   "metadata": {},
   "outputs": [
    {
     "data": {
      "text/plain": [
       "'n'"
      ]
     },
     "execution_count": 9,
     "metadata": {},
     "output_type": "execute_result"
    }
   ],
   "source": [
    "name [-4:-3]"
   ]
  },
  {
   "cell_type": "code",
   "execution_count": 10,
   "metadata": {},
   "outputs": [
    {
     "data": {
      "text/plain": [
       "''"
      ]
     },
     "execution_count": 10,
     "metadata": {},
     "output_type": "execute_result"
    }
   ],
   "source": [
    "name [-1:-8] # this is will give blank coz the it works in left to right order"
   ]
  },
  {
   "cell_type": "code",
   "execution_count": 23,
   "metadata": {},
   "outputs": [
    {
     "name": "stdout",
     "output_type": "stream",
     "text": [
      "Date is: 10 \n",
      "Month is: 10\n",
      "Year is: 2023\n"
     ]
    }
   ],
   "source": [
    "# example\n",
    "\n",
    "date = \"10/10/2023\"\n",
    "# extract the date from the date string\n",
    "\n",
    "print(f\"\"\"Date is: {date[0:2]} \n",
    "Month is: {date[3:5]}\n",
    "Year is: {date[6:]}\"\"\") # here date [6:] take 6 as starting point and ending point as end of the string as ending point is not given"
   ]
  },
  {
   "cell_type": "code",
   "execution_count": 28,
   "metadata": {},
   "outputs": [
    {
     "name": "stdout",
     "output_type": "stream",
     "text": [
      "Your Date of Birth is: 1997/03/02\n",
      "Your current age: 26\n"
     ]
    }
   ],
   "source": [
    "# example\n",
    "dob = input(\"Enter the date of birth in YYYY-MM-DD format: \")\n",
    "print(f\"Your Date of Birth is: {dob}\")\n",
    "\n",
    "your_age = 2023 - int(dob[0:4])\n",
    "\n",
    "print(f\"Your current age: {your_age}\")"
   ]
  },
  {
   "cell_type": "code",
   "execution_count": 2,
   "metadata": {},
   "outputs": [
    {
     "data": {
      "text/plain": [
       "'Alexe'"
      ]
     },
     "execution_count": 2,
     "metadata": {},
     "output_type": "execute_result"
    }
   ],
   "source": [
    "name = \"Alexender\"\n",
    "\n",
    "name[0:5:1] # name [start_point : end_point : steps]"
   ]
  },
  {
   "cell_type": "code",
   "execution_count": 6,
   "metadata": {},
   "outputs": [
    {
     "data": {
      "text/plain": [
       "'Aee'"
      ]
     },
     "execution_count": 6,
     "metadata": {},
     "output_type": "execute_result"
    }
   ],
   "source": [
    "name[0:5:2] # name [start_point : end_point : steps]\n",
    "# here it is skipped alternate character as there were 2 steps as 2 step is included"
   ]
  },
  {
   "cell_type": "code",
   "execution_count": 7,
   "metadata": {},
   "outputs": [
    {
     "data": {
      "text/plain": [
       "'Ax'"
      ]
     },
     "execution_count": 7,
     "metadata": {},
     "output_type": "execute_result"
    }
   ],
   "source": [
    "name[0:5:3] # name [start_point : end_point : steps]\n",
    "# here it is skipped 2 character as there were 3 steps as 3rd step is included"
   ]
  },
  {
   "cell_type": "code",
   "execution_count": 8,
   "metadata": {},
   "outputs": [
    {
     "data": {
      "text/plain": [
       "'Ae onJcbo'"
      ]
     },
     "execution_count": 8,
     "metadata": {},
     "output_type": "execute_result"
    }
   ],
   "source": [
    "name = \"Alex John Jacobson\"\n",
    "\n",
    "name[0::2] #here space is also considered as character"
   ]
  },
  {
   "cell_type": "code",
   "execution_count": 11,
   "metadata": {},
   "outputs": [
    {
     "data": {
      "text/plain": [
       "'Alex John Jacobson'"
      ]
     },
     "execution_count": 11,
     "metadata": {},
     "output_type": "execute_result"
    }
   ],
   "source": [
    "name = \"Alex John Jacobson\"\n",
    "name[::]"
   ]
  },
  {
   "cell_type": "code",
   "execution_count": 12,
   "metadata": {},
   "outputs": [
    {
     "data": {
      "text/plain": [
       "'nosbocaJ nhoJ xelA'"
      ]
     },
     "execution_count": 12,
     "metadata": {},
     "output_type": "execute_result"
    }
   ],
   "source": [
    "name = \"Alex John Jacobson\"\n",
    "name[::-1] # it reverses the string"
   ]
  },
  {
   "cell_type": "code",
   "execution_count": 14,
   "metadata": {},
   "outputs": [
    {
     "data": {
      "text/plain": [
       "'nsoa hJxl'"
      ]
     },
     "execution_count": 14,
     "metadata": {},
     "output_type": "execute_result"
    }
   ],
   "source": [
    "name = \"Alex John Jacobson\"\n",
    "name[::-2] # it reverses the string\n",
    "# it is reversed but skipping the one character"
   ]
  },
  {
   "cell_type": "code",
   "execution_count": 17,
   "metadata": {},
   "outputs": [
    {
     "name": "stdout",
     "output_type": "stream",
     "text": [
      "String: radar\n",
      "radar is Palindrome\n"
     ]
    }
   ],
   "source": [
    "# Palindrome Sequence (reverse)\n",
    "\n",
    "'''\n",
    "Read it from left or right it will be same\n",
    "e.g. MOM, MADAM, BOB\n",
    "'''\n",
    "\n",
    "data = input(\"Enter the string: \")\n",
    "print (f\"String: {data}\")\n",
    "\n",
    "if data == data[::-1]:\n",
    "    print(f\"{data} is Palindrome\")\n",
    "else:\n",
    "    print(\"{data} is Not Palindrome\")"
   ]
  },
  {
   "cell_type": "code",
   "execution_count": 20,
   "metadata": {},
   "outputs": [
    {
     "name": "stdout",
     "output_type": "stream",
     "text": [
      "String: Radar\n",
      "Radar is Not Palindrome\n"
     ]
    }
   ],
   "source": [
    "data = input(\"Enter the string: \")\n",
    "print (f\"String: {data}\")\n",
    "\n",
    "if data == data[::-1]:\n",
    "    print(f\"{data} is Palindrome\")\n",
    "else:\n",
    "    print(f\"{data} is Not Palindrome\")\n",
    "\n",
    "#case sensitivity is considered here"
   ]
  },
  {
   "cell_type": "code",
   "execution_count": 31,
   "metadata": {},
   "outputs": [
    {
     "ename": "TypeError",
     "evalue": "'str' object does not support item assignment",
     "output_type": "error",
     "traceback": [
      "\u001b[1;31m---------------------------------------------------------------------------\u001b[0m",
      "\u001b[1;31mTypeError\u001b[0m                                 Traceback (most recent call last)",
      "\u001b[1;32mc:\\Users\\adity\\Desktop\\Demo\\Python_Basics\\Class4.ipynb Cell 18\u001b[0m line \u001b[0;36m6\n\u001b[0;32m      <a href='vscode-notebook-cell:/c%3A/Users/adity/Desktop/Demo/Python_Basics/Class4.ipynb#X23sZmlsZQ%3D%3D?line=2'>3</a>\u001b[0m name \u001b[39m=\u001b[39m \u001b[39m\"\u001b[39m\u001b[39mSunny\u001b[39m\u001b[39m\"\u001b[39m\n\u001b[0;32m      <a href='vscode-notebook-cell:/c%3A/Users/adity/Desktop/Demo/Python_Basics/Class4.ipynb#X23sZmlsZQ%3D%3D?line=3'>4</a>\u001b[0m \u001b[39m#replace S with F\u001b[39;00m\n\u001b[1;32m----> <a href='vscode-notebook-cell:/c%3A/Users/adity/Desktop/Demo/Python_Basics/Class4.ipynb#X23sZmlsZQ%3D%3D?line=5'>6</a>\u001b[0m name[\u001b[39m0\u001b[39;49m] \u001b[39m=\u001b[39m \u001b[39m\"\u001b[39m\u001b[39mF\u001b[39m\u001b[39m\"\u001b[39m\n\u001b[0;32m      <a href='vscode-notebook-cell:/c%3A/Users/adity/Desktop/Demo/Python_Basics/Class4.ipynb#X23sZmlsZQ%3D%3D?line=7'>8</a>\u001b[0m \u001b[39m# Strings are not mutable\u001b[39;00m\n",
      "\u001b[1;31mTypeError\u001b[0m: 'str' object does not support item assignment"
     ]
    }
   ],
   "source": [
    "# Mutability (which is subject to change or which can be changed)\n",
    "\n",
    "name = \"Sunny\"\n",
    "#replace S with F\n",
    "\n",
    "name[0] = \"F\"\n",
    "\n",
    "# Strings are not mutable"
   ]
  },
  {
   "cell_type": "code",
   "execution_count": 32,
   "metadata": {},
   "outputs": [
    {
     "data": {
      "text/plain": [
       "'Funny'"
      ]
     },
     "execution_count": 32,
     "metadata": {},
     "output_type": "execute_result"
    }
   ],
   "source": [
    "name = \"F\" + name[1:]\n",
    "name"
   ]
  },
  {
   "cell_type": "code",
   "execution_count": 33,
   "metadata": {},
   "outputs": [
    {
     "name": "stdout",
     "output_type": "stream",
     "text": [
      "Funnyy\n"
     ]
    }
   ],
   "source": [
    "s = name.replace(\"y\",\"yy\")\n",
    "print(s)"
   ]
  },
  {
   "cell_type": "code",
   "execution_count": 35,
   "metadata": {},
   "outputs": [
    {
     "name": "stdout",
     "output_type": "stream",
     "text": [
      "John Jacob\n"
     ]
    }
   ],
   "source": [
    "j = \"Alex Jacob\"\n",
    "j = j.replace(\"Alex\",\"John\")\n",
    "print(j)"
   ]
  },
  {
   "cell_type": "code",
   "execution_count": 37,
   "metadata": {},
   "outputs": [
    {
     "data": {
      "text/plain": [
       "4"
      ]
     },
     "execution_count": 37,
     "metadata": {},
     "output_type": "execute_result"
    }
   ],
   "source": [
    "# Lenght of String\n",
    "\n",
    "k = \"ALex\"\n",
    "len(k)\n",
    "#it gives total number of characters"
   ]
  },
  {
   "cell_type": "code",
   "execution_count": 39,
   "metadata": {},
   "outputs": [
    {
     "data": {
      "text/plain": [
       "4"
      ]
     },
     "execution_count": 39,
     "metadata": {},
     "output_type": "execute_result"
    }
   ],
   "source": [
    "# Example\n",
    "f = \"       Alex     \"\n",
    "# find the lengh of the name Alex\n",
    "\n",
    "len(f.replace(\" \",\"\"))"
   ]
  },
  {
   "cell_type": "code",
   "execution_count": null,
   "metadata": {},
   "outputs": [],
   "source": [
    "\"\"\"\n",
    "Till Now\n",
    "1. String Indexing\n",
    "2. String Slicing\n",
    "3. String Skipping\n",
    "4. String Reversal\n",
    "5. String Mutablity - String is immutable coz we cannot change the character of the string directly using index numbers.\n",
    "6. String Replace method\n",
    "7. String Length method\n",
    "\"\"\""
   ]
  },
  {
   "cell_type": "code",
   "execution_count": 43,
   "metadata": {},
   "outputs": [
    {
     "name": "stdout",
     "output_type": "stream",
     "text": [
      "l\n",
      "lex\n",
      "lxne ono\n",
      "nosnhoJ rednexelA\n",
      "Alex Johnson\n",
      "17\n"
     ]
    },
    {
     "ename": "TypeError",
     "evalue": "'str' object does not support item assignment",
     "output_type": "error",
     "traceback": [
      "\u001b[1;31m---------------------------------------------------------------------------\u001b[0m",
      "\u001b[1;31mTypeError\u001b[0m                                 Traceback (most recent call last)",
      "\u001b[1;32mc:\\Users\\adity\\Desktop\\Demo\\Python_Basics\\Class4.ipynb Cell 25\u001b[0m line \u001b[0;36m1\n\u001b[0;32m     <a href='vscode-notebook-cell:/c%3A/Users/adity/Desktop/Demo/Python_Basics/Class4.ipynb#X35sZmlsZQ%3D%3D?line=10'>11</a>\u001b[0m \u001b[39mprint\u001b[39m(student_name\u001b[39m.\u001b[39mreplace(\u001b[39m\"\u001b[39m\u001b[39mAlexender\u001b[39m\u001b[39m\"\u001b[39m, \u001b[39m\"\u001b[39m\u001b[39mAlex\u001b[39m\u001b[39m\"\u001b[39m)) \u001b[39m# string replace method\u001b[39;00m\n\u001b[0;32m     <a href='vscode-notebook-cell:/c%3A/Users/adity/Desktop/Demo/Python_Basics/Class4.ipynb#X35sZmlsZQ%3D%3D?line=12'>13</a>\u001b[0m \u001b[39mprint\u001b[39m(\u001b[39mlen\u001b[39m(student_name)) \u001b[39m# string upper method\u001b[39;00m\n\u001b[1;32m---> <a href='vscode-notebook-cell:/c%3A/Users/adity/Desktop/Demo/Python_Basics/Class4.ipynb#X35sZmlsZQ%3D%3D?line=14'>15</a>\u001b[0m student_name [\u001b[39m0\u001b[39;49m] \u001b[39m=\u001b[39m \u001b[39m\"\u001b[39m\u001b[39mF\u001b[39m\u001b[39m\"\u001b[39m\n",
      "\u001b[1;31mTypeError\u001b[0m: 'str' object does not support item assignment"
     ]
    }
   ],
   "source": [
    "student_name = \"Alexender Johnson\"\n",
    "\n",
    "print(student_name[1]) # string indexing\n",
    "\n",
    "print(student_name[1:4]) # string slicing\n",
    "\n",
    "print(student_name[1::2]) # string skipping\n",
    "\n",
    "print(student_name[::-1]) # string reversal\n",
    "\n",
    "print(student_name.replace(\"Alexender\", \"Alex\")) # string replace method\n",
    "\n",
    "print(len(student_name)) # string upper method\n",
    "\n",
    "student_name [0] = \"F\""
   ]
  },
  {
   "cell_type": "code",
   "execution_count": 45,
   "metadata": {},
   "outputs": [
    {
     "data": {
      "text/plain": [
       "3"
      ]
     },
     "execution_count": 45,
     "metadata": {},
     "output_type": "execute_result"
    }
   ],
   "source": [
    "# Count Soecific Characters in String\n",
    "\n",
    "name = \"Alexxx\"\n",
    "\n",
    "name.count(\"x\")\n",
    "#counts the number of x in the string Alexxx"
   ]
  },
  {
   "cell_type": "code",
   "execution_count": 46,
   "metadata": {},
   "outputs": [
    {
     "data": {
      "text/plain": [
       "['Alex', 'John', 'Jacob']"
      ]
     },
     "execution_count": 46,
     "metadata": {},
     "output_type": "execute_result"
    }
   ],
   "source": [
    "# Split Operation\n",
    "\n",
    "k = \"Alex John Jacob\"\n",
    "\n",
    "k.split(\" \")\n",
    "# spliting with the help of space"
   ]
  },
  {
   "cell_type": "code",
   "execution_count": 47,
   "metadata": {},
   "outputs": [
    {
     "name": "stdout",
     "output_type": "stream",
     "text": [
      "\n",
      "first_name = Alex\n",
      "middle_name = John\n",
      "last_name = Jacob\n",
      "\n"
     ]
    }
   ],
   "source": [
    "first_name, middle_name, last_name = k.split(\" \")\n",
    "\n",
    "print(f\"\"\"\n",
    "first_name = {first_name}\n",
    "middle_name = {middle_name}\n",
    "last_name = {last_name}\n",
    "\"\"\")\n"
   ]
  },
  {
   "cell_type": "code",
   "execution_count": 49,
   "metadata": {},
   "outputs": [
    {
     "name": "stdout",
     "output_type": "stream",
     "text": [
      "\n",
      "Date: 02\n",
      "Month: 03\n",
      "Year: 1997\n",
      "\n"
     ]
    }
   ],
   "source": [
    "DOB = \"02/03/1997\"\n",
    "\n",
    "date, month, year = DOB.split(\"/\")\n",
    "\n",
    "print(f\"\"\"\n",
    "Date: {date}\n",
    "Month: {month}\n",
    "Year: {year}\n",
    "\"\"\")\n",
    "# splitting with the help of /"
   ]
  },
  {
   "cell_type": "code",
   "execution_count": 52,
   "metadata": {},
   "outputs": [
    {
     "data": {
      "text/plain": [
       "['12', '12', '1992']"
      ]
     },
     "execution_count": 52,
     "metadata": {},
     "output_type": "execute_result"
    }
   ],
   "source": [
    "date = \"12/12/1992\"\n",
    "\n",
    "a = date.split(\"/\")\n",
    "a"
   ]
  },
  {
   "cell_type": "code",
   "execution_count": 53,
   "metadata": {},
   "outputs": [
    {
     "data": {
      "text/plain": [
       "'12'"
      ]
     },
     "execution_count": 53,
     "metadata": {},
     "output_type": "execute_result"
    }
   ],
   "source": [
    "a[1]"
   ]
  },
  {
   "cell_type": "code",
   "execution_count": 58,
   "metadata": {},
   "outputs": [
    {
     "name": "stdout",
     "output_type": "stream",
     "text": [
      "alex john\n",
      "ALEX JOHN\n",
      "Alex John\n",
      "Alex john\n",
      "aLEX jOHN\n"
     ]
    }
   ],
   "source": [
    "# Lower, uppder, title Case\n",
    "\n",
    "name = \"Alex John\"\n",
    "\n",
    "print(name.lower())\n",
    "print(name.upper())\n",
    "print(name.title())\n",
    "print(name.capitalize()) # it take first letter of of whole string capital and reat all small\n",
    "print(name.swapcase()) # it does the reverse of input"
   ]
  },
  {
   "cell_type": "code",
   "execution_count": 63,
   "metadata": {},
   "outputs": [
    {
     "name": "stdout",
     "output_type": "stream",
     "text": [
      "radar is a palindrome\n"
     ]
    }
   ],
   "source": [
    "# Palindrome example\n",
    "\n",
    "o = (input(\"Enter the word\")).lower()\n",
    "if o == o[::-1]:\n",
    "    print(f\"{o} is a palindrome\")\n",
    "else:\n",
    "    print(f\"{o} is not a palindrome\")"
   ]
  },
  {
   "cell_type": "code",
   "execution_count": 64,
   "metadata": {},
   "outputs": [
    {
     "data": {
      "text/plain": [
       "'A*l*e*x* *J*o*h*n'"
      ]
     },
     "execution_count": 64,
     "metadata": {},
     "output_type": "execute_result"
    }
   ],
   "source": [
    "# Join Method\n",
    "\n",
    "name = \"Alex John\"\n",
    "\"*\".join(name)\n",
    "# it joins each and every element with * "
   ]
  },
  {
   "cell_type": "code",
   "execution_count": 65,
   "metadata": {},
   "outputs": [
    {
     "data": {
      "text/plain": [
       "'A_l_e_x_ _J_o_h_n'"
      ]
     },
     "execution_count": 65,
     "metadata": {},
     "output_type": "execute_result"
    }
   ],
   "source": [
    "name = \"Alex John\"\n",
    "\"_\".join(name)\n",
    "# it joins each and every element with _ "
   ]
  },
  {
   "cell_type": "code",
   "execution_count": 66,
   "metadata": {},
   "outputs": [
    {
     "ename": "TypeError",
     "evalue": "join() takes exactly one argument (2 given)",
     "output_type": "error",
     "traceback": [
      "\u001b[1;31m---------------------------------------------------------------------------\u001b[0m",
      "\u001b[1;31mTypeError\u001b[0m                                 Traceback (most recent call last)",
      "\u001b[1;32mc:\\Users\\adity\\Desktop\\Demo\\Python_Basics\\Class4.ipynb Cell 36\u001b[0m line \u001b[0;36m4\n\u001b[0;32m      <a href='vscode-notebook-cell:/c%3A/Users/adity/Desktop/Demo/Python_Basics/Class4.ipynb#X54sZmlsZQ%3D%3D?line=0'>1</a>\u001b[0m first_name \u001b[39m=\u001b[39m \u001b[39m\"\u001b[39m\u001b[39mAlex\u001b[39m\u001b[39m\"\u001b[39m\n\u001b[0;32m      <a href='vscode-notebook-cell:/c%3A/Users/adity/Desktop/Demo/Python_Basics/Class4.ipynb#X54sZmlsZQ%3D%3D?line=1'>2</a>\u001b[0m last_name \u001b[39m=\u001b[39m \u001b[39m\"\u001b[39m\u001b[39mJohn\u001b[39m\u001b[39m\"\u001b[39m\n\u001b[1;32m----> <a href='vscode-notebook-cell:/c%3A/Users/adity/Desktop/Demo/Python_Basics/Class4.ipynb#X54sZmlsZQ%3D%3D?line=3'>4</a>\u001b[0m \u001b[39m\"\u001b[39;49m\u001b[39m \u001b[39;49m\u001b[39m\"\u001b[39;49m\u001b[39m.\u001b[39;49mjoin(first_name, last_name)\n",
      "\u001b[1;31mTypeError\u001b[0m: join() takes exactly one argument (2 given)"
     ]
    }
   ],
   "source": [
    "first_name = \"Alex\"\n",
    "last_name = \"John\"\n",
    "\n",
    "\" \".join(first_name, last_name)"
   ]
  },
  {
   "cell_type": "code",
   "execution_count": 67,
   "metadata": {},
   "outputs": [
    {
     "data": {
      "text/plain": [
       "'nhoJ xelA'"
      ]
     },
     "execution_count": 67,
     "metadata": {},
     "output_type": "execute_result"
    }
   ],
   "source": [
    "#alternative to string revarsal\n",
    "\n",
    "name = \"Alex John\"\n",
    "\n",
    "\"\".join(reversed(name)) "
   ]
  },
  {
   "cell_type": "code",
   "execution_count": 68,
   "metadata": {},
   "outputs": [
    {
     "data": {
      "text/plain": [
       "'Alex'"
      ]
     },
     "execution_count": 68,
     "metadata": {},
     "output_type": "execute_result"
    }
   ],
   "source": [
    "# Strip - Remove the extra spaces from front and back of the string\n",
    "\n",
    "name = \"   Alex   \"\n",
    "\n",
    "name.strip()"
   ]
  },
  {
   "cell_type": "code",
   "execution_count": 69,
   "metadata": {},
   "outputs": [
    {
     "data": {
      "text/plain": [
       "'Alex   '"
      ]
     },
     "execution_count": 69,
     "metadata": {},
     "output_type": "execute_result"
    }
   ],
   "source": [
    "#left strip/left trim\n",
    "\n",
    "name.lstrip()"
   ]
  },
  {
   "cell_type": "code",
   "execution_count": 71,
   "metadata": {},
   "outputs": [
    {
     "data": {
      "text/plain": [
       "'   Alex'"
      ]
     },
     "execution_count": 71,
     "metadata": {},
     "output_type": "execute_result"
    }
   ],
   "source": [
    "#right strip/ right trim\n",
    "\n",
    "name.rstrip()"
   ]
  },
  {
   "cell_type": "code",
   "execution_count": 76,
   "metadata": {},
   "outputs": [
    {
     "name": "stdout",
     "output_type": "stream",
     "text": [
      "Alex====\n",
      "Alex====\n",
      "+++Alex\n"
     ]
    },
    {
     "ename": "TypeError",
     "evalue": "strip expected at most 1 argument, got 2",
     "output_type": "error",
     "traceback": [
      "\u001b[1;31m---------------------------------------------------------------------------\u001b[0m",
      "\u001b[1;31mTypeError\u001b[0m                                 Traceback (most recent call last)",
      "\u001b[1;32mc:\\Users\\adity\\Desktop\\Demo\\Python_Basics\\Class4.ipynb Cell 41\u001b[0m line \u001b[0;36m6\n\u001b[0;32m      <a href='vscode-notebook-cell:/c%3A/Users/adity/Desktop/Demo/Python_Basics/Class4.ipynb#X63sZmlsZQ%3D%3D?line=3'>4</a>\u001b[0m \u001b[39mprint\u001b[39m(name\u001b[39m.\u001b[39mlstrip(\u001b[39m\"\u001b[39m\u001b[39m+\u001b[39m\u001b[39m\"\u001b[39m))\n\u001b[0;32m      <a href='vscode-notebook-cell:/c%3A/Users/adity/Desktop/Demo/Python_Basics/Class4.ipynb#X63sZmlsZQ%3D%3D?line=4'>5</a>\u001b[0m \u001b[39mprint\u001b[39m(name\u001b[39m.\u001b[39mrstrip(\u001b[39m\"\u001b[39m\u001b[39m=\u001b[39m\u001b[39m\"\u001b[39m))\n\u001b[1;32m----> <a href='vscode-notebook-cell:/c%3A/Users/adity/Desktop/Demo/Python_Basics/Class4.ipynb#X63sZmlsZQ%3D%3D?line=5'>6</a>\u001b[0m \u001b[39mprint\u001b[39m(name\u001b[39m.\u001b[39;49mstrip(\u001b[39m\"\u001b[39;49m\u001b[39m+\u001b[39;49m\u001b[39m\"\u001b[39;49m,\u001b[39m\"\u001b[39;49m\u001b[39m=\u001b[39;49m\u001b[39m\"\u001b[39;49m)) \u001b[39m# it takes only one argument\u001b[39;00m\n",
      "\u001b[1;31mTypeError\u001b[0m: strip expected at most 1 argument, got 2"
     ]
    }
   ],
   "source": [
    "name = \"+++Alex====\"\n",
    "\n",
    "print(name.strip(\"+\"))\n",
    "print(name.lstrip(\"+\"))\n",
    "print(name.rstrip(\"=\"))\n",
    "print(name.strip(\"+\",\"=\")) # it takes only one argument"
   ]
  },
  {
   "cell_type": "code",
   "execution_count": 77,
   "metadata": {},
   "outputs": [
    {
     "data": {
      "text/plain": [
       "'###Alex###'"
      ]
     },
     "execution_count": 77,
     "metadata": {},
     "output_type": "execute_result"
    }
   ],
   "source": [
    "# Formatting\n",
    "\n",
    "name = \"Alex\"\n",
    "\n",
    "name.center(10,\"#\")\n",
    "# it makes sure that total lenght is 10 and put the name Alex in the middle"
   ]
  },
  {
   "cell_type": "code",
   "execution_count": 78,
   "metadata": {},
   "outputs": [
    {
     "data": {
      "text/plain": [
       "'##Alexx###'"
      ]
     },
     "execution_count": 78,
     "metadata": {},
     "output_type": "execute_result"
    }
   ],
   "source": [
    "name = \"Alexx\"\n",
    "\n",
    "name.center(10,\"#\")"
   ]
  },
  {
   "cell_type": "code",
   "execution_count": 93,
   "metadata": {},
   "outputs": [
    {
     "name": "stdout",
     "output_type": "stream",
     "text": [
      "True\n",
      "False\n",
      "False\n"
     ]
    }
   ],
   "source": [
    "# Checking string cases\n",
    "\n",
    "name = \"ALEX\"\n",
    "\n",
    "print(name.isupper())\n",
    "print(name.islower())\n",
    "print(name.istitle())"
   ]
  },
  {
   "cell_type": "code",
   "execution_count": 90,
   "metadata": {},
   "outputs": [
    {
     "name": "stdout",
     "output_type": "stream",
     "text": [
      "False\n"
     ]
    }
   ],
   "source": [
    "#Checking for Spaces \n",
    "\n",
    "name = \"Alex   \"\n",
    "print(name.isspace())\n",
    "# it gives false coz it is only checking for the space."
   ]
  },
  {
   "cell_type": "code",
   "execution_count": 92,
   "metadata": {},
   "outputs": [
    {
     "name": "stdout",
     "output_type": "stream",
     "text": [
      "True\n"
     ]
    }
   ],
   "source": [
    "name = \" \"\n",
    "print(name.isspace())\n",
    "#here is only space hence true."
   ]
  },
  {
   "cell_type": "code",
   "execution_count": 97,
   "metadata": {},
   "outputs": [
    {
     "name": "stdout",
     "output_type": "stream",
     "text": [
      "Will auto correct it for you\n",
      "Alex\n"
     ]
    }
   ],
   "source": [
    "# example\n",
    "\n",
    "name = input(\"Enter your name: \")\n",
    "\n",
    "if name.istitle():\n",
    "    print(\"in correct format\")\n",
    "else:\n",
    "    print(\"Will auto correct it for you\")\n",
    "    print(name.title())"
   ]
  },
  {
   "cell_type": "code",
   "execution_count": 98,
   "metadata": {},
   "outputs": [
    {
     "name": "stdout",
     "output_type": "stream",
     "text": [
      "Wrong input, Pls try again\n"
     ]
    }
   ],
   "source": [
    "name = input(\"Enter your name: \")\n",
    "\n",
    "if name.isspace():\n",
    "    print(\"Wrong input, Pls try again\")\n",
    "elif name.istitle():\n",
    "    print(\"in correct format\")\n",
    "else:\n",
    "    print(\"Will auto correct it for you\")\n",
    "    print(name.title())"
   ]
  },
  {
   "cell_type": "code",
   "execution_count": 99,
   "metadata": {},
   "outputs": [
    {
     "data": {
      "text/plain": [
       "False"
      ]
     },
     "execution_count": 99,
     "metadata": {},
     "output_type": "execute_result"
    }
   ],
   "source": [
    "# checking for digit\n",
    "\n",
    "mobile_number = \"98877sssccdf\"\n",
    "mobile_number.isdigit()"
   ]
  },
  {
   "cell_type": "code",
   "execution_count": 105,
   "metadata": {},
   "outputs": [
    {
     "name": "stdout",
     "output_type": "stream",
     "text": [
      "Phone Number: 8555202324\n",
      "Your phone number is valid\n"
     ]
    }
   ],
   "source": [
    "# example \n",
    "\n",
    "mob_no = input(\"Enter your mobile phone number: \")\n",
    "\n",
    "print(f\"Phone Number: {mob_no}\")\n",
    "if mob_no.isdigit() and len(mob_no)==10 and mob_no != \"0000000000\":\n",
    "    print(\"Your phone number is valid\")\n",
    "else:\n",
    "    print(\"Your phone number is invalid\")    "
   ]
  },
  {
   "cell_type": "code",
   "execution_count": 109,
   "metadata": {},
   "outputs": [
    {
     "name": "stdout",
     "output_type": "stream",
     "text": [
      "Phone Number: +9185552020000\n",
      "Your phone number is invalid\n"
     ]
    }
   ],
   "source": [
    "# write to code to validate Indian Mobile phone number\n",
    "\n",
    "mob_no = input(\"Enter your mobile phone number with country code: \")\n",
    "print(f\"Phone Number: {mob_no}\")\n",
    "\n",
    "if mob_no.startswith(\"+91\") and mob_no[1:].isdigit() and len(mob_no)==13 and not mob_no.count(\"0\")>7:\n",
    "    print(\"Your phone number is valid\")\n",
    "else:\n",
    "    print(\"Your phone number is invalid\")    "
   ]
  },
  {
   "cell_type": "code",
   "execution_count": 1,
   "metadata": {},
   "outputs": [
    {
     "data": {
      "text/plain": [
       "True"
      ]
     },
     "execution_count": 1,
     "metadata": {},
     "output_type": "execute_result"
    }
   ],
   "source": [
    "PAN_NUMBER = \"EXYUP2357X\"\n",
    "PAN_NUMBER.isalnum() # check for aplha numeric case"
   ]
  },
  {
   "cell_type": "code",
   "execution_count": 2,
   "metadata": {},
   "outputs": [
    {
     "data": {
      "text/plain": [
       "True"
      ]
     },
     "execution_count": 2,
     "metadata": {},
     "output_type": "execute_result"
    }
   ],
   "source": [
    "PAN_NUM = \"2345637890\"\n",
    "PAN_NUM.isalnum() # check for aplabets OR numeric case"
   ]
  },
  {
   "cell_type": "code",
   "execution_count": 3,
   "metadata": {},
   "outputs": [
    {
     "data": {
      "text/plain": [
       "True"
      ]
     },
     "execution_count": 3,
     "metadata": {},
     "output_type": "execute_result"
    }
   ],
   "source": [
    "Pan_No = \"aerdvtgyeo\"\n",
    "Pan_No.isalnum() #check for aplhabets OR numeric case"
   ]
  },
  {
   "cell_type": "code",
   "execution_count": 8,
   "metadata": {},
   "outputs": [
    {
     "data": {
      "text/plain": [
       "False"
      ]
     },
     "execution_count": 8,
     "metadata": {},
     "output_type": "execute_result"
    }
   ],
   "source": [
    "name = \"alex john\"\n",
    "name.isalpha() #its giving false coz space is not a alphabet or numeric case"
   ]
  },
  {
   "cell_type": "code",
   "execution_count": 9,
   "metadata": {},
   "outputs": [
    {
     "data": {
      "text/plain": [
       "False"
      ]
     },
     "execution_count": 9,
     "metadata": {},
     "output_type": "execute_result"
    }
   ],
   "source": [
    "name = \"John**Jacob\"\n",
    "name.isalpha() # its giving false coz * is not aplhabet or numeric case"
   ]
  },
  {
   "cell_type": "code",
   "execution_count": 6,
   "metadata": {},
   "outputs": [
    {
     "name": "stdout",
     "output_type": "stream",
     "text": [
      "DXMPP4622P is a valid pan number\n"
     ]
    }
   ],
   "source": [
    "# check if pan number is valid or not\n",
    "\n",
    "pan_num = (input(\"Enter your pan number: \").upper())\n",
    "\n",
    "if len(pan_num) == 10 and (pan_num[:5] and pan_num[9]).isalpha() and pan_num[5:9].isnumeric():\n",
    "    print(f\"{pan_num} is a valid pan number\")\n",
    "else:\n",
    "    print(f\"{pan_num} is not a valid pan number\")"
   ]
  }
 ],
 "metadata": {
  "kernelspec": {
   "display_name": "env1",
   "language": "python",
   "name": "python3"
  },
  "language_info": {
   "codemirror_mode": {
    "name": "ipython",
    "version": 3
   },
   "file_extension": ".py",
   "mimetype": "text/x-python",
   "name": "python",
   "nbconvert_exporter": "python",
   "pygments_lexer": "ipython3",
   "version": "3.8.18"
  }
 },
 "nbformat": 4,
 "nbformat_minor": 2
}
