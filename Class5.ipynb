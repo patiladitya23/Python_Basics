{
 "cells": [
  {
   "cell_type": "code",
   "execution_count": null,
   "metadata": {},
   "outputs": [],
   "source": [
    "\"\"\"\n",
    "Agenda\n",
    "\n",
    "1. Control Flow Statements\n",
    "    if else\n",
    "    if elif else\n",
    "    nested if else\n",
    "    short hand (single line) if else [Not recommended]\n",
    "2. Loops in Python\n",
    "    for loop\n",
    "    while loop\n",
    "\n",
    "\"\"\""
   ]
  },
  {
   "cell_type": "code",
   "execution_count": null,
   "metadata": {},
   "outputs": [],
   "source": [
    "# if else\n",
    "\n",
    "# Palindrome Sequence (reverse)\n",
    "\n",
    "'''\n",
    "Read it from left or right it will be same\n",
    "e.g. MOM, MADAM, BOB\n",
    "'''\n",
    "\n",
    "data = input(\"Enter the string: \")\n",
    "print (f\"String: {data}\")\n",
    "\n",
    "if data == data[::-1]:\n",
    "    print(f\"{data} is Palindrome\")\n",
    "else:\n",
    "    print(\"{data} is Not Palindrome\")"
   ]
  },
  {
   "cell_type": "code",
   "execution_count": null,
   "metadata": {},
   "outputs": [],
   "source": [
    "# if elif\n",
    "\n",
    "'''\n",
    "Online food orders\n",
    "if you order more than Rs. 499\n",
    "DISCOUNT = 20%\n",
    "if you order more than Rs. 999\n",
    "DISCOUNT = 30%\n",
    "if you order more than Rs. 1499\n",
    "DISCOUNT = 40%\n",
    "\n",
    "in such cases if elif statements are used\n",
    "\n",
    "'''"
   ]
  },
  {
   "cell_type": "code",
   "execution_count": 8,
   "metadata": {},
   "outputs": [
    {
     "name": "stdout",
     "output_type": "stream",
     "text": [
      "Cart total: 690\n",
      "Pay amount: 552.0\n"
     ]
    }
   ],
   "source": [
    "Total_amount = 90+500+100\n",
    "print(f\"Cart total: {Total_amount}\")\n",
    "\n",
    "if Total_amount > 1499:\n",
    "    price_after_discount = Total_amount * 60/100\n",
    "    print(f\"Price after discount: {price_after_discount}\")\n",
    "elif 999 < Total_amount < 1499:\n",
    "    price_after_discount = Total_amount * 70/100\n",
    "    print(f\"Pay amount: {price_after_discount}\")\n",
    "elif 499 < Total_amount < 999:\n",
    "    price_after_discount = Total_amount * 80/100\n",
    "    print(f\"Pay amount: {price_after_discount}\")\n",
    "else:\n",
    "    print(f\"Pay amount: {Total_amount}\")"
   ]
  },
  {
   "cell_type": "code",
   "execution_count": 9,
   "metadata": {},
   "outputs": [
    {
     "name": "stdout",
     "output_type": "stream",
     "text": [
      "Value is Zero\n"
     ]
    }
   ],
   "source": [
    "#Nested if else\n",
    "\n",
    "#print if the number id negative or positive\n",
    "\n",
    "val = float(input(\"Enter the number: \"))\n",
    "\n",
    "if val >= 0:\n",
    "    if val == 0:\n",
    "        print(\"Value is Zero\")\n",
    "    else:\n",
    "        print(\"Value is Positive\")\n",
    "else:\n",
    "    print(\"Value is Negative\")"
   ]
  },
  {
   "cell_type": "code",
   "execution_count": 10,
   "metadata": {},
   "outputs": [
    {
     "name": "stdout",
     "output_type": "stream",
     "text": [
      "NO\n"
     ]
    }
   ],
   "source": [
    "# Single line if else statement\n",
    "# Not recommended in production code or in a company\n",
    "\n",
    "# print YES if number is greater than 99\n",
    "\n",
    "val = float(input(\"Enter the number: \"))\n",
    "\n",
    "if val > 99: print(\"YES\")\n",
    "else: print(\"NO\") "
   ]
  },
  {
   "cell_type": "code",
   "execution_count": 11,
   "metadata": {},
   "outputs": [
    {
     "name": "stdout",
     "output_type": "stream",
     "text": [
      "YES\n"
     ]
    }
   ],
   "source": [
    "#Short hand for if else\n",
    "\n",
    "val = float(input(\"Enter the number: \"))\n",
    "print(\"YES\" if val > 99 else \"NO\")"
   ]
  },
  {
   "cell_type": "code",
   "execution_count": null,
   "metadata": {},
   "outputs": [],
   "source": [
    "# LOOPS\n",
    "\n"
   ]
  }
 ],
 "metadata": {
  "kernelspec": {
   "display_name": "env1",
   "language": "python",
   "name": "python3"
  },
  "language_info": {
   "codemirror_mode": {
    "name": "ipython",
    "version": 3
   },
   "file_extension": ".py",
   "mimetype": "text/x-python",
   "name": "python",
   "nbconvert_exporter": "python",
   "pygments_lexer": "ipython3",
   "version": "3.8.18"
  }
 },
 "nbformat": 4,
 "nbformat_minor": 2
}
