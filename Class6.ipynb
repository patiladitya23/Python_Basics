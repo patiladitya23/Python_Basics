{
 "cells": [
  {
   "cell_type": "markdown",
   "metadata": {},
   "source": [
    "\n",
    "# Agenda\n",
    "\n",
    "# In built Data Structures in Python\n",
    "# 1. List\n",
    "# 2. Tuple\n",
    "# 3. Set\n"
   ]
  },
  {
   "cell_type": "markdown",
   "metadata": {},
   "source": [
    "# --------------------------------------------------------------------------"
   ]
  },
  {
   "cell_type": "markdown",
   "metadata": {},
   "source": [
    "# LIST"
   ]
  },
  {
   "cell_type": "code",
   "execution_count": 55,
   "metadata": {},
   "outputs": [
    {
     "data": {
      "text/plain": [
       "list"
      ]
     },
     "execution_count": 55,
     "metadata": {},
     "output_type": "execute_result"
    }
   ],
   "source": [
    "\n",
    "A = [1,2,3,4] # list is collection of diffrent items/elements\n",
    "type(A)"
   ]
  },
  {
   "cell_type": "code",
   "execution_count": 26,
   "metadata": {},
   "outputs": [
    {
     "data": {
      "text/plain": [
       "list"
      ]
     },
     "execution_count": 26,
     "metadata": {},
     "output_type": "execute_result"
    }
   ],
   "source": [
    "B = [1,\"John\",2.5,3+2j] #list can have different types of elements\n",
    "type(B)"
   ]
  },
  {
   "cell_type": "code",
   "execution_count": 27,
   "metadata": {},
   "outputs": [
    {
     "data": {
      "text/plain": [
       "'\\nWhat is the difference between list of python and array of c/c++ ?\\n-> Array contains elements of same data type and list of python can contain elements of different data types.\\n'"
      ]
     },
     "execution_count": 27,
     "metadata": {},
     "output_type": "execute_result"
    }
   ],
   "source": [
    "\"\"\"\n",
    "What is the difference between list of python and array of c/c++ ?\n",
    "-> Array contains elements of same data type and list of python can contain elements of different data types.\n",
    "\"\"\""
   ]
  },
  {
   "cell_type": "markdown",
   "metadata": {},
   "source": [
    "# Printing elements of list"
   ]
  },
  {
   "cell_type": "code",
   "execution_count": 28,
   "metadata": {},
   "outputs": [
    {
     "name": "stdout",
     "output_type": "stream",
     "text": [
      "1\n",
      "2\n",
      "3\n",
      "4\n"
     ]
    }
   ],
   "source": [
    "\n",
    "A = [1,2,3,4]\n",
    "for elements in A:\n",
    "    print(elements)"
   ]
  },
  {
   "cell_type": "markdown",
   "metadata": {},
   "source": [
    "# lenght of list"
   ]
  },
  {
   "cell_type": "code",
   "execution_count": 29,
   "metadata": {},
   "outputs": [
    {
     "data": {
      "text/plain": [
       "4"
      ]
     },
     "execution_count": 29,
     "metadata": {},
     "output_type": "execute_result"
    }
   ],
   "source": [
    "\n",
    "A = [1,2,3,4]\n",
    "len(A)"
   ]
  },
  {
   "cell_type": "code",
   "execution_count": 30,
   "metadata": {},
   "outputs": [
    {
     "name": "stdout",
     "output_type": "stream",
     "text": [
      "Element 1: 1 & Data type of element 1: <class 'int'>\n",
      "Element 2: John & Data type of element 2: <class 'str'>\n",
      "Element 3: 2.5 & Data type of element 3: <class 'float'>\n",
      "Element 4: (3+2j) & Data type of element 4: <class 'complex'>\n"
     ]
    }
   ],
   "source": [
    "B = [1,\"John\",2.5,3+2j]\n",
    "for i in range(len(B)):\n",
    "    print(f\"Element {i+1}: {B[i]} & Data type of element {i+1}: {type(B[i])}\")"
   ]
  },
  {
   "cell_type": "code",
   "execution_count": null,
   "metadata": {},
   "outputs": [],
   "source": []
  },
  {
   "cell_type": "markdown",
   "metadata": {},
   "source": [
    "# Indexing and Slicing of list"
   ]
  },
  {
   "cell_type": "code",
   "execution_count": 31,
   "metadata": {},
   "outputs": [
    {
     "data": {
      "text/plain": [
       "[3, 4, 5, 6, 7, 8, 9, 10]"
      ]
     },
     "execution_count": 31,
     "metadata": {},
     "output_type": "execute_result"
    }
   ],
   "source": [
    "\n",
    "A = [1,2,3,4,5,6,7,8,9,10]\n",
    "A[2:]"
   ]
  },
  {
   "cell_type": "code",
   "execution_count": 32,
   "metadata": {},
   "outputs": [
    {
     "data": {
      "text/plain": [
       "[1, 3, 5, 7]"
      ]
     },
     "execution_count": 32,
     "metadata": {},
     "output_type": "execute_result"
    }
   ],
   "source": [
    "A = [1,2,3,4,5,6,7,8,9,10]\n",
    "A[0:8:2]"
   ]
  },
  {
   "cell_type": "code",
   "execution_count": 33,
   "metadata": {},
   "outputs": [
    {
     "name": "stdout",
     "output_type": "stream",
     "text": [
      "0 1\n",
      "2 3\n",
      "4 5\n",
      "6 7\n"
     ]
    }
   ],
   "source": [
    "A = [1,2,3,4,5,6,7,8,9,10] \n",
    "for i in range(0,8,2): #we can perform same thing \"A[0:8:2]\" using for loop also \n",
    "    print(i, A[i])"
   ]
  },
  {
   "cell_type": "code",
   "execution_count": 34,
   "metadata": {},
   "outputs": [
    {
     "data": {
      "text/plain": [
       "[10, 9, 8, 7, 6, 5, 4, 3, 2, 1]"
      ]
     },
     "execution_count": 34,
     "metadata": {},
     "output_type": "execute_result"
    }
   ],
   "source": [
    "A = [1,2,3,4,5,6,7,8,9,10] \n",
    "A[::-1] #negative indexing (revering the list in python)"
   ]
  },
  {
   "cell_type": "code",
   "execution_count": 35,
   "metadata": {},
   "outputs": [
    {
     "name": "stdout",
     "output_type": "stream",
     "text": [
      "5\n",
      "4\n",
      "3\n",
      "2\n",
      "1\n"
     ]
    }
   ],
   "source": [
    "c = [1,2,3,4,5]\n",
    "for i in range (-1,-len(c)-1,-1): # second end of the range is excluded hence we have used -len(c)-1\n",
    "    print(c[i])"
   ]
  },
  {
   "cell_type": "markdown",
   "metadata": {},
   "source": [
    "# Updating List elements at specific index also called as mutable operations"
   ]
  },
  {
   "cell_type": "code",
   "execution_count": 36,
   "metadata": {},
   "outputs": [
    {
     "name": "stdout",
     "output_type": "stream",
     "text": [
      "Orginal List: [1, 2, 3]\n",
      "list after updating 0th index value: [4, 2, 3]\n"
     ]
    }
   ],
   "source": [
    "\n",
    "b = [1,2,3]\n",
    "print(f\"Orginal List: {b}\")\n",
    "b[0]=4\n",
    "print(f\"list after updating 0th index value: {b}\")"
   ]
  },
  {
   "cell_type": "code",
   "execution_count": 37,
   "metadata": {},
   "outputs": [
    {
     "data": {
      "text/plain": [
       "[4, 'ABC', 3]"
      ]
     },
     "execution_count": 37,
     "metadata": {},
     "output_type": "execute_result"
    }
   ],
   "source": [
    "b[-2]=\"ABC\"\n",
    "b"
   ]
  },
  {
   "cell_type": "markdown",
   "metadata": {},
   "source": [
    "# concatination of Lists"
   ]
  },
  {
   "cell_type": "code",
   "execution_count": 38,
   "metadata": {},
   "outputs": [
    {
     "data": {
      "text/plain": [
       "[78, 90.22, 'xyz', 4, 'ABC', 3]"
      ]
     },
     "execution_count": 38,
     "metadata": {},
     "output_type": "execute_result"
    }
   ],
   "source": [
    "\n",
    "a = [78,90.22,'xyz']\n",
    "a+b #this operation does not change the value pf a or b as it not assigned to any of the variable."
   ]
  },
  {
   "cell_type": "code",
   "execution_count": 39,
   "metadata": {},
   "outputs": [
    {
     "data": {
      "text/plain": [
       "[78, 90.22, 'xyz', 4, 'ABC', 3]"
      ]
     },
     "execution_count": 39,
     "metadata": {},
     "output_type": "execute_result"
    }
   ],
   "source": [
    "a = a + b # this changes the value of a as a + b is stores in a\n",
    "a"
   ]
  },
  {
   "cell_type": "code",
   "execution_count": 40,
   "metadata": {},
   "outputs": [
    {
     "data": {
      "text/plain": [
       "[78, 90.22, 'xyz', 4, 'ABC', 3, 78, 90.22, 'xyz', 4, 'ABC', 3]"
      ]
     },
     "execution_count": 40,
     "metadata": {},
     "output_type": "execute_result"
    }
   ],
   "source": [
    "a*2"
   ]
  },
  {
   "cell_type": "markdown",
   "metadata": {},
   "source": [
    "# Basic List Operations"
   ]
  },
  {
   "cell_type": "markdown",
   "metadata": {},
   "source": [
    "### Length of lists"
   ]
  },
  {
   "cell_type": "code",
   "execution_count": 42,
   "metadata": {},
   "outputs": [
    {
     "data": {
      "text/plain": [
       "6"
      ]
     },
     "execution_count": 42,
     "metadata": {},
     "output_type": "execute_result"
    }
   ],
   "source": [
    "#Len()\n",
    " \n",
    "A = [1,2,3,4,5,6]\n",
    "len(A)"
   ]
  },
  {
   "cell_type": "markdown",
   "metadata": {},
   "source": [
    "### Creating a empty list"
   ]
  },
  {
   "cell_type": "code",
   "execution_count": 43,
   "metadata": {},
   "outputs": [
    {
     "data": {
      "text/plain": [
       "0"
      ]
     },
     "execution_count": 43,
     "metadata": {},
     "output_type": "execute_result"
    }
   ],
   "source": [
    "my_list = [] # not recommended method to create empty list\n",
    "len(my_list) "
   ]
  },
  {
   "cell_type": "code",
   "execution_count": 44,
   "metadata": {},
   "outputs": [
    {
     "data": {
      "text/plain": [
       "0"
      ]
     },
     "execution_count": 44,
     "metadata": {},
     "output_type": "execute_result"
    }
   ],
   "source": [
    "my_list = list() #recommanded method to create empty list\n",
    "len(my_list)"
   ]
  },
  {
   "cell_type": "code",
   "execution_count": 1,
   "metadata": {},
   "outputs": [
    {
     "name": "stdout",
     "output_type": "stream",
     "text": [
      "['a']\n"
     ]
    }
   ],
   "source": [
    "list_of_itmes = list() #empty list\n",
    "\n",
    "N = int(input(\"Number of items to purchase: \"))\n",
    "for i in range(0,N):\n",
    "    user_input = input(\"Enter the item: \")\n",
    "    list_of_itmes = list_of_itmes + [user_input] # one way to append the empty list\n",
    "\n",
    "print(list_of_itmes)"
   ]
  },
  {
   "cell_type": "code",
   "execution_count": 2,
   "metadata": {},
   "outputs": [
    {
     "name": "stdout",
     "output_type": "stream",
     "text": [
      "['a', 'b']\n"
     ]
    }
   ],
   "source": [
    "listofitems = list()\n",
    "\n",
    "N = int(input(\"Enter the number of items: \"))\n",
    "i=0\n",
    "while i < N:\n",
    "    userinput = input(\"Enter the item: \")\n",
    "    listofitems = listofitems + [userinput]\n",
    "    i = i + 1\n",
    "print(listofitems)"
   ]
  },
  {
   "cell_type": "markdown",
   "metadata": {},
   "source": [
    "### Check membership in a list -> checks if element is present in the list"
   ]
  },
  {
   "cell_type": "code",
   "execution_count": null,
   "metadata": {},
   "outputs": [
    {
     "name": "stdout",
     "output_type": "stream",
     "text": [
      "1 is in the list\n"
     ]
    }
   ],
   "source": [
    "# 1. IN -> checks if the given element is in the list.\n",
    "\n",
    "my_list = [1,2,3,4,\"a\"]\n",
    "\"a\" in listofitems  #checks if the \"a \" is in the given list or not & returns a boolean value\n",
    "\n",
    "if 1 in my_list:\n",
    "    print(\"1 is in the list\")\n",
    "else:\n",
    "    print(\"1 is not in the list\")"
   ]
  },
  {
   "cell_type": "code",
   "execution_count": null,
   "metadata": {},
   "outputs": [
    {
     "name": "stdout",
     "output_type": "stream",
     "text": [
      "b is not is the list\n",
      "'b' is been added to the list: [1, 2, 3, 'a', 'b']\n"
     ]
    }
   ],
   "source": [
    "# 2. NOT IN -> checks if given element is not in the list.\n",
    "\n",
    "abc_list = [1,2,3,\"a\"]\n",
    "if \"b\" not in abc_list:\n",
    "    print(\"b is not is the list\")\n",
    "    abc_list = abc_list + [\"b\"]\n",
    "    print(f\"'b' is been added to the list: {abc_list}\")"
   ]
  },
  {
   "cell_type": "markdown",
   "metadata": {},
   "source": [
    "### max() -> we can find max value from the given list."
   ]
  },
  {
   "cell_type": "code",
   "execution_count": null,
   "metadata": {},
   "outputs": [
    {
     "name": "stdout",
     "output_type": "stream",
     "text": [
      "sdftg\n",
      "3\n"
     ]
    },
    {
     "ename": "TypeError",
     "evalue": "'>' not supported between instances of 'int' and 'str'",
     "output_type": "error",
     "traceback": [
      "\u001b[1;31m---------------------------------------------------------------------------\u001b[0m",
      "\u001b[1;31mTypeError\u001b[0m                                 Traceback (most recent call last)",
      "\u001b[1;32mc:\\Users\\adity\\Desktop\\Demo\\Python_Basics\\Class6.ipynb Cell 26\u001b[0m line \u001b[0;36m8\n\u001b[0;32m      <a href='vscode-notebook-cell:/c%3A/Users/adity/Desktop/Demo/Python_Basics/Class6.ipynb#X35sZmlsZQ%3D%3D?line=5'>6</a>\u001b[0m \u001b[39mprint\u001b[39m(\u001b[39mmax\u001b[39m(list1))\n\u001b[0;32m      <a href='vscode-notebook-cell:/c%3A/Users/adity/Desktop/Demo/Python_Basics/Class6.ipynb#X35sZmlsZQ%3D%3D?line=6'>7</a>\u001b[0m \u001b[39mprint\u001b[39m(\u001b[39mmax\u001b[39m(list2))\n\u001b[1;32m----> <a href='vscode-notebook-cell:/c%3A/Users/adity/Desktop/Demo/Python_Basics/Class6.ipynb#X35sZmlsZQ%3D%3D?line=7'>8</a>\u001b[0m \u001b[39mprint\u001b[39m(\u001b[39mmax\u001b[39;49m(list3))\n",
      "\u001b[1;31mTypeError\u001b[0m: '>' not supported between instances of 'int' and 'str'"
     ]
    }
   ],
   "source": [
    "\n",
    "list1 = [\"abc\", \"ertt\", \"sdftg\"]\n",
    "list2 = [1,2,3]\n",
    "list3 = [\"abc\", \"ertt\", \"sdftg\",4,5,6]\n",
    "print(max(list1)) # -> return the element which is has max ASCII values \n",
    "print(max(list2)) # -> return the element which is of max value\n",
    "print(max(list3)) # -> Does not work for the list of diff data type"
   ]
  },
  {
   "cell_type": "code",
   "execution_count": null,
   "metadata": {},
   "outputs": [
    {
     "name": "stdout",
     "output_type": "stream",
     "text": [
      "j\n"
     ]
    }
   ],
   "source": [
    "list4 = [\"a\",\"b\",\"c\",\"d\",\"e\",\"f\",\"g\",\"h\",\"i\",\"j\"]\n",
    "print(max(list4)) # this return the element whose ASCII value is the highest"
   ]
  },
  {
   "cell_type": "code",
   "execution_count": null,
   "metadata": {},
   "outputs": [
    {
     "name": "stdout",
     "output_type": "stream",
     "text": [
      "d\n"
     ]
    }
   ],
   "source": [
    "list5 = [\"A\",\"b\",\"d\",\"D\"]\n",
    "print(max(list5)) # here \"d\" has the highest ASCII value"
   ]
  },
  {
   "cell_type": "code",
   "execution_count": null,
   "metadata": {},
   "outputs": [
    {
     "ename": "TypeError",
     "evalue": "'>' not supported between instances of 'complex' and 'complex'",
     "output_type": "error",
     "traceback": [
      "\u001b[1;31m---------------------------------------------------------------------------\u001b[0m",
      "\u001b[1;31mTypeError\u001b[0m                                 Traceback (most recent call last)",
      "\u001b[1;32mc:\\Users\\adity\\Desktop\\Demo\\Python_Basics\\Class6.ipynb Cell 29\u001b[0m line \u001b[0;36m2\n\u001b[0;32m      <a href='vscode-notebook-cell:/c%3A/Users/adity/Desktop/Demo/Python_Basics/Class6.ipynb#X41sZmlsZQ%3D%3D?line=0'>1</a>\u001b[0m list6 \u001b[39m=\u001b[39m [\u001b[39m1\u001b[39m\u001b[39m+\u001b[39m\u001b[39m5\u001b[39mj,\u001b[39m2\u001b[39m\u001b[39m+\u001b[39m\u001b[39m3\u001b[39mj]\n\u001b[1;32m----> <a href='vscode-notebook-cell:/c%3A/Users/adity/Desktop/Demo/Python_Basics/Class6.ipynb#X41sZmlsZQ%3D%3D?line=1'>2</a>\u001b[0m \u001b[39mprint\u001b[39m(\u001b[39mmax\u001b[39;49m(list6))\n",
      "\u001b[1;31mTypeError\u001b[0m: '>' not supported between instances of 'complex' and 'complex'"
     ]
    }
   ],
   "source": [
    "list6 = [1+5j,2+3j]\n",
    "print(max(list6)) # does not work for complex numbers"
   ]
  },
  {
   "cell_type": "markdown",
   "metadata": {},
   "source": [
    "### min() -> it gives the minimum value in the list"
   ]
  },
  {
   "cell_type": "code",
   "execution_count": 128,
   "metadata": {},
   "outputs": [
    {
     "name": "stdout",
     "output_type": "stream",
     "text": [
      "1\n"
     ]
    },
    {
     "ename": "NameError",
     "evalue": "name 'list2' is not defined",
     "output_type": "error",
     "traceback": [
      "\u001b[1;31m---------------------------------------------------------------------------\u001b[0m",
      "\u001b[1;31mNameError\u001b[0m                                 Traceback (most recent call last)",
      "Cell \u001b[1;32mIn[128], line 4\u001b[0m\n\u001b[0;32m      2\u001b[0m list1 \u001b[38;5;241m=\u001b[39m [\u001b[38;5;241m1\u001b[39m,\u001b[38;5;241m2\u001b[39m,\u001b[38;5;241m3\u001b[39m,\u001b[38;5;241m4\u001b[39m]\n\u001b[0;32m      3\u001b[0m \u001b[38;5;28mprint\u001b[39m(\u001b[38;5;28mmin\u001b[39m(list1))\n\u001b[1;32m----> 4\u001b[0m \u001b[38;5;28mprint\u001b[39m(\u001b[38;5;28mmin\u001b[39m(\u001b[43mlist2\u001b[49m))\n\u001b[0;32m      5\u001b[0m \u001b[38;5;28mprint\u001b[39m(\u001b[38;5;28mmin\u001b[39m(list3))\n",
      "\u001b[1;31mNameError\u001b[0m: name 'list2' is not defined"
     ]
    }
   ],
   "source": [
    "# syntax -> min(iterable)\n",
    "list1 = [1,2,3,4]\n",
    "print(min(list1))\n",
    "print(min(list2))\n",
    "print(min(list3))"
   ]
  },
  {
   "cell_type": "code",
   "execution_count": null,
   "metadata": {},
   "outputs": [
    {
     "name": "stdout",
     "output_type": "stream",
     "text": [
      "a\n",
      "A\n"
     ]
    },
    {
     "ename": "TypeError",
     "evalue": "'<' not supported between instances of 'complex' and 'complex'",
     "output_type": "error",
     "traceback": [
      "\u001b[1;31m---------------------------------------------------------------------------\u001b[0m",
      "\u001b[1;31mTypeError\u001b[0m                                 Traceback (most recent call last)",
      "\u001b[1;32mc:\\Users\\adity\\Desktop\\Demo\\Python_Basics\\Class6.ipynb Cell 31\u001b[0m line \u001b[0;36m3\n\u001b[0;32m      <a href='vscode-notebook-cell:/c%3A/Users/adity/Desktop/Demo/Python_Basics/Class6.ipynb#X43sZmlsZQ%3D%3D?line=0'>1</a>\u001b[0m \u001b[39mprint\u001b[39m(\u001b[39mmin\u001b[39m(list4))\n\u001b[0;32m      <a href='vscode-notebook-cell:/c%3A/Users/adity/Desktop/Demo/Python_Basics/Class6.ipynb#X43sZmlsZQ%3D%3D?line=1'>2</a>\u001b[0m \u001b[39mprint\u001b[39m(\u001b[39mmin\u001b[39m(list5))\n\u001b[1;32m----> <a href='vscode-notebook-cell:/c%3A/Users/adity/Desktop/Demo/Python_Basics/Class6.ipynb#X43sZmlsZQ%3D%3D?line=2'>3</a>\u001b[0m \u001b[39mprint\u001b[39m(\u001b[39mmin\u001b[39;49m(list6))\n",
      "\u001b[1;31mTypeError\u001b[0m: '<' not supported between instances of 'complex' and 'complex'"
     ]
    }
   ],
   "source": [
    "print(min(list4))\n",
    "print(min(list5))\n",
    "print(min(list6))"
   ]
  },
  {
   "cell_type": "code",
   "execution_count": 4,
   "metadata": {},
   "outputs": [
    {
     "name": "stdout",
     "output_type": "stream",
     "text": [
      "Element with highest length is abhiskek with length 8\n"
     ]
    }
   ],
   "source": [
    "#print the name which highest lenght in the list\n",
    "new_list = [\"bhaveen\", \"abhiskek\", \"dew\", \"dj\", \"charlie\", \"Doctor\"]\n",
    "\n",
    "max_l = 0\n",
    "name_highest_len = \"\"\n",
    "for i in new_list:\n",
    "    if len(i)>max_l:\n",
    "        max_l  = len(i)\n",
    "        name_highest_len = i\n",
    "\n",
    "print(f\"Element with highest length is {name_highest_len} with length {max_l}\")"
   ]
  },
  {
   "cell_type": "markdown",
   "metadata": {},
   "source": [
    "### append() -> appends an element to the end of the list"
   ]
  },
  {
   "cell_type": "code",
   "execution_count": 125,
   "metadata": {},
   "outputs": [
    {
     "name": "stdout",
     "output_type": "stream",
     "text": [
      "Element appended using + operator : ['a', 'b', 'c', 'element added using + operator']\n",
      "Appended element with append method : ['a', 'b', 'c', 'element added using + operator', 'appended element with append method']\n"
     ]
    }
   ],
   "source": [
    "# syntax -> list.append(elmnt)\n",
    "\n",
    "list6 = [\"a\",\"b\",\"c\"]\n",
    "# if we want to add a new element in the list then we use \"+\" here\n",
    "\n",
    "list6 = list6 + [\"element added using + operator\"]\n",
    "print(f\"Element appended using + operator : {list6}\")\n",
    "\n",
    "# Here append method can also be used to add the new element\n",
    "list6.append(\"appended element with append method\")\n",
    "print(f\"Appended element with append method : {list6}\")"
   ]
  },
  {
   "cell_type": "code",
   "execution_count": 9,
   "metadata": {},
   "outputs": [
    {
     "ename": "TypeError",
     "evalue": "append() takes exactly one argument (2 given)",
     "output_type": "error",
     "traceback": [
      "\u001b[1;31m---------------------------------------------------------------------------\u001b[0m",
      "\u001b[1;31mTypeError\u001b[0m                                 Traceback (most recent call last)",
      "Cell \u001b[1;32mIn[9], line 3\u001b[0m\n\u001b[0;32m      1\u001b[0m list7 \u001b[38;5;241m=\u001b[39m \u001b[38;5;28mlist\u001b[39m()\n\u001b[1;32m----> 3\u001b[0m \u001b[43mlist7\u001b[49m\u001b[38;5;241;43m.\u001b[39;49m\u001b[43mappend\u001b[49m\u001b[43m(\u001b[49m\u001b[38;5;124;43m\"\u001b[39;49m\u001b[38;5;124;43ma\u001b[39;49m\u001b[38;5;124;43m\"\u001b[39;49m\u001b[43m,\u001b[49m\u001b[38;5;124;43m\"\u001b[39;49m\u001b[38;5;124;43mb\u001b[39;49m\u001b[38;5;124;43m\"\u001b[39;49m\u001b[43m)\u001b[49m\n\u001b[0;32m      4\u001b[0m \u001b[38;5;28mprint\u001b[39m(list7) \u001b[38;5;66;03m# adding multiple elements does not work for append mwthod\u001b[39;00m\n\u001b[0;32m      6\u001b[0m list7\u001b[38;5;241m.\u001b[39mappend([\u001b[38;5;124m\"\u001b[39m\u001b[38;5;124ma\u001b[39m\u001b[38;5;124m\"\u001b[39m,\u001b[38;5;124m\"\u001b[39m\u001b[38;5;124ma\u001b[39m\u001b[38;5;124m\"\u001b[39m])\n",
      "\u001b[1;31mTypeError\u001b[0m: append() takes exactly one argument (2 given)"
     ]
    }
   ],
   "source": [
    "list7 = list()\n",
    "\n",
    "list7.append(\"a\",\"b\")\n",
    "print(list7) # adding multiple elements does not work for append mwthod"
   ]
  },
  {
   "cell_type": "code",
   "execution_count": 10,
   "metadata": {},
   "outputs": [
    {
     "name": "stdout",
     "output_type": "stream",
     "text": [
      "[['a', 'b']]\n"
     ]
    }
   ],
   "source": [
    "list7.append([\"a\",\"b\"])\n",
    "print(list7) # this adds list into the list"
   ]
  },
  {
   "cell_type": "markdown",
   "metadata": {},
   "source": [
    "### pop() -> removes the element at the specified position"
   ]
  },
  {
   "cell_type": "code",
   "execution_count": 124,
   "metadata": {},
   "outputs": [
    {
     "name": "stdout",
     "output_type": "stream",
     "text": [
      "Removed the element with last index without specifying the index: [1, 2, 3, 45, 'a']\n",
      "Removed the element with 0th index as it was specifed in the pop method above:[2, 3, 45, 'a']\n"
     ]
    }
   ],
   "source": [
    "# syntax -> list.pop(pos)\n",
    "\n",
    "list8 = [1,2,3,45,\"a\",\"b\"]\n",
    "\n",
    "list8.pop()\n",
    "print(f\"Removed the element with last index without specifying the index: {list8}\") # removed the element from the last index\n",
    "\n",
    "list8.pop(0)\n",
    "print(f\"Removed the element with 0th index as it was specifed in the pop method above:{list8}\") # removed element from 0th index"
   ]
  },
  {
   "cell_type": "code",
   "execution_count": 14,
   "metadata": {},
   "outputs": [
    {
     "data": {
      "text/plain": [
       "[2, 45, 'a']"
      ]
     },
     "execution_count": 14,
     "metadata": {},
     "output_type": "execute_result"
    }
   ],
   "source": [
    "list8.pop(-3)\n",
    "list8"
   ]
  },
  {
   "cell_type": "code",
   "execution_count": 26,
   "metadata": {},
   "outputs": [
    {
     "name": "stdout",
     "output_type": "stream",
     "text": [
      "[2, 4, 6, 8]\n"
     ]
    }
   ],
   "source": [
    "# remove odd numbers from the list\n",
    "list9 = [1,2,3,4,5,6,7,8,9]\n",
    "\n",
    "flag = 0\n",
    "for i in list9:\n",
    "    if i%2 != 0: # odd number here \"%\" gives remainder values\n",
    "        list9.pop(flag)\n",
    "        flag = flag + 1\n",
    "print(list9)"
   ]
  },
  {
   "cell_type": "code",
   "execution_count": 27,
   "metadata": {},
   "outputs": [
    {
     "ename": "IndexError",
     "evalue": "list index out of range",
     "output_type": "error",
     "traceback": [
      "\u001b[1;31m---------------------------------------------------------------------------\u001b[0m",
      "\u001b[1;31mIndexError\u001b[0m                                Traceback (most recent call last)",
      "Cell \u001b[1;32mIn[27], line 5\u001b[0m\n\u001b[0;32m      1\u001b[0m \u001b[38;5;66;03m# List index of out range -> this error will be shown if there is no element at that index\u001b[39;00m\n\u001b[0;32m      3\u001b[0m list10 \u001b[38;5;241m=\u001b[39m [\u001b[38;5;241m1\u001b[39m,\u001b[38;5;241m2\u001b[39m,\u001b[38;5;241m3\u001b[39m,\u001b[38;5;241m4\u001b[39m,\u001b[38;5;241m5\u001b[39m,\u001b[38;5;241m6\u001b[39m,\u001b[38;5;241m7\u001b[39m]\n\u001b[1;32m----> 5\u001b[0m \u001b[38;5;28mprint\u001b[39m(\u001b[43mlist10\u001b[49m\u001b[43m[\u001b[49m\u001b[38;5;241;43m111\u001b[39;49m\u001b[43m]\u001b[49m)\n",
      "\u001b[1;31mIndexError\u001b[0m: list index out of range"
     ]
    }
   ],
   "source": [
    "# List index of out range -> this error will be shown if there is no element at that index\n",
    "\n",
    "list10 = [1,2,3,4,5,6,7]\n",
    "\n",
    "print(list10[111])"
   ]
  },
  {
   "cell_type": "markdown",
   "metadata": {},
   "source": [
    "### sort() -> sorts the list in ascending order"
   ]
  },
  {
   "cell_type": "code",
   "execution_count": 34,
   "metadata": {},
   "outputs": [
    {
     "name": "stdout",
     "output_type": "stream",
     "text": [
      "[1, 2, 3, 4, 7, 10, 13]\n",
      "[3, 4, 2, 1, 10, 13, 7]\n"
     ]
    }
   ],
   "source": [
    "list11 = [3,4,2,1,10,13,7]\n",
    "\n",
    "print(sorted(list11)) # prints sorted list i.e sort the list in ascending order\n",
    "print(list11) # but it is not a permanent sort sulution we need to store it in another variable"
   ]
  },
  {
   "cell_type": "code",
   "execution_count": 35,
   "metadata": {},
   "outputs": [
    {
     "name": "stdout",
     "output_type": "stream",
     "text": [
      "[2, 5, 1, 13, 11, 45, -11]\n",
      "[-11, 1, 2, 5, 11, 13, 45]\n"
     ]
    }
   ],
   "source": [
    "list12 = [2,5,1,13,11,45,-11]\n",
    "print(list12)\n",
    "list12.sort() # this is a permanent sort method\n",
    "print(list12)"
   ]
  },
  {
   "cell_type": "markdown",
   "metadata": {},
   "source": [
    "### reverse() -> it reverse the list "
   ]
  },
  {
   "cell_type": "code",
   "execution_count": 36,
   "metadata": {},
   "outputs": [
    {
     "name": "stdout",
     "output_type": "stream",
     "text": [
      "[-11, 1, 2, 5, 11, 13, 45]\n"
     ]
    },
    {
     "data": {
      "text/plain": [
       "[45, 13, 11, 5, 2, 1, -11]"
      ]
     },
     "execution_count": 36,
     "metadata": {},
     "output_type": "execute_result"
    }
   ],
   "source": [
    "#[::-1]\n",
    "\n",
    "print(list12)\n",
    "list12[::-1] # reverse"
   ]
  },
  {
   "cell_type": "code",
   "execution_count": 38,
   "metadata": {},
   "outputs": [
    {
     "name": "stdout",
     "output_type": "stream",
     "text": [
      "[-11, 1, 2, 5, 11, 13, 45]\n",
      "[45, 13, 11, 5, 2, 1, -11]\n"
     ]
    }
   ],
   "source": [
    "#list13.sort(reverse=True)\n",
    "\n",
    "list13 = [-11, 1, 2, 5, 11, 13, 45]\n",
    "print(list13)\n",
    "list13.sort(reverse=True) # this will sort the list in reverse of descending order\n",
    "print(list13)"
   ]
  },
  {
   "cell_type": "code",
   "execution_count": 40,
   "metadata": {},
   "outputs": [
    {
     "data": {
      "text/plain": [
       "[45, 13, 11, 5, 2, 1, -11]"
      ]
     },
     "execution_count": 40,
     "metadata": {},
     "output_type": "execute_result"
    }
   ],
   "source": [
    "#list14.reverse()\n",
    "\n",
    "list14 = [-11, 1, 2, 5, 11, 13, 45]\n",
    "list14.reverse() # this also reverse the list\n",
    "list14"
   ]
  },
  {
   "cell_type": "code",
   "execution_count": 41,
   "metadata": {},
   "outputs": [
    {
     "data": {
      "text/plain": [
       "'aytida'"
      ]
     },
     "execution_count": 41,
     "metadata": {},
     "output_type": "execute_result"
    }
   ],
   "source": [
    "a = \"aditya\" # string reverse\n",
    "a[::-1]"
   ]
  },
  {
   "cell_type": "markdown",
   "metadata": {},
   "source": [
    "### count() -> return the number of occurrences of an element "
   ]
  },
  {
   "cell_type": "code",
   "execution_count": 75,
   "metadata": {},
   "outputs": [
    {
     "data": {
      "text/plain": [
       "2"
      ]
     },
     "execution_count": 75,
     "metadata": {},
     "output_type": "execute_result"
    }
   ],
   "source": [
    "list20 = [1,1,2,2,3,3,]\n",
    "list20.count(1)"
   ]
  },
  {
   "cell_type": "code",
   "execution_count": 74,
   "metadata": {},
   "outputs": [
    {
     "name": "stdout",
     "output_type": "stream",
     "text": [
      "1 is repeated 1 time in a list\n",
      "2 is repeated 1 time in a list\n",
      "3 is repeated 1 time in a list\n",
      "4 is repeated 1 time in a list\n",
      "5 is repeated 1 time in a list\n",
      "6 is repeated 1 time in a list\n",
      "7 is repeated 1 time in a list\n",
      "78 is repeated 1 time in a list\n",
      "9 is repeated 3 time in a list\n",
      "9 is repeated 3 time in a list\n",
      "9 is repeated 3 time in a list\n"
     ]
    }
   ],
   "source": [
    "# count method return the number of occurrences of element in the list\n",
    "list19 = [1,2,3,4,5,6,7,78,9,9,9]\n",
    "for i in list19:\n",
    "    print(f\"{i} is repeated {list19.count(i)} time in a list\")"
   ]
  },
  {
   "cell_type": "code",
   "execution_count": 76,
   "metadata": {},
   "outputs": [
    {
     "name": "stdout",
     "output_type": "stream",
     "text": [
      "aditya is repeated 2 time in a list\n",
      "aditya is repeated 2 time in a list\n",
      "patil is repeated 1 time in a list\n"
     ]
    }
   ],
   "source": [
    "list21 = [\"aditya\", \"aditya\", \"patil\"]\n",
    "for i in list21:\n",
    "    print(f\"{i} is repeated {list21.count(i)} time in a list\")"
   ]
  },
  {
   "cell_type": "markdown",
   "metadata": {},
   "source": [
    "### extend() -> it basically merges two different lists"
   ]
  },
  {
   "cell_type": "code",
   "execution_count": 78,
   "metadata": {},
   "outputs": [
    {
     "name": "stdout",
     "output_type": "stream",
     "text": [
      "[1, 2, 3, 4, 5, 6]\n",
      "[1, 2, 3]\n"
     ]
    }
   ],
   "source": [
    "list22 = [1,2,3]\n",
    "list23 = [4,5,6]\n",
    "\n",
    "print(list22 + list23) # -> Gives us a temporary merged list\n",
    "print(list22) "
   ]
  },
  {
   "cell_type": "code",
   "execution_count": 83,
   "metadata": {},
   "outputs": [
    {
     "name": "stdout",
     "output_type": "stream",
     "text": [
      "[1, 2, 3, 4, 5, 6]\n"
     ]
    }
   ],
   "source": [
    "list24 = [1,2,3]\n",
    "list25 = [4,5,6]\n",
    "\n",
    "list24.extend(list25) # -> This permanently adds list25 to list24\n",
    "print(list24)"
   ]
  },
  {
   "cell_type": "code",
   "execution_count": 89,
   "metadata": {},
   "outputs": [
    {
     "name": "stdout",
     "output_type": "stream",
     "text": [
      "[1, 2, 3, [4, 5, 6]]\n",
      "[4, 5, 6, 1, 2, 3]\n"
     ]
    }
   ],
   "source": [
    "# Difference between append() and extend() is append() method adds the element to the list at last inddx\n",
    "# where as extend() method extends the list\n",
    "\n",
    "# append()\n",
    "list24 = [1,2,3]\n",
    "list25 = [4,5,6]\n",
    "list24.append(list25)\n",
    "print(list24)\n",
    "\n",
    "# extend()\n",
    "list24 = [1,2,3]\n",
    "list25 = [4,5,6]\n",
    "list25.extend(list24)\n",
    "print(list25)"
   ]
  },
  {
   "cell_type": "markdown",
   "metadata": {},
   "source": [
    "### index() -> return the index of the element in the list"
   ]
  },
  {
   "cell_type": "code",
   "execution_count": 92,
   "metadata": {},
   "outputs": [
    {
     "name": "stdout",
     "output_type": "stream",
     "text": [
      "0\n"
     ]
    }
   ],
   "source": [
    "list26 = [1,2,3,4,5,6,7,8,9]\n",
    "\n",
    "list26.index(1) "
   ]
  },
  {
   "cell_type": "code",
   "execution_count": 93,
   "metadata": {},
   "outputs": [
    {
     "name": "stdout",
     "output_type": "stream",
     "text": [
      "5\n"
     ]
    }
   ],
   "source": [
    "# find the index of the complex number in the list\n",
    "list27 = [1, 2, 3, 4, 5, 1+2j, \"abc\"]\n",
    "\n",
    "for i in list27:\n",
    "    if type(i) == complex:\n",
    "        print(list27.index(i))"
   ]
  },
  {
   "cell_type": "code",
   "execution_count": 100,
   "metadata": {},
   "outputs": [
    {
     "name": "stdout",
     "output_type": "stream",
     "text": [
      "5\n"
     ]
    }
   ],
   "source": [
    "# writen in the list comprehension way\n",
    "a = [print(list27.index(i)) for i in list27 if type(i)  == complex]"
   ]
  },
  {
   "cell_type": "code",
   "execution_count": 116,
   "metadata": {},
   "outputs": [
    {
     "data": {
      "text/plain": [
       "2"
      ]
     },
     "execution_count": 116,
     "metadata": {},
     "output_type": "execute_result"
    }
   ],
   "source": [
    "list28 = [1,2,3,1,3,4,5,6,6,7]\n",
    "list28.index(3) # -> incase of repeating elements in the list index method reutrn the index of first occuring element"
   ]
  },
  {
   "cell_type": "markdown",
   "metadata": {},
   "source": [
    "### isinstance(object, type) -> returns True if the specified object is of the specified type, otherwise False."
   ]
  },
  {
   "cell_type": "code",
   "execution_count": 102,
   "metadata": {},
   "outputs": [
    {
     "name": "stdout",
     "output_type": "stream",
     "text": [
      "5\n"
     ]
    }
   ],
   "source": [
    "# return the index of the element that of type complex\n",
    "list27 = [1, 2, 3, 4, 5, 1+2j, \"abc\"]\n",
    "\n",
    "for i in list27:\n",
    "    if isinstance(i, complex):\n",
    "        print(list27.index(i))"
   ]
  },
  {
   "cell_type": "code",
   "execution_count": 106,
   "metadata": {},
   "outputs": [
    {
     "name": "stdout",
     "output_type": "stream",
     "text": [
      "0 : 1 : <class 'int'>\n",
      "1 : 2 : <class 'int'>\n",
      "2 : 3 : <class 'int'>\n",
      "3 : 4 : <class 'int'>\n",
      "4 : 5 : <class 'int'>\n",
      "5 : (1+2j) : <class 'complex'>\n"
     ]
    }
   ],
   "source": [
    "# return the index of the element that of type complex and integer\n",
    "\n",
    "list27 = [1, 2, 3, 4, 5, 1+2j, \"abc\"]\n",
    "\n",
    "for i in list27:\n",
    "    if isinstance(i, complex) or isinstance(i, int):\n",
    "        print(f\"{list27.index(i)} : {i} : {type(i)}\")"
   ]
  },
  {
   "cell_type": "code",
   "execution_count": 110,
   "metadata": {},
   "outputs": [
    {
     "name": "stdout",
     "output_type": "stream",
     "text": [
      "0 : 1 : <class 'int'>\n",
      "1 : 2 : <class 'int'>\n",
      "2 : 3 : <class 'int'>\n",
      "3 : 4 : <class 'int'>\n",
      "4 : 5 : <class 'int'>\n",
      "5 : (1+2j) : <class 'complex'>\n"
     ]
    }
   ],
   "source": [
    "# alternative way for above problem statement\n",
    "\n",
    "list27 = [1, 2, 3, 4, 5, 1+2j, \"abc\"]\n",
    "\n",
    "for i in list27:\n",
    "    if isinstance(i, (complex, int)): # convetional way / pythonic way / standard way\n",
    "        print(f\"{list27.index(i)} : {i} : {type(i)}\")"
   ]
  },
  {
   "cell_type": "code",
   "execution_count": 114,
   "metadata": {},
   "outputs": [
    {
     "name": "stdout",
     "output_type": "stream",
     "text": [
      "0 : 1 : <class 'int'>\n",
      "1 : 2 : <class 'int'>\n",
      "2 : 3 : <class 'int'>\n",
      "3 : 4 : <class 'int'>\n",
      "4 : 5 : <class 'int'>\n",
      "5 : (1+2j) : <class 'complex'>\n"
     ]
    }
   ],
   "source": [
    "# list comprehension way\n",
    "a = [print(f\"{list27.index(i)} : {i} : {type(i)}\") for i in list27  if isinstance(i, (complex, int)) ]"
   ]
  },
  {
   "cell_type": "markdown",
   "metadata": {},
   "source": [
    "### insert() ->  inserts the specified value at the specified position"
   ]
  },
  {
   "cell_type": "code",
   "execution_count": 118,
   "metadata": {},
   "outputs": [
    {
     "name": "stdout",
     "output_type": "stream",
     "text": [
      "['aditya', 1, 2, 3]\n"
     ]
    }
   ],
   "source": [
    "# syntax -> list.insert(pos, elmnt)\n",
    "\n",
    "# insert \"aditya\" in the list at position 0th index\n",
    "a = [1,2,3]\n",
    "a.insert(0, \"aditya\")\n",
    "print(a)"
   ]
  },
  {
   "cell_type": "code",
   "execution_count": 119,
   "metadata": {},
   "outputs": [
    {
     "name": "stdout",
     "output_type": "stream",
     "text": [
      "[1, 2, 3, 'aditya']\n"
     ]
    }
   ],
   "source": [
    "a = [1,2,3]\n",
    "a.insert(2000, \"aditya\") \n",
    "print(a)"
   ]
  },
  {
   "cell_type": "code",
   "execution_count": 120,
   "metadata": {},
   "outputs": [
    {
     "name": "stdout",
     "output_type": "stream",
     "text": [
      "['aditya', 1, 2, 3]\n"
     ]
    }
   ],
   "source": [
    "a = [1,2,3]\n",
    "a.insert(-2000, \"aditya\")\n",
    "print(a)"
   ]
  },
  {
   "cell_type": "code",
   "execution_count": 121,
   "metadata": {},
   "outputs": [
    {
     "name": "stdout",
     "output_type": "stream",
     "text": [
      "['aditya', 1, 2, [1, 2, 3, 4, 5], 3]\n"
     ]
    }
   ],
   "source": [
    "a.insert(-1, [1,2,3,4,5])\n",
    "print(a)"
   ]
  },
  {
   "cell_type": "markdown",
   "metadata": {},
   "source": [
    "### remove() -> removes the first occurrence of the element with the specified value"
   ]
  },
  {
   "cell_type": "code",
   "execution_count": 123,
   "metadata": {},
   "outputs": [
    {
     "name": "stdout",
     "output_type": "stream",
     "text": [
      "[2, 3, 1, 4, 5]\n"
     ]
    }
   ],
   "source": [
    "# syntax -> list.remove(elmnt)\n",
    "\n",
    "a = [1,2,3,1,4,5]\n",
    "a.remove(1)\n",
    "print(a)"
   ]
  },
  {
   "cell_type": "markdown",
   "metadata": {},
   "source": [
    "# Nested Lists -> list inside a list"
   ]
  },
  {
   "cell_type": "code",
   "execution_count": 42,
   "metadata": {},
   "outputs": [
    {
     "data": {
      "text/plain": [
       "[[1, 2, 3], [4, 5], [6, 7, 8], [9, 10]]"
      ]
     },
     "execution_count": 42,
     "metadata": {},
     "output_type": "execute_result"
    }
   ],
   "source": [
    "list15 = [[1,2,3], [4,5],[6,7,8], [9,10]]\n",
    "\n",
    "list15"
   ]
  },
  {
   "cell_type": "code",
   "execution_count": 44,
   "metadata": {},
   "outputs": [
    {
     "name": "stdout",
     "output_type": "stream",
     "text": [
      "[1, 2, 3]\n",
      "[4, 5]\n",
      "[6, 7, 8]\n"
     ]
    }
   ],
   "source": [
    "print(list15[0])\n",
    "print(list15[1])\n",
    "print(list15[2])"
   ]
  },
  {
   "cell_type": "code",
   "execution_count": 45,
   "metadata": {},
   "outputs": [
    {
     "data": {
      "text/plain": [
       "5"
      ]
     },
     "execution_count": 45,
     "metadata": {},
     "output_type": "execute_result"
    }
   ],
   "source": [
    "# lest say we want to print 5\n",
    "list15 = [[1,2,3], [4,5],[6,7,8], [9,10]]\n",
    "\n",
    "list15[1][1] "
   ]
  },
  {
   "cell_type": "code",
   "execution_count": 49,
   "metadata": {},
   "outputs": [
    {
     "name": "stdout",
     "output_type": "stream",
     "text": [
      "[9, 10, [11, 12, 13]]\n",
      "[11, 12, 13]\n",
      "12\n"
     ]
    }
   ],
   "source": [
    "list16=  [[1,2,3], [4,5],[6,7,8], [9,10,[11,12,13]]]\n",
    "# lest we want to access 12\n",
    "\n",
    "print(list16[3])\n",
    "print(list16[3][2])\n",
    "print(list16[3][2][1])"
   ]
  },
  {
   "cell_type": "code",
   "execution_count": 54,
   "metadata": {},
   "outputs": [
    {
     "data": {
      "text/plain": [
       "'Hii'"
      ]
     },
     "execution_count": 54,
     "metadata": {},
     "output_type": "execute_result"
    }
   ],
   "source": [
    "# access \"Hii\" from the given list\n",
    "list17 = [[1,2,3],[11,22,33,[500,502]], [45, [239, 'Hii'], 56, 77]]\n",
    "\n",
    "list17[2][1][1]"
   ]
  },
  {
   "cell_type": "code",
   "execution_count": 58,
   "metadata": {},
   "outputs": [
    {
     "name": "stdout",
     "output_type": "stream",
     "text": [
      "total cost of cart is : 65000\n"
     ]
    }
   ],
   "source": [
    "# find the total cost of the amazon cart\n",
    "amazon_cart = [[\"watch\", 5000], [\"phone\", 10000], [\"laptop\", 50000]]\n",
    "\n",
    "total_cost = 0\n",
    "for i in range(len(amazon_cart)):\n",
    "    total_cost = total_cost + amazon_cart[i][1]\n",
    "\n",
    "print(f\"total cost of cart is : {total_cost}\")"
   ]
  },
  {
   "cell_type": "markdown",
   "metadata": {},
   "source": [
    "# List Comprehension (not recommended for production level code)"
   ]
  },
  {
   "cell_type": "code",
   "execution_count": 61,
   "metadata": {},
   "outputs": [
    {
     "name": "stdout",
     "output_type": "stream",
     "text": [
      "[1, 2, 3, 4, 5]\n",
      "[1, 4, 9, 16, 25]\n"
     ]
    }
   ],
   "source": [
    "# create a new list from the list18 that contains the sq of each element\n",
    "list18 = [1,2,3,4,5]\n",
    "\n",
    "Sq_list = list()\n",
    "for i in list18:\n",
    "    Sq_list.append(i*i)\n",
    "print(list18)\n",
    "print(Sq_list)"
   ]
  },
  {
   "cell_type": "code",
   "execution_count": 62,
   "metadata": {},
   "outputs": [
    {
     "name": "stdout",
     "output_type": "stream",
     "text": [
      "[1, 4, 9, 16, 25]\n"
     ]
    }
   ],
   "source": [
    "# instead of using multiplle lines of code for above problem statment\n",
    "# we can apply the for in in just one line of code\n",
    "\n",
    "new_sqlist = list()\n",
    "new_sqlist = [i*i for i in list18] # -> this is called as list comprehension\n",
    "print(new_sqlist)"
   ]
  },
  {
   "cell_type": "code",
   "execution_count": 68,
   "metadata": {},
   "outputs": [
    {
     "data": {
      "text/plain": [
       "[1, 9, 25]"
      ]
     },
     "execution_count": 68,
     "metadata": {},
     "output_type": "execute_result"
    }
   ],
   "source": [
    "# only take the square of odd numbers for list18\n",
    "\n",
    "oddsq = list()\n",
    "\n",
    "oddsq = [i*i for i in list18 if i%2 !=0] # -> list comprehension with if condition\n",
    "oddsq "
   ]
  },
  {
   "cell_type": "code",
   "execution_count": 73,
   "metadata": {},
   "outputs": [
    {
     "name": "stdout",
     "output_type": "stream",
     "text": [
      "1 is repeated 1 time in a list\n",
      "2 is repeated 1 time in a list\n",
      "3 is repeated 1 time in a list\n",
      "4 is repeated 1 time in a list\n",
      "5 is repeated 1 time in a list\n",
      "6 is repeated 1 time in a list\n",
      "7 is repeated 1 time in a list\n",
      "78 is repeated 1 time in a list\n",
      "9 is repeated 3 time in a list\n",
      "9 is repeated 3 time in a list\n",
      "9 is repeated 3 time in a list\n"
     ]
    }
   ],
   "source": [
    "# count method return the number of occurrences of element in the list\n",
    "list19 = [1,2,3,4,5,6,7,78,9,9,9]\n",
    "for i in list19:\n",
    "    print(f\"{i} is repeated {list19.count(i)} time in a list\")"
   ]
  },
  {
   "cell_type": "markdown",
   "metadata": {},
   "source": [
    "# --------------------------------------------------------------------------"
   ]
  },
  {
   "cell_type": "markdown",
   "metadata": {},
   "source": [
    "# 2. Tuple"
   ]
  },
  {
   "cell_type": "markdown",
   "metadata": {},
   "source": [
    "### Tuples are used to store multiple items in a single variable.\n",
    "### A tuple is a collection which is ordered and unchangeable or unmutable.\n",
    "### Tuples are written with round brackets.\n",
    "### Used to store important information which we dont want to change"
   ]
  },
  {
   "cell_type": "code",
   "execution_count": 18,
   "metadata": {},
   "outputs": [
    {
     "data": {
      "text/plain": [
       "tuple"
      ]
     },
     "execution_count": 18,
     "metadata": {},
     "output_type": "execute_result"
    }
   ],
   "source": [
    "t1 = (1,2,3) # -> Tuple\n",
    "type(t1)"
   ]
  },
  {
   "cell_type": "markdown",
   "metadata": {},
   "source": [
    "## Creating an empty tuple"
   ]
  },
  {
   "cell_type": "code",
   "execution_count": 58,
   "metadata": {},
   "outputs": [
    {
     "name": "stdout",
     "output_type": "stream",
     "text": [
      "()\n"
     ]
    },
    {
     "data": {
      "text/plain": [
       "0"
      ]
     },
     "execution_count": 58,
     "metadata": {},
     "output_type": "execute_result"
    }
   ],
   "source": [
    "t22 = tuple()\n",
    "print(t22)\n",
    "len(t22)"
   ]
  },
  {
   "cell_type": "markdown",
   "metadata": {},
   "source": [
    "## Accessing elements of tuple"
   ]
  },
  {
   "cell_type": "code",
   "execution_count": 6,
   "metadata": {},
   "outputs": [
    {
     "name": "stdout",
     "output_type": "stream",
     "text": [
      "3\n",
      "1\n"
     ]
    }
   ],
   "source": [
    "# syntax -> tuple[index]\n",
    "\n",
    "t2 = (1,2,3)\n",
    "print(t2[-1]) # -> accessing last element of tuple\n",
    "print(t2[0]) # -> accessing first element of tuple"
   ]
  },
  {
   "cell_type": "markdown",
   "metadata": {},
   "source": [
    "## Tuple's Immutablity (not allowed)"
   ]
  },
  {
   "cell_type": "code",
   "execution_count": 8,
   "metadata": {},
   "outputs": [
    {
     "ename": "TypeError",
     "evalue": "'tuple' object does not support item assignment",
     "output_type": "error",
     "traceback": [
      "\u001b[1;31m---------------------------------------------------------------------------\u001b[0m",
      "\u001b[1;31mTypeError\u001b[0m                                 Traceback (most recent call last)",
      "Cell \u001b[1;32mIn[8], line 2\u001b[0m\n\u001b[0;32m      1\u001b[0m t3 \u001b[38;5;241m=\u001b[39m (\u001b[38;5;241m1\u001b[39m,\u001b[38;5;241m2\u001b[39m,\u001b[38;5;241m3\u001b[39m)\n\u001b[1;32m----> 2\u001b[0m \u001b[43mt3\u001b[49m\u001b[43m[\u001b[49m\u001b[38;5;241;43m0\u001b[39;49m\u001b[43m]\u001b[49m \u001b[38;5;241m=\u001b[39m \u001b[38;5;241m5\u001b[39m \u001b[38;5;66;03m# -> changing/replacing the elements of tuple is not allowed\u001b[39;00m\n",
      "\u001b[1;31mTypeError\u001b[0m: 'tuple' object does not support item assignment"
     ]
    }
   ],
   "source": [
    "t3 = (1,2,3)\n",
    "t3[0] = 5 # -> changing/replacing the elements of tuple is not allowed"
   ]
  },
  {
   "cell_type": "markdown",
   "metadata": {},
   "source": [
    "## Sorting"
   ]
  },
  {
   "cell_type": "code",
   "execution_count": 14,
   "metadata": {},
   "outputs": [
    {
     "ename": "AttributeError",
     "evalue": "'tuple' object has no attribute 'sort'",
     "output_type": "error",
     "traceback": [
      "\u001b[1;31m---------------------------------------------------------------------------\u001b[0m",
      "\u001b[1;31mAttributeError\u001b[0m                            Traceback (most recent call last)",
      "Cell \u001b[1;32mIn[14], line 3\u001b[0m\n\u001b[0;32m      1\u001b[0m \u001b[38;5;66;03m# Not Allowed\u001b[39;00m\n\u001b[0;32m      2\u001b[0m t4 \u001b[38;5;241m=\u001b[39m (\u001b[38;5;241m2\u001b[39m,\u001b[38;5;241m1\u001b[39m,\u001b[38;5;241m4\u001b[39m,\u001b[38;5;241m0\u001b[39m,\u001b[38;5;241m6\u001b[39m)\n\u001b[1;32m----> 3\u001b[0m \u001b[43mt4\u001b[49m\u001b[38;5;241;43m.\u001b[39;49m\u001b[43msort\u001b[49m()\n",
      "\u001b[1;31mAttributeError\u001b[0m: 'tuple' object has no attribute 'sort'"
     ]
    }
   ],
   "source": [
    "# Not Allowed\n",
    "t4 = (2,1,4,0,6)\n",
    "t4.sort()"
   ]
  },
  {
   "cell_type": "code",
   "execution_count": 13,
   "metadata": {},
   "outputs": [
    {
     "name": "stdout",
     "output_type": "stream",
     "text": [
      "[0, 1, 2, 4, 6]\n",
      "<class 'list'>\n"
     ]
    }
   ],
   "source": [
    "t4 = (2,1,4,0,6)\n",
    "print(sorted(t4)) # -> this method convetrs the tuple into a sorted list\n",
    "print(type(sorted(t4)))"
   ]
  },
  {
   "cell_type": "markdown",
   "metadata": {},
   "source": [
    "## Length of the tuple"
   ]
  },
  {
   "cell_type": "code",
   "execution_count": 15,
   "metadata": {},
   "outputs": [
    {
     "data": {
      "text/plain": [
       "7"
      ]
     },
     "execution_count": 15,
     "metadata": {},
     "output_type": "execute_result"
    }
   ],
   "source": [
    "t5 = (1,2,3,7,4,1,0)\n",
    "len(t5)"
   ]
  },
  {
   "cell_type": "markdown",
   "metadata": {},
   "source": [
    "## max()"
   ]
  },
  {
   "cell_type": "code",
   "execution_count": 20,
   "metadata": {},
   "outputs": [
    {
     "data": {
      "text/plain": [
       "22"
      ]
     },
     "execution_count": 20,
     "metadata": {},
     "output_type": "execute_result"
    }
   ],
   "source": [
    "t6 = (3,2,0,8,10,22)\n",
    "max(t6)"
   ]
  },
  {
   "cell_type": "markdown",
   "metadata": {},
   "source": [
    "## min()"
   ]
  },
  {
   "cell_type": "code",
   "execution_count": 21,
   "metadata": {},
   "outputs": [
    {
     "data": {
      "text/plain": [
       "0"
      ]
     },
     "execution_count": 21,
     "metadata": {},
     "output_type": "execute_result"
    }
   ],
   "source": [
    "t7 = (3,2,0,8,10,22)\n",
    "min(t7)"
   ]
  },
  {
   "cell_type": "markdown",
   "metadata": {},
   "source": [
    "## index() -> returns the index of the element in the tuple"
   ]
  },
  {
   "cell_type": "code",
   "execution_count": 22,
   "metadata": {},
   "outputs": [
    {
     "data": {
      "text/plain": [
       "0"
      ]
     },
     "execution_count": 22,
     "metadata": {},
     "output_type": "execute_result"
    }
   ],
   "source": [
    "t8 = (3,2,0,8,10,22)\n",
    "t8.index(3)"
   ]
  },
  {
   "cell_type": "markdown",
   "metadata": {},
   "source": [
    "## count() -> return the number of occurrences of the element in the tuple"
   ]
  },
  {
   "cell_type": "code",
   "execution_count": 23,
   "metadata": {},
   "outputs": [
    {
     "data": {
      "text/plain": [
       "4"
      ]
     },
     "execution_count": 23,
     "metadata": {},
     "output_type": "execute_result"
    }
   ],
   "source": [
    "t9 = (2,1,1,0,5,5,5,5)\n",
    "t9.count(5)"
   ]
  },
  {
   "cell_type": "markdown",
   "metadata": {},
   "source": [
    "## sum() -> return the sum of the elements in the tuple"
   ]
  },
  {
   "cell_type": "code",
   "execution_count": 26,
   "metadata": {},
   "outputs": [
    {
     "data": {
      "text/plain": [
       "15"
      ]
     },
     "execution_count": 26,
     "metadata": {},
     "output_type": "execute_result"
    }
   ],
   "source": [
    "t10 = (1,2,3,4,5)\n",
    "sum(t10) #-> return the sum of the elements in the tuple"
   ]
  },
  {
   "cell_type": "markdown",
   "metadata": {},
   "source": [
    "## concatenation -> merging two different tuple"
   ]
  },
  {
   "cell_type": "code",
   "execution_count": 29,
   "metadata": {},
   "outputs": [
    {
     "name": "stdout",
     "output_type": "stream",
     "text": [
      "(1, 2, 3, 4, 5, 6)\n",
      "(1, 2, 3)\n"
     ]
    }
   ],
   "source": [
    "t11 = (1,2,3)\n",
    "t12 = (4,5,6)\n",
    "print(t11+t12) # -. not permanent as not stored in the another variable\n",
    "print(t11)"
   ]
  },
  {
   "cell_type": "markdown",
   "metadata": {},
   "source": [
    "## Insertig elements in the tuple"
   ]
  },
  {
   "cell_type": "code",
   "execution_count": 36,
   "metadata": {},
   "outputs": [
    {
     "name": "stdout",
     "output_type": "stream",
     "text": [
      "[1, 2, 3, 4, 5, 100]\n",
      "<class 'list'>\n",
      "(1, 2, 3, 4, 5, 100)\n"
     ]
    },
    {
     "data": {
      "text/plain": [
       "tuple"
      ]
     },
     "execution_count": 36,
     "metadata": {},
     "output_type": "execute_result"
    }
   ],
   "source": [
    "# as tuples are immutable they cannot be modified or appended\n",
    "# But we can insert elements into the tuple but converting tuples to list \n",
    "\n",
    "# add 100 in the tuple\n",
    "t13 = (1,2,3,4,5)\n",
    "t13_list = list(t13) # -> converted tuples into a list \n",
    "\n",
    "t13_list.append(100) \n",
    "print(t13_list)\n",
    "print(type(t13_list))\n",
    "t13_tuple = tuple(t13_list) # -> converted list back into a tuple\n",
    "print(t13_tuple)\n",
    "type(t13_tuple)\n"
   ]
  },
  {
   "cell_type": "code",
   "execution_count": 42,
   "metadata": {},
   "outputs": [
    {
     "name": "stdout",
     "output_type": "stream",
     "text": [
      "[1, 2, 3, 4, 5]\n",
      "[100, 1, 2, 3, 4, 5]\n",
      "<class 'list'>\n",
      "(100, 1, 2, 3, 4, 5)\n",
      "<class 'tuple'>\n"
     ]
    }
   ],
   "source": [
    "# add 100 in the tuple at 0th index\n",
    "t14 = (1,2,3,4,5)\n",
    "\n",
    "t14_list = list(t14)\n",
    "print(t14_list)\n",
    "t14_list.insert(0, 100)\n",
    "print(t14_list)\n",
    "print(type(t14_list))\n",
    "t14_tuple = tuple(t14_list)\n",
    "print(t14_tuple)\n",
    "print(type(t14_tuple))\n"
   ]
  },
  {
   "cell_type": "markdown",
   "metadata": {},
   "source": [
    "## use case of tuple"
   ]
  },
  {
   "cell_type": "code",
   "execution_count": 45,
   "metadata": {},
   "outputs": [
    {
     "name": "stdout",
     "output_type": "stream",
     "text": [
      "56000\n"
     ]
    }
   ],
   "source": [
    "# use case of tuple\n",
    "\n",
    "amazon_cart = [(\"pen\", 1000), (\"laptop\", 50000), (\"mobile\", 5000)] # here product and its price is intact & it cannot be changed.\n",
    "\n",
    "# find the total cost of the amazon cart\n",
    "\n",
    "total_cost = 0\n",
    "for i in amazon_cart:\n",
    "    total_cost = total_cost + i[1]\n",
    "\n",
    "print(total_cost)\n"
   ]
  },
  {
   "cell_type": "code",
   "execution_count": 53,
   "metadata": {},
   "outputs": [
    {
     "name": "stdout",
     "output_type": "stream",
     "text": [
      "out of stock\n",
      "out of stock\n",
      "out of stock\n"
     ]
    }
   ],
   "source": [
    "# user input -> what you want to purchase ?\n",
    "# show price of the product and if not available show out of stock\n",
    "\n",
    "\n",
    "\n",
    "amazon_website = [(\"pen\", 1000), (\"laptop\", 50000), (\"mobile\", 5000)] # products on website\n",
    "\n",
    "user_input = input(\"What you want to purchase ?\").lower()\n",
    "for i in amazon_website:\n",
    "    if user_input  == i[0]:\n",
    "        print(f\"Price of {user_input} is {i[1]}\")\n",
    "        \n",
    "    else:\n",
    "        print(\"out of stock\")"
   ]
  },
  {
   "cell_type": "markdown",
   "metadata": {},
   "source": [
    "# --------------------------------------------------------------------------"
   ]
  },
  {
   "cell_type": "markdown",
   "metadata": {},
   "source": [
    "# 3. Sets"
   ]
  },
  {
   "cell_type": "markdown",
   "metadata": {},
   "source": [
    "### Sets are used to store multiple items in a single variable.\n",
    "### A set is a collection which is unordered, unchangeable*, and unindexed.\n",
    "### Sets are written with curly brackets.\n",
    "### Duplicates are not allowed in sets.\n",
    "### Sets are mutable."
   ]
  },
  {
   "cell_type": "code",
   "execution_count": 55,
   "metadata": {},
   "outputs": [
    {
     "data": {
      "text/plain": [
       "set"
      ]
     },
     "execution_count": 55,
     "metadata": {},
     "output_type": "execute_result"
    }
   ],
   "source": [
    "s1 = {1,2,3} # -> set\n",
    "type(s1)"
   ]
  },
  {
   "cell_type": "code",
   "execution_count": 60,
   "metadata": {},
   "outputs": [
    {
     "name": "stdout",
     "output_type": "stream",
     "text": [
      "{1, 2, 3}\n"
     ]
    }
   ],
   "source": [
    "# duplicates not allowed in sets\n",
    "\n",
    "s2 = {1,2,3,1,1,1}\n",
    "print(s2)"
   ]
  },
  {
   "cell_type": "code",
   "execution_count": 10,
   "metadata": {},
   "outputs": [
    {
     "name": "stdout",
     "output_type": "stream",
     "text": [
      "{1, 2, 3, 4, 5, 6, 7}\n"
     ]
    }
   ],
   "source": [
    "# remove the duplicates from the given list\n",
    "# -> convert the list to set and duplicates will be removed\n",
    "dup = [1,1,2,3,4,4,5,6,7,7]\n",
    "\n",
    "no_dup = set(dup)\n",
    "print(no_dup)"
   ]
  },
  {
   "cell_type": "markdown",
   "metadata": {},
   "source": [
    "## Creating an empty set"
   ]
  },
  {
   "cell_type": "code",
   "execution_count": 65,
   "metadata": {},
   "outputs": [
    {
     "name": "stdout",
     "output_type": "stream",
     "text": [
      "set()\n"
     ]
    },
    {
     "data": {
      "text/plain": [
       "0"
      ]
     },
     "execution_count": 65,
     "metadata": {},
     "output_type": "execute_result"
    }
   ],
   "source": [
    "s3 = set()\n",
    "print(s3)\n",
    "len(s3)"
   ]
  },
  {
   "cell_type": "code",
   "execution_count": 64,
   "metadata": {},
   "outputs": [
    {
     "data": {
      "text/plain": [
       "dict"
      ]
     },
     "execution_count": 64,
     "metadata": {},
     "output_type": "execute_result"
    }
   ],
   "source": [
    "s4 = {} # -> do not gives the set as data type coz its for dictionary\n",
    "# always use set() method to create empty sets\n",
    "type(s4)"
   ]
  },
  {
   "cell_type": "markdown",
   "metadata": {},
   "source": [
    "## accessing elements of set using indexing (not allowed)"
   ]
  },
  {
   "cell_type": "code",
   "execution_count": 67,
   "metadata": {},
   "outputs": [
    {
     "ename": "TypeError",
     "evalue": "'set' object is not subscriptable",
     "output_type": "error",
     "traceback": [
      "\u001b[1;31m---------------------------------------------------------------------------\u001b[0m",
      "\u001b[1;31mTypeError\u001b[0m                                 Traceback (most recent call last)",
      "Cell \u001b[1;32mIn[67], line 3\u001b[0m\n\u001b[0;32m      1\u001b[0m \u001b[38;5;66;03m# sets are not ordered\u001b[39;00m\n\u001b[0;32m      2\u001b[0m s5 \u001b[38;5;241m=\u001b[39m {\u001b[38;5;241m1\u001b[39m,\u001b[38;5;241m2\u001b[39m,\u001b[38;5;241m3\u001b[39m}\n\u001b[1;32m----> 3\u001b[0m \u001b[43ms5\u001b[49m\u001b[43m[\u001b[49m\u001b[38;5;241;43m0\u001b[39;49m\u001b[43m]\u001b[49m\n",
      "\u001b[1;31mTypeError\u001b[0m: 'set' object is not subscriptable"
     ]
    }
   ],
   "source": [
    "# sets are not ordered\n",
    "s5 = {1,2,3}\n",
    "s5[0]"
   ]
  },
  {
   "cell_type": "markdown",
   "metadata": {},
   "source": [
    "## accessing elements of set using for loop"
   ]
  },
  {
   "cell_type": "code",
   "execution_count": 68,
   "metadata": {},
   "outputs": [
    {
     "name": "stdout",
     "output_type": "stream",
     "text": [
      "1\n",
      "2\n",
      "3\n"
     ]
    }
   ],
   "source": [
    "s6 = {1,2,3}\n",
    "for i in s6:\n",
    "   print(i) "
   ]
  },
  {
   "cell_type": "markdown",
   "metadata": {},
   "source": [
    "## add() -> Once a set is created, you cannot change its items, but you can add new items."
   ]
  },
  {
   "cell_type": "code",
   "execution_count": 70,
   "metadata": {},
   "outputs": [
    {
     "name": "stdout",
     "output_type": "stream",
     "text": [
      "{1, 2, 3, 'abc'}\n"
     ]
    }
   ],
   "source": [
    "s7 = {1,2,3}\n",
    "s7.add(\"abc\")\n",
    "print(s7)"
   ]
  },
  {
   "cell_type": "markdown",
   "metadata": {},
   "source": [
    "## update() -> To add items from another set into the current set, use the update() method."
   ]
  },
  {
   "cell_type": "code",
   "execution_count": 71,
   "metadata": {},
   "outputs": [
    {
     "name": "stdout",
     "output_type": "stream",
     "text": [
      "{1, 2, 3, 4, 5}\n"
     ]
    }
   ],
   "source": [
    "s7 = {1,2,3}\n",
    "s8 = {4,5}\n",
    "s7.update(s8)\n",
    "print(s7)"
   ]
  },
  {
   "cell_type": "markdown",
   "metadata": {},
   "source": [
    "## remove() -> To remove items from set"
   ]
  },
  {
   "cell_type": "markdown",
   "metadata": {},
   "source": [
    "### If the item to remove does not exist, remove() will raise an error."
   ]
  },
  {
   "cell_type": "code",
   "execution_count": 72,
   "metadata": {},
   "outputs": [
    {
     "name": "stdout",
     "output_type": "stream",
     "text": [
      "{1, 2}\n"
     ]
    }
   ],
   "source": [
    "s9 = {1,2,3}\n",
    "s9.remove(3)\n",
    "print(s9)"
   ]
  },
  {
   "cell_type": "code",
   "execution_count": 73,
   "metadata": {},
   "outputs": [
    {
     "ename": "KeyError",
     "evalue": "'abc'",
     "output_type": "error",
     "traceback": [
      "\u001b[1;31m---------------------------------------------------------------------------\u001b[0m",
      "\u001b[1;31mKeyError\u001b[0m                                  Traceback (most recent call last)",
      "Cell \u001b[1;32mIn[73], line 1\u001b[0m\n\u001b[1;32m----> 1\u001b[0m \u001b[43ms9\u001b[49m\u001b[38;5;241;43m.\u001b[39;49m\u001b[43mremove\u001b[49m\u001b[43m(\u001b[49m\u001b[38;5;124;43m\"\u001b[39;49m\u001b[38;5;124;43mabc\u001b[39;49m\u001b[38;5;124;43m\"\u001b[39;49m\u001b[43m)\u001b[49m\n",
      "\u001b[1;31mKeyError\u001b[0m: 'abc'"
     ]
    }
   ],
   "source": [
    "s9.remove(\"abc\") # -> If the item to remove does not exist, remove() will raise an error."
   ]
  },
  {
   "cell_type": "markdown",
   "metadata": {},
   "source": [
    "## discard() -> To remove items from set"
   ]
  },
  {
   "cell_type": "markdown",
   "metadata": {},
   "source": [
    "###  If the item to remove does not exist, discard() will NOT raise an error."
   ]
  },
  {
   "cell_type": "code",
   "execution_count": 74,
   "metadata": {},
   "outputs": [
    {
     "data": {
      "text/plain": [
       "{2, 3}"
      ]
     },
     "execution_count": 74,
     "metadata": {},
     "output_type": "execute_result"
    }
   ],
   "source": [
    "s10 = {1,2,3}\n",
    "s10.discard(1)\n",
    "s10"
   ]
  },
  {
   "cell_type": "code",
   "execution_count": 76,
   "metadata": {},
   "outputs": [],
   "source": [
    "s11 = {1,2,3}\n",
    "s11.discard(\"abc\") #->  If the item to remove does not exist, discard() will NOT raise an error."
   ]
  },
  {
   "cell_type": "markdown",
   "metadata": {},
   "source": [
    "## Join Two Sets"
   ]
  },
  {
   "cell_type": "markdown",
   "metadata": {},
   "source": [
    "#### union()/update() -> returns a new set containing all items from both sets also duplicates will be removed."
   ]
  },
  {
   "cell_type": "code",
   "execution_count": 7,
   "metadata": {},
   "outputs": [
    {
     "name": "stdout",
     "output_type": "stream",
     "text": [
      "Combination of s12 & s13 : {1, 2, 3}\n",
      "fCombination of s12 & s15: {1, 2, 3, 4, 5, 6}\n"
     ]
    }
   ],
   "source": [
    "s12 = {1,2,3}\n",
    "s13 = {1,2,3}\n",
    "s15 = {4,5,6}\n",
    "s14 = s12.union(s13) # -. even though its combining the elements of both sets, it is not repaeting the elements.\n",
    "print(f\"Combination of s12 & s13 : {s14}\")\n",
    "s16 = s12.union(s15)\n",
    "print(f\"fCombination of s12 & s15: {s16}\")"
   ]
  },
  {
   "cell_type": "markdown",
   "metadata": {},
   "source": [
    "#### intersection_update() -> keep only the items that are present in both sets i.e. it keeps only duplicates"
   ]
  },
  {
   "cell_type": "code",
   "execution_count": 16,
   "metadata": {},
   "outputs": [
    {
     "name": "stdout",
     "output_type": "stream",
     "text": [
      "{2, 3}\n"
     ]
    }
   ],
   "source": [
    "s17 = {1,2,3}\n",
    "s18 = {2,3,4,5,6}\n",
    "s17.intersection_update(s18) # -> this cannot be stored in new variable s17 itself is modified.\n",
    "print(s17)"
   ]
  },
  {
   "cell_type": "markdown",
   "metadata": {},
   "source": [
    "#### intersection() -> returns a new set, that only contains the items that are present in both sets."
   ]
  },
  {
   "cell_type": "code",
   "execution_count": 18,
   "metadata": {},
   "outputs": [
    {
     "name": "stdout",
     "output_type": "stream",
     "text": [
      "{2, 3}\n"
     ]
    }
   ],
   "source": [
    "s17 = {1,2,3}\n",
    "s18 = {2,3,4,5,6}\n",
    "s19 = s17.intersection(s18) # -> this can be stored in new variable.\n",
    "print(s19)"
   ]
  },
  {
   "cell_type": "markdown",
   "metadata": {},
   "source": [
    "#### symmetric_difference_update() -> it will keep only the elements that are NOT present in both sets."
   ]
  },
  {
   "cell_type": "code",
   "execution_count": 20,
   "metadata": {},
   "outputs": [
    {
     "name": "stdout",
     "output_type": "stream",
     "text": [
      "{1, 2, 5, 6}\n"
     ]
    }
   ],
   "source": [
    "s20 = {1,2,3,4}\n",
    "s21 = {3,4,5,6}\n",
    "s20.symmetric_difference_update(s21) # -> this cannot be stored in new variable\n",
    "print(s20)"
   ]
  },
  {
   "cell_type": "markdown",
   "metadata": {},
   "source": [
    "#### symmetrin_difference() -> it will return a new set, that contains only the elements that are NOT present in both sets."
   ]
  },
  {
   "cell_type": "code",
   "execution_count": 21,
   "metadata": {},
   "outputs": [
    {
     "name": "stdout",
     "output_type": "stream",
     "text": [
      "{1, 2, 5, 6}\n"
     ]
    }
   ],
   "source": [
    "s20 = {1,2,3,4}\n",
    "s21 = {3,4,5,6}\n",
    "s23 = s20.symmetric_difference(s21) # -> this can be stored in new variable\n",
    "print(s23)"
   ]
  },
  {
   "cell_type": "code",
   "execution_count": 22,
   "metadata": {},
   "outputs": [
    {
     "name": "stdout",
     "output_type": "stream",
     "text": [
      "{2, 3, 5, 6}\n"
     ]
    }
   ],
   "source": [
    "#  The values True and 1 are considered the same value in sets, and are treated as duplicates\n",
    "\n",
    "s20 = {1,2,3,4}\n",
    "s21 = {True, 4, 5, 6}\n",
    "s23 = s20.symmetric_difference(s21) # -> this can be stored in new variable\n",
    "print(s23)"
   ]
  }
 ],
 "metadata": {
  "kernelspec": {
   "display_name": "env1",
   "language": "python",
   "name": "python3"
  },
  "language_info": {
   "codemirror_mode": {
    "name": "ipython",
    "version": 3
   },
   "file_extension": ".py",
   "mimetype": "text/x-python",
   "name": "python",
   "nbconvert_exporter": "python",
   "pygments_lexer": "ipython3",
   "version": "3.8.18"
  }
 },
 "nbformat": 4,
 "nbformat_minor": 2
}
