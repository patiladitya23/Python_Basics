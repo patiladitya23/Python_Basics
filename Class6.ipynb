{
 "cells": [
  {
   "cell_type": "code",
   "execution_count": 24,
   "metadata": {},
   "outputs": [
    {
     "data": {
      "text/plain": [
       "'\\nAgenda\\n\\nIn built Data Structures in Python\\n1. List\\n'"
      ]
     },
     "execution_count": 24,
     "metadata": {},
     "output_type": "execute_result"
    }
   ],
   "source": [
    "\"\"\"\n",
    "Agenda\n",
    "\n",
    "In built Data Structures in Python\n",
    "1. List\n",
    "\"\"\""
   ]
  },
  {
   "cell_type": "code",
   "execution_count": 25,
   "metadata": {},
   "outputs": [
    {
     "data": {
      "text/plain": [
       "list"
      ]
     },
     "execution_count": 25,
     "metadata": {},
     "output_type": "execute_result"
    }
   ],
   "source": [
    "# LIST\n",
    "\n",
    "A = [1,2,3,4] # list is collection of diffrent items/elements\n",
    "type(A)"
   ]
  },
  {
   "cell_type": "code",
   "execution_count": 26,
   "metadata": {},
   "outputs": [
    {
     "data": {
      "text/plain": [
       "list"
      ]
     },
     "execution_count": 26,
     "metadata": {},
     "output_type": "execute_result"
    }
   ],
   "source": [
    "B = [1,\"John\",2.5,3+2j] #list can have different types of elements\n",
    "type(B)"
   ]
  },
  {
   "cell_type": "code",
   "execution_count": 27,
   "metadata": {},
   "outputs": [
    {
     "data": {
      "text/plain": [
       "'\\nWhat is the difference between list of python and array of c/c++ ?\\n-> Array contains elements of same data type and list of python can contain elements of different data types.\\n'"
      ]
     },
     "execution_count": 27,
     "metadata": {},
     "output_type": "execute_result"
    }
   ],
   "source": [
    "\"\"\"\n",
    "What is the difference between list of python and array of c/c++ ?\n",
    "-> Array contains elements of same data type and list of python can contain elements of different data types.\n",
    "\"\"\""
   ]
  },
  {
   "cell_type": "code",
   "execution_count": 28,
   "metadata": {},
   "outputs": [
    {
     "name": "stdout",
     "output_type": "stream",
     "text": [
      "1\n",
      "2\n",
      "3\n",
      "4\n"
     ]
    }
   ],
   "source": [
    "#printing elements of list\n",
    "\n",
    "A = [1,2,3,4]\n",
    "for elements in A:\n",
    "    print(elements)"
   ]
  },
  {
   "cell_type": "code",
   "execution_count": 29,
   "metadata": {},
   "outputs": [
    {
     "data": {
      "text/plain": [
       "4"
      ]
     },
     "execution_count": 29,
     "metadata": {},
     "output_type": "execute_result"
    }
   ],
   "source": [
    "# lenght of list\n",
    "\n",
    "A = [1,2,3,4]\n",
    "len(A)"
   ]
  },
  {
   "cell_type": "code",
   "execution_count": 30,
   "metadata": {},
   "outputs": [
    {
     "name": "stdout",
     "output_type": "stream",
     "text": [
      "Element 1: 1 & Data type of element 1: <class 'int'>\n",
      "Element 2: John & Data type of element 2: <class 'str'>\n",
      "Element 3: 2.5 & Data type of element 3: <class 'float'>\n",
      "Element 4: (3+2j) & Data type of element 4: <class 'complex'>\n"
     ]
    }
   ],
   "source": [
    "B = [1,\"John\",2.5,3+2j]\n",
    "for i in range(len(B)):\n",
    "    print(f\"Element {i+1}: {B[i]} & Data type of element {i+1}: {type(B[i])}\")"
   ]
  },
  {
   "cell_type": "code",
   "execution_count": 31,
   "metadata": {},
   "outputs": [
    {
     "data": {
      "text/plain": [
       "[3, 4, 5, 6, 7, 8, 9, 10]"
      ]
     },
     "execution_count": 31,
     "metadata": {},
     "output_type": "execute_result"
    }
   ],
   "source": [
    "# Indexing and Slicing of list\n",
    "\n",
    "A = [1,2,3,4,5,6,7,8,9,10]\n",
    "A[2:]"
   ]
  },
  {
   "cell_type": "code",
   "execution_count": 32,
   "metadata": {},
   "outputs": [
    {
     "data": {
      "text/plain": [
       "[1, 3, 5, 7]"
      ]
     },
     "execution_count": 32,
     "metadata": {},
     "output_type": "execute_result"
    }
   ],
   "source": [
    "A = [1,2,3,4,5,6,7,8,9,10]\n",
    "A[0:8:2]"
   ]
  },
  {
   "cell_type": "code",
   "execution_count": 33,
   "metadata": {},
   "outputs": [
    {
     "name": "stdout",
     "output_type": "stream",
     "text": [
      "0 1\n",
      "2 3\n",
      "4 5\n",
      "6 7\n"
     ]
    }
   ],
   "source": [
    "A = [1,2,3,4,5,6,7,8,9,10] \n",
    "for i in range(0,8,2): #we can perform same thing \"A[0:8:2]\" using for loop also \n",
    "    print(i, A[i])"
   ]
  },
  {
   "cell_type": "code",
   "execution_count": 34,
   "metadata": {},
   "outputs": [
    {
     "data": {
      "text/plain": [
       "[10, 9, 8, 7, 6, 5, 4, 3, 2, 1]"
      ]
     },
     "execution_count": 34,
     "metadata": {},
     "output_type": "execute_result"
    }
   ],
   "source": [
    "A = [1,2,3,4,5,6,7,8,9,10] \n",
    "A[::-1] #negative indexing (revering the list in python)"
   ]
  },
  {
   "cell_type": "code",
   "execution_count": 35,
   "metadata": {},
   "outputs": [
    {
     "name": "stdout",
     "output_type": "stream",
     "text": [
      "5\n",
      "4\n",
      "3\n",
      "2\n",
      "1\n"
     ]
    }
   ],
   "source": [
    "c = [1,2,3,4,5]\n",
    "for i in range (-1,-len(c)-1,-1): # second end of the range is excluded hence we have used -len(c)-1\n",
    "    print(c[i])"
   ]
  },
  {
   "cell_type": "code",
   "execution_count": 36,
   "metadata": {},
   "outputs": [
    {
     "name": "stdout",
     "output_type": "stream",
     "text": [
      "Orginal List: [1, 2, 3]\n",
      "list after updating 0th index value: [4, 2, 3]\n"
     ]
    }
   ],
   "source": [
    "#Updating List elements at specific index also called as mutable operations\n",
    "\n",
    "b = [1,2,3]\n",
    "print(f\"Orginal List: {b}\")\n",
    "b[0]=4\n",
    "print(f\"list after updating 0th index value: {b}\")"
   ]
  },
  {
   "cell_type": "code",
   "execution_count": 37,
   "metadata": {},
   "outputs": [
    {
     "data": {
      "text/plain": [
       "[4, 'ABC', 3]"
      ]
     },
     "execution_count": 37,
     "metadata": {},
     "output_type": "execute_result"
    }
   ],
   "source": [
    "b[-2]=\"ABC\"\n",
    "b"
   ]
  },
  {
   "cell_type": "code",
   "execution_count": 38,
   "metadata": {},
   "outputs": [
    {
     "data": {
      "text/plain": [
       "[78, 90.22, 'xyz', 4, 'ABC', 3]"
      ]
     },
     "execution_count": 38,
     "metadata": {},
     "output_type": "execute_result"
    }
   ],
   "source": [
    "# concatination of Lists\n",
    "\n",
    "a = [78,90.22,'xyz']\n",
    "a+b #this operation does not change the value pf a or b as it not assigned to any of the variable."
   ]
  },
  {
   "cell_type": "code",
   "execution_count": 39,
   "metadata": {},
   "outputs": [
    {
     "data": {
      "text/plain": [
       "[78, 90.22, 'xyz', 4, 'ABC', 3]"
      ]
     },
     "execution_count": 39,
     "metadata": {},
     "output_type": "execute_result"
    }
   ],
   "source": [
    "a = a + b # this changes the value of a as a + b is stores in a\n",
    "a"
   ]
  },
  {
   "cell_type": "code",
   "execution_count": 40,
   "metadata": {},
   "outputs": [
    {
     "data": {
      "text/plain": [
       "[78, 90.22, 'xyz', 4, 'ABC', 3, 78, 90.22, 'xyz', 4, 'ABC', 3]"
      ]
     },
     "execution_count": 40,
     "metadata": {},
     "output_type": "execute_result"
    }
   ],
   "source": [
    "a*2"
   ]
  },
  {
   "cell_type": "code",
   "execution_count": 41,
   "metadata": {},
   "outputs": [],
   "source": [
    "#Basic List Operations"
   ]
  },
  {
   "cell_type": "code",
   "execution_count": 42,
   "metadata": {},
   "outputs": [
    {
     "data": {
      "text/plain": [
       "6"
      ]
     },
     "execution_count": 42,
     "metadata": {},
     "output_type": "execute_result"
    }
   ],
   "source": [
    "#Len()\n",
    " \n",
    "A = [1,2,3,4,5,6]\n",
    "len(A)"
   ]
  },
  {
   "cell_type": "code",
   "execution_count": 43,
   "metadata": {},
   "outputs": [
    {
     "data": {
      "text/plain": [
       "0"
      ]
     },
     "execution_count": 43,
     "metadata": {},
     "output_type": "execute_result"
    }
   ],
   "source": [
    "my_list = [] # not recommended method to create empty list\n",
    "len(my_list) "
   ]
  },
  {
   "cell_type": "code",
   "execution_count": 44,
   "metadata": {},
   "outputs": [
    {
     "data": {
      "text/plain": [
       "0"
      ]
     },
     "execution_count": 44,
     "metadata": {},
     "output_type": "execute_result"
    }
   ],
   "source": [
    "my_list = list() #recommanded method to create empty list\n",
    "len(my_list)"
   ]
  },
  {
   "cell_type": "code",
   "execution_count": 1,
   "metadata": {},
   "outputs": [
    {
     "name": "stdout",
     "output_type": "stream",
     "text": [
      "['a']\n"
     ]
    }
   ],
   "source": [
    "list_of_itmes = list() #empty list\n",
    "\n",
    "N = int(input(\"Number of items to purchase: \"))\n",
    "for i in range(0,N):\n",
    "    user_input = input(\"Enter the item: \")\n",
    "    list_of_itmes = list_of_itmes + [user_input] # one way to append the empty list\n",
    "\n",
    "print(list_of_itmes)"
   ]
  },
  {
   "cell_type": "code",
   "execution_count": 2,
   "metadata": {},
   "outputs": [
    {
     "name": "stdout",
     "output_type": "stream",
     "text": [
      "['a', 'b']\n"
     ]
    }
   ],
   "source": [
    "listofitems = list()\n",
    "\n",
    "N = int(input(\"Enter the number of items: \"))\n",
    "i=0\n",
    "while i < N:\n",
    "    userinput = input(\"Enter the item: \")\n",
    "    listofitems = listofitems + [userinput]\n",
    "    i = i + 1\n",
    "print(listofitems)"
   ]
  },
  {
   "cell_type": "code",
   "execution_count": null,
   "metadata": {},
   "outputs": [
    {
     "name": "stdout",
     "output_type": "stream",
     "text": [
      "1 is in the list\n"
     ]
    }
   ],
   "source": [
    "#Check membership in a list\n",
    "# 1. IN -> checks if the given element is in the list.\n",
    "\n",
    "my_list = [1,2,3,4,\"a\"]\n",
    "\"a\" in listofitems  #checks if the \"a \" is in the given list or not & returns a boolean value\n",
    "\n",
    "if 1 in my_list:\n",
    "    print(\"1 is in the list\")\n",
    "else:\n",
    "    print(\"1 is not in the list\")"
   ]
  },
  {
   "cell_type": "code",
   "execution_count": null,
   "metadata": {},
   "outputs": [
    {
     "name": "stdout",
     "output_type": "stream",
     "text": [
      "b is not is the list\n",
      "'b' is been added to the list: [1, 2, 3, 'a', 'b']\n"
     ]
    }
   ],
   "source": [
    "# 2. NOT IN -> checks if given element is not in the list.\n",
    "\n",
    "abc_list = [1,2,3,\"a\"]\n",
    "if \"b\" not in abc_list:\n",
    "    print(\"b is not is the list\")\n",
    "    abc_list = abc_list + [\"b\"]\n",
    "    print(f\"'b' is been added to the list: {abc_list}\")"
   ]
  },
  {
   "cell_type": "code",
   "execution_count": null,
   "metadata": {},
   "outputs": [
    {
     "name": "stdout",
     "output_type": "stream",
     "text": [
      "sdftg\n",
      "3\n"
     ]
    },
    {
     "ename": "TypeError",
     "evalue": "'>' not supported between instances of 'int' and 'str'",
     "output_type": "error",
     "traceback": [
      "\u001b[1;31m---------------------------------------------------------------------------\u001b[0m",
      "\u001b[1;31mTypeError\u001b[0m                                 Traceback (most recent call last)",
      "\u001b[1;32mc:\\Users\\adity\\Desktop\\Demo\\Python_Basics\\Class6.ipynb Cell 26\u001b[0m line \u001b[0;36m8\n\u001b[0;32m      <a href='vscode-notebook-cell:/c%3A/Users/adity/Desktop/Demo/Python_Basics/Class6.ipynb#X35sZmlsZQ%3D%3D?line=5'>6</a>\u001b[0m \u001b[39mprint\u001b[39m(\u001b[39mmax\u001b[39m(list1))\n\u001b[0;32m      <a href='vscode-notebook-cell:/c%3A/Users/adity/Desktop/Demo/Python_Basics/Class6.ipynb#X35sZmlsZQ%3D%3D?line=6'>7</a>\u001b[0m \u001b[39mprint\u001b[39m(\u001b[39mmax\u001b[39m(list2))\n\u001b[1;32m----> <a href='vscode-notebook-cell:/c%3A/Users/adity/Desktop/Demo/Python_Basics/Class6.ipynb#X35sZmlsZQ%3D%3D?line=7'>8</a>\u001b[0m \u001b[39mprint\u001b[39m(\u001b[39mmax\u001b[39;49m(list3))\n",
      "\u001b[1;31mTypeError\u001b[0m: '>' not supported between instances of 'int' and 'str'"
     ]
    }
   ],
   "source": [
    "# max() -> we can find max value from the given list.\n",
    "\n",
    "list1 = [\"abc\", \"ertt\", \"sdftg\"]\n",
    "list2 = [1,2,3]\n",
    "list3 = [\"abc\", \"ertt\", \"sdftg\",4,5,6]\n",
    "print(max(list1)) # -> return the element which is has max ASCII values \n",
    "print(max(list2)) # -> return the element which is of max value\n",
    "print(max(list3)) # -> Does not work for the list of diff data type"
   ]
  },
  {
   "cell_type": "code",
   "execution_count": null,
   "metadata": {},
   "outputs": [
    {
     "name": "stdout",
     "output_type": "stream",
     "text": [
      "j\n"
     ]
    }
   ],
   "source": [
    "list4 = [\"a\",\"b\",\"c\",\"d\",\"e\",\"f\",\"g\",\"h\",\"i\",\"j\"]\n",
    "print(max(list4)) # this return the element whose ASCII value is the highest"
   ]
  },
  {
   "cell_type": "code",
   "execution_count": null,
   "metadata": {},
   "outputs": [
    {
     "name": "stdout",
     "output_type": "stream",
     "text": [
      "d\n"
     ]
    }
   ],
   "source": [
    "list5 = [\"A\",\"b\",\"d\",\"D\"]\n",
    "print(max(list5)) # here \"d\" has the highest ASCII value"
   ]
  },
  {
   "cell_type": "code",
   "execution_count": null,
   "metadata": {},
   "outputs": [
    {
     "ename": "TypeError",
     "evalue": "'>' not supported between instances of 'complex' and 'complex'",
     "output_type": "error",
     "traceback": [
      "\u001b[1;31m---------------------------------------------------------------------------\u001b[0m",
      "\u001b[1;31mTypeError\u001b[0m                                 Traceback (most recent call last)",
      "\u001b[1;32mc:\\Users\\adity\\Desktop\\Demo\\Python_Basics\\Class6.ipynb Cell 29\u001b[0m line \u001b[0;36m2\n\u001b[0;32m      <a href='vscode-notebook-cell:/c%3A/Users/adity/Desktop/Demo/Python_Basics/Class6.ipynb#X41sZmlsZQ%3D%3D?line=0'>1</a>\u001b[0m list6 \u001b[39m=\u001b[39m [\u001b[39m1\u001b[39m\u001b[39m+\u001b[39m\u001b[39m5\u001b[39mj,\u001b[39m2\u001b[39m\u001b[39m+\u001b[39m\u001b[39m3\u001b[39mj]\n\u001b[1;32m----> <a href='vscode-notebook-cell:/c%3A/Users/adity/Desktop/Demo/Python_Basics/Class6.ipynb#X41sZmlsZQ%3D%3D?line=1'>2</a>\u001b[0m \u001b[39mprint\u001b[39m(\u001b[39mmax\u001b[39;49m(list6))\n",
      "\u001b[1;31mTypeError\u001b[0m: '>' not supported between instances of 'complex' and 'complex'"
     ]
    }
   ],
   "source": [
    "list6 = [1+5j,2+3j]\n",
    "print(max(list6)) # does not work for complex numbers"
   ]
  },
  {
   "cell_type": "code",
   "execution_count": null,
   "metadata": {},
   "outputs": [
    {
     "name": "stdout",
     "output_type": "stream",
     "text": [
      "abc\n",
      "1\n"
     ]
    },
    {
     "ename": "TypeError",
     "evalue": "'<' not supported between instances of 'int' and 'str'",
     "output_type": "error",
     "traceback": [
      "\u001b[1;31m---------------------------------------------------------------------------\u001b[0m",
      "\u001b[1;31mTypeError\u001b[0m                                 Traceback (most recent call last)",
      "\u001b[1;32mc:\\Users\\adity\\Desktop\\Demo\\Python_Basics\\Class6.ipynb Cell 30\u001b[0m line \u001b[0;36m5\n\u001b[0;32m      <a href='vscode-notebook-cell:/c%3A/Users/adity/Desktop/Demo/Python_Basics/Class6.ipynb#X42sZmlsZQ%3D%3D?line=2'>3</a>\u001b[0m \u001b[39mprint\u001b[39m(\u001b[39mmin\u001b[39m(list1))\n\u001b[0;32m      <a href='vscode-notebook-cell:/c%3A/Users/adity/Desktop/Demo/Python_Basics/Class6.ipynb#X42sZmlsZQ%3D%3D?line=3'>4</a>\u001b[0m \u001b[39mprint\u001b[39m(\u001b[39mmin\u001b[39m(list2))\n\u001b[1;32m----> <a href='vscode-notebook-cell:/c%3A/Users/adity/Desktop/Demo/Python_Basics/Class6.ipynb#X42sZmlsZQ%3D%3D?line=4'>5</a>\u001b[0m \u001b[39mprint\u001b[39m(\u001b[39mmin\u001b[39;49m(list3))\n\u001b[0;32m      <a href='vscode-notebook-cell:/c%3A/Users/adity/Desktop/Demo/Python_Basics/Class6.ipynb#X42sZmlsZQ%3D%3D?line=5'>6</a>\u001b[0m \u001b[39mprint\u001b[39m(\u001b[39mmin\u001b[39m(list4))\n\u001b[0;32m      <a href='vscode-notebook-cell:/c%3A/Users/adity/Desktop/Demo/Python_Basics/Class6.ipynb#X42sZmlsZQ%3D%3D?line=6'>7</a>\u001b[0m \u001b[39mprint\u001b[39m(\u001b[39mmin\u001b[39m(list5))\n",
      "\u001b[1;31mTypeError\u001b[0m: '<' not supported between instances of 'int' and 'str'"
     ]
    }
   ],
   "source": [
    "# min() -> it gives the minimum value in the list\n",
    "\n",
    "print(min(list1))\n",
    "print(min(list2))\n",
    "print(min(list3))"
   ]
  },
  {
   "cell_type": "code",
   "execution_count": null,
   "metadata": {},
   "outputs": [
    {
     "name": "stdout",
     "output_type": "stream",
     "text": [
      "a\n",
      "A\n"
     ]
    },
    {
     "ename": "TypeError",
     "evalue": "'<' not supported between instances of 'complex' and 'complex'",
     "output_type": "error",
     "traceback": [
      "\u001b[1;31m---------------------------------------------------------------------------\u001b[0m",
      "\u001b[1;31mTypeError\u001b[0m                                 Traceback (most recent call last)",
      "\u001b[1;32mc:\\Users\\adity\\Desktop\\Demo\\Python_Basics\\Class6.ipynb Cell 31\u001b[0m line \u001b[0;36m3\n\u001b[0;32m      <a href='vscode-notebook-cell:/c%3A/Users/adity/Desktop/Demo/Python_Basics/Class6.ipynb#X43sZmlsZQ%3D%3D?line=0'>1</a>\u001b[0m \u001b[39mprint\u001b[39m(\u001b[39mmin\u001b[39m(list4))\n\u001b[0;32m      <a href='vscode-notebook-cell:/c%3A/Users/adity/Desktop/Demo/Python_Basics/Class6.ipynb#X43sZmlsZQ%3D%3D?line=1'>2</a>\u001b[0m \u001b[39mprint\u001b[39m(\u001b[39mmin\u001b[39m(list5))\n\u001b[1;32m----> <a href='vscode-notebook-cell:/c%3A/Users/adity/Desktop/Demo/Python_Basics/Class6.ipynb#X43sZmlsZQ%3D%3D?line=2'>3</a>\u001b[0m \u001b[39mprint\u001b[39m(\u001b[39mmin\u001b[39;49m(list6))\n",
      "\u001b[1;31mTypeError\u001b[0m: '<' not supported between instances of 'complex' and 'complex'"
     ]
    }
   ],
   "source": [
    "print(min(list4))\n",
    "print(min(list5))\n",
    "print(min(list6))"
   ]
  },
  {
   "cell_type": "code",
   "execution_count": 4,
   "metadata": {},
   "outputs": [
    {
     "name": "stdout",
     "output_type": "stream",
     "text": [
      "Element with highest length is abhiskek with length 8\n"
     ]
    }
   ],
   "source": [
    "#print the name which highest lenght in the list\n",
    "new_list = [\"bhaveen\", \"abhiskek\", \"dew\", \"dj\", \"charlie\", \"Doctor\"]\n",
    "\n",
    "max_l = 0\n",
    "name_highest_len = \"\"\n",
    "for i in new_list:\n",
    "    if len(i)>max_l:\n",
    "        max_l  = len(i)\n",
    "        name_highest_len = i\n",
    "\n",
    "print(f\"Element with highest length is {name_highest_len} with length {max_l}\")"
   ]
  },
  {
   "cell_type": "code",
   "execution_count": null,
   "metadata": {},
   "outputs": [],
   "source": [
    "# append() -> it takes only only one argument (Adds to the element to the end of the list)"
   ]
  },
  {
   "cell_type": "code",
   "execution_count": 6,
   "metadata": {},
   "outputs": [
    {
     "name": "stdout",
     "output_type": "stream",
     "text": [
      "Element appended using + operator : ['a', 'b', 'c', 'element added using + operator']\n",
      "Appended element with append method : ['a', 'b', 'c', 'element added using + operator', 'appended element with append method']\n"
     ]
    }
   ],
   "source": [
    "list6 = [\"a\",\"b\",\"c\"]\n",
    "# if we want to add a new element in the list then we use \"+\" here\n",
    "\n",
    "list6 = list6 + [\"element added using + operator\"]\n",
    "print(f\"Element appended using + operator : {list6}\")\n",
    "\n",
    "# Here append method can also be used to add the new element\n",
    "list6.append(\"appended element with append method\")\n",
    "print(f\"Appended element with append method : {list6}\")"
   ]
  },
  {
   "cell_type": "code",
   "execution_count": 9,
   "metadata": {},
   "outputs": [
    {
     "ename": "TypeError",
     "evalue": "append() takes exactly one argument (2 given)",
     "output_type": "error",
     "traceback": [
      "\u001b[1;31m---------------------------------------------------------------------------\u001b[0m",
      "\u001b[1;31mTypeError\u001b[0m                                 Traceback (most recent call last)",
      "Cell \u001b[1;32mIn[9], line 3\u001b[0m\n\u001b[0;32m      1\u001b[0m list7 \u001b[38;5;241m=\u001b[39m \u001b[38;5;28mlist\u001b[39m()\n\u001b[1;32m----> 3\u001b[0m \u001b[43mlist7\u001b[49m\u001b[38;5;241;43m.\u001b[39;49m\u001b[43mappend\u001b[49m\u001b[43m(\u001b[49m\u001b[38;5;124;43m\"\u001b[39;49m\u001b[38;5;124;43ma\u001b[39;49m\u001b[38;5;124;43m\"\u001b[39;49m\u001b[43m,\u001b[49m\u001b[38;5;124;43m\"\u001b[39;49m\u001b[38;5;124;43mb\u001b[39;49m\u001b[38;5;124;43m\"\u001b[39;49m\u001b[43m)\u001b[49m\n\u001b[0;32m      4\u001b[0m \u001b[38;5;28mprint\u001b[39m(list7) \u001b[38;5;66;03m# adding multiple elements does not work for append mwthod\u001b[39;00m\n\u001b[0;32m      6\u001b[0m list7\u001b[38;5;241m.\u001b[39mappend([\u001b[38;5;124m\"\u001b[39m\u001b[38;5;124ma\u001b[39m\u001b[38;5;124m\"\u001b[39m,\u001b[38;5;124m\"\u001b[39m\u001b[38;5;124ma\u001b[39m\u001b[38;5;124m\"\u001b[39m])\n",
      "\u001b[1;31mTypeError\u001b[0m: append() takes exactly one argument (2 given)"
     ]
    }
   ],
   "source": [
    "list7 = list()\n",
    "\n",
    "list7.append(\"a\",\"b\")\n",
    "print(list7) # adding multiple elements does not work for append mwthod"
   ]
  },
  {
   "cell_type": "code",
   "execution_count": 10,
   "metadata": {},
   "outputs": [
    {
     "name": "stdout",
     "output_type": "stream",
     "text": [
      "[['a', 'b']]\n"
     ]
    }
   ],
   "source": [
    "list7.append([\"a\",\"b\"])\n",
    "print(list7) # this adds list into the list"
   ]
  },
  {
   "cell_type": "code",
   "execution_count": null,
   "metadata": {},
   "outputs": [],
   "source": [
    "# pop() -> Use to pop off the item from the list. By default pop takes off the last index, but we can also specify which index to pop off."
   ]
  },
  {
   "cell_type": "code",
   "execution_count": 13,
   "metadata": {},
   "outputs": [
    {
     "name": "stdout",
     "output_type": "stream",
     "text": [
      "Removed the element with last index without specifying the index: [1, 2, 3, 45, 'a']\n",
      "Removed the element with 0th index as it was specifed in the pop method above:[2, 3, 45, 'a']\n"
     ]
    }
   ],
   "source": [
    "list8 = [1,2,3,45,\"a\",\"b\"]\n",
    "\n",
    "list8.pop()\n",
    "print(f\"Removed the element with last index without specifying the index: {list8}\") # removed the element from the last index\n",
    "\n",
    "list8.pop(0)\n",
    "print(f\"Removed the element with 0th index as it was specifed in the pop method above:{list8}\") # removed element from 0th index"
   ]
  },
  {
   "cell_type": "code",
   "execution_count": 14,
   "metadata": {},
   "outputs": [
    {
     "data": {
      "text/plain": [
       "[2, 45, 'a']"
      ]
     },
     "execution_count": 14,
     "metadata": {},
     "output_type": "execute_result"
    }
   ],
   "source": [
    "list8.pop(-3)\n",
    "list8"
   ]
  },
  {
   "cell_type": "code",
   "execution_count": 26,
   "metadata": {},
   "outputs": [
    {
     "name": "stdout",
     "output_type": "stream",
     "text": [
      "[2, 4, 6, 8]\n"
     ]
    }
   ],
   "source": [
    "# remove odd numbers from the list\n",
    "list9 = [1,2,3,4,5,6,7,8,9]\n",
    "\n",
    "flag = 0\n",
    "for i in list9:\n",
    "    if i%2 != 0: # odd number here \"%\" gives remainder values\n",
    "        list9.pop(flag)\n",
    "        flag = flag + 1\n",
    "print(list9)"
   ]
  },
  {
   "cell_type": "code",
   "execution_count": 27,
   "metadata": {},
   "outputs": [
    {
     "ename": "IndexError",
     "evalue": "list index out of range",
     "output_type": "error",
     "traceback": [
      "\u001b[1;31m---------------------------------------------------------------------------\u001b[0m",
      "\u001b[1;31mIndexError\u001b[0m                                Traceback (most recent call last)",
      "Cell \u001b[1;32mIn[27], line 5\u001b[0m\n\u001b[0;32m      1\u001b[0m \u001b[38;5;66;03m# List index of out range -> this error will be shown if there is no element at that index\u001b[39;00m\n\u001b[0;32m      3\u001b[0m list10 \u001b[38;5;241m=\u001b[39m [\u001b[38;5;241m1\u001b[39m,\u001b[38;5;241m2\u001b[39m,\u001b[38;5;241m3\u001b[39m,\u001b[38;5;241m4\u001b[39m,\u001b[38;5;241m5\u001b[39m,\u001b[38;5;241m6\u001b[39m,\u001b[38;5;241m7\u001b[39m]\n\u001b[1;32m----> 5\u001b[0m \u001b[38;5;28mprint\u001b[39m(\u001b[43mlist10\u001b[49m\u001b[43m[\u001b[49m\u001b[38;5;241;43m111\u001b[39;49m\u001b[43m]\u001b[49m)\n",
      "\u001b[1;31mIndexError\u001b[0m: list index out of range"
     ]
    }
   ],
   "source": [
    "# List index of out range -> this error will be shown if there is no element at that index\n",
    "\n",
    "list10 = [1,2,3,4,5,6,7]\n",
    "\n",
    "print(list10[111])"
   ]
  },
  {
   "cell_type": "code",
   "execution_count": null,
   "metadata": {},
   "outputs": [],
   "source": [
    "# Sort method "
   ]
  },
  {
   "cell_type": "code",
   "execution_count": 34,
   "metadata": {},
   "outputs": [
    {
     "name": "stdout",
     "output_type": "stream",
     "text": [
      "[1, 2, 3, 4, 7, 10, 13]\n",
      "[3, 4, 2, 1, 10, 13, 7]\n"
     ]
    }
   ],
   "source": [
    "list11 = [3,4,2,1,10,13,7]\n",
    "\n",
    "print(sorted(list11)) # prints sorted list i.e sort the list in ascending order\n",
    "print(list11) # but it is not a permanent sort sulution we need to store it in another variable"
   ]
  },
  {
   "cell_type": "code",
   "execution_count": 35,
   "metadata": {},
   "outputs": [
    {
     "name": "stdout",
     "output_type": "stream",
     "text": [
      "[2, 5, 1, 13, 11, 45, -11]\n",
      "[-11, 1, 2, 5, 11, 13, 45]\n"
     ]
    }
   ],
   "source": [
    "list12 = [2,5,1,13,11,45,-11]\n",
    "print(list12)\n",
    "list12.sort() # this is a permanent sort method\n",
    "print(list12)"
   ]
  },
  {
   "cell_type": "code",
   "execution_count": null,
   "metadata": {},
   "outputs": [],
   "source": [
    "# Reverse method -> it reverse the list "
   ]
  },
  {
   "cell_type": "code",
   "execution_count": 36,
   "metadata": {},
   "outputs": [
    {
     "name": "stdout",
     "output_type": "stream",
     "text": [
      "[-11, 1, 2, 5, 11, 13, 45]\n"
     ]
    },
    {
     "data": {
      "text/plain": [
       "[45, 13, 11, 5, 2, 1, -11]"
      ]
     },
     "execution_count": 36,
     "metadata": {},
     "output_type": "execute_result"
    }
   ],
   "source": [
    "#[::-1]\n",
    "\n",
    "print(list12)\n",
    "list12[::-1] # reverse"
   ]
  },
  {
   "cell_type": "code",
   "execution_count": 38,
   "metadata": {},
   "outputs": [
    {
     "name": "stdout",
     "output_type": "stream",
     "text": [
      "[-11, 1, 2, 5, 11, 13, 45]\n",
      "[45, 13, 11, 5, 2, 1, -11]\n"
     ]
    }
   ],
   "source": [
    "#list13.sort(reverse=True)\n",
    "\n",
    "list13 = [-11, 1, 2, 5, 11, 13, 45]\n",
    "print(list13)\n",
    "list13.sort(reverse=True) # this will sort the list in reverse of descending order\n",
    "print(list13)"
   ]
  },
  {
   "cell_type": "code",
   "execution_count": 40,
   "metadata": {},
   "outputs": [
    {
     "data": {
      "text/plain": [
       "[45, 13, 11, 5, 2, 1, -11]"
      ]
     },
     "execution_count": 40,
     "metadata": {},
     "output_type": "execute_result"
    }
   ],
   "source": [
    "#list14.reverse()\n",
    "\n",
    "list14 = [-11, 1, 2, 5, 11, 13, 45]\n",
    "list14.reverse() # this also reverse the list\n",
    "list14"
   ]
  },
  {
   "cell_type": "code",
   "execution_count": 41,
   "metadata": {},
   "outputs": [
    {
     "data": {
      "text/plain": [
       "'aytida'"
      ]
     },
     "execution_count": 41,
     "metadata": {},
     "output_type": "execute_result"
    }
   ],
   "source": [
    "a = \"aditya\" # string reverse\n",
    "a[::-1]"
   ]
  }
 ],
 "metadata": {
  "kernelspec": {
   "display_name": "env1",
   "language": "python",
   "name": "python3"
  },
  "language_info": {
   "codemirror_mode": {
    "name": "ipython",
    "version": 3
   },
   "file_extension": ".py",
   "mimetype": "text/x-python",
   "name": "python",
   "nbconvert_exporter": "python",
   "pygments_lexer": "ipython3",
   "version": "3.8.18"
  }
 },
 "nbformat": 4,
 "nbformat_minor": 2
}
