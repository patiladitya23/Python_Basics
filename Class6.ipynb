{
 "cells": [
  {
   "cell_type": "code",
   "execution_count": null,
   "metadata": {},
   "outputs": [],
   "source": [
    "\"\"\"\n",
    "Agenda\n",
    "\n",
    "In built Data Structures in Python\n",
    "1. List\n",
    "\"\"\""
   ]
  },
  {
   "cell_type": "code",
   "execution_count": 4,
   "metadata": {},
   "outputs": [
    {
     "data": {
      "text/plain": [
       "list"
      ]
     },
     "execution_count": 4,
     "metadata": {},
     "output_type": "execute_result"
    }
   ],
   "source": [
    "# LIST\n",
    "\n",
    "A = [1,2,3,4] # list is collection of diffrent items/elements\n",
    "type(A)"
   ]
  },
  {
   "cell_type": "code",
   "execution_count": 5,
   "metadata": {},
   "outputs": [
    {
     "data": {
      "text/plain": [
       "list"
      ]
     },
     "execution_count": 5,
     "metadata": {},
     "output_type": "execute_result"
    }
   ],
   "source": [
    "B = [1,\"John\",2.5,3+2j] #list can have different types of elements\n",
    "type(B)"
   ]
  },
  {
   "cell_type": "code",
   "execution_count": null,
   "metadata": {},
   "outputs": [],
   "source": [
    "\"\"\"\n",
    "What is the difference between list of python and array of c/c++ ?\n",
    "-> Array contains elements of same data type and list of python can contain elements of different data types.\n",
    "\"\"\""
   ]
  },
  {
   "cell_type": "code",
   "execution_count": 6,
   "metadata": {},
   "outputs": [
    {
     "name": "stdout",
     "output_type": "stream",
     "text": [
      "1\n",
      "2\n",
      "3\n",
      "4\n"
     ]
    }
   ],
   "source": [
    "#printing elements of list\n",
    "\n",
    "A = [1,2,3,4]\n",
    "for elements in A:\n",
    "    print(elements)"
   ]
  },
  {
   "cell_type": "code",
   "execution_count": 7,
   "metadata": {},
   "outputs": [
    {
     "data": {
      "text/plain": [
       "4"
      ]
     },
     "execution_count": 7,
     "metadata": {},
     "output_type": "execute_result"
    }
   ],
   "source": [
    "# lenght of list\n",
    "\n",
    "A = [1,2,3,4]\n",
    "len(A)"
   ]
  },
  {
   "cell_type": "code",
   "execution_count": 11,
   "metadata": {},
   "outputs": [
    {
     "name": "stdout",
     "output_type": "stream",
     "text": [
      "Element 1: 1 & Data type of element 1: <class 'int'>\n",
      "Element 2: John & Data type of element 2: <class 'str'>\n",
      "Element 3: 2.5 & Data type of element 3: <class 'float'>\n",
      "Element 4: (3+2j) & Data type of element 4: <class 'complex'>\n"
     ]
    }
   ],
   "source": [
    "B = [1,\"John\",2.5,3+2j]\n",
    "for i in range(len(B)):\n",
    "    print(f\"Element {i+1}: {B[i]} & Data type of element {i+1}: {type(B[i])}\")"
   ]
  },
  {
   "cell_type": "code",
   "execution_count": 13,
   "metadata": {},
   "outputs": [
    {
     "data": {
      "text/plain": [
       "[3, 4, 5, 6, 7, 8, 9, 10]"
      ]
     },
     "execution_count": 13,
     "metadata": {},
     "output_type": "execute_result"
    }
   ],
   "source": [
    "# Indexing and Slicing of list\n",
    "\n",
    "A = [1,2,3,4,5,6,7,8,9,10]\n",
    "A[2:]"
   ]
  },
  {
   "cell_type": "code",
   "execution_count": 15,
   "metadata": {},
   "outputs": [
    {
     "data": {
      "text/plain": [
       "[1, 3, 5, 7]"
      ]
     },
     "execution_count": 15,
     "metadata": {},
     "output_type": "execute_result"
    }
   ],
   "source": [
    "A = [1,2,3,4,5,6,7,8,9,10]\n",
    "A[0:8:2]"
   ]
  },
  {
   "cell_type": "code",
   "execution_count": 19,
   "metadata": {},
   "outputs": [
    {
     "name": "stdout",
     "output_type": "stream",
     "text": [
      "0 1\n",
      "2 3\n",
      "4 5\n",
      "6 7\n"
     ]
    }
   ],
   "source": [
    "A = [1,2,3,4,5,6,7,8,9,10] \n",
    "for i in range(0,8,2): #we can perform same thing \"A[0:8:2]\" using for loop also \n",
    "    print(i, A[i])"
   ]
  },
  {
   "cell_type": "code",
   "execution_count": 20,
   "metadata": {},
   "outputs": [
    {
     "data": {
      "text/plain": [
       "[10, 9, 8, 7, 6, 5, 4, 3, 2, 1]"
      ]
     },
     "execution_count": 20,
     "metadata": {},
     "output_type": "execute_result"
    }
   ],
   "source": [
    "A = [1,2,3,4,5,6,7,8,9,10] \n",
    "A[::-1] #negative indexing (revering the list in python)"
   ]
  },
  {
   "cell_type": "code",
   "execution_count": 4,
   "metadata": {},
   "outputs": [
    {
     "name": "stdout",
     "output_type": "stream",
     "text": [
      "5\n",
      "4\n",
      "3\n",
      "2\n",
      "1\n"
     ]
    }
   ],
   "source": [
    "c = [1,2,3,4,5]\n",
    "for i in range (-1,-len(c)-1,-1): # second end of the range is excluded hence we have used -len(c)-1\n",
    "    print(c[i])"
   ]
  },
  {
   "cell_type": "code",
   "execution_count": 1,
   "metadata": {},
   "outputs": [
    {
     "name": "stdout",
     "output_type": "stream",
     "text": [
      "Orginal List: [1, 2, 3]\n",
      "list after updating 0th index value: [4, 2, 3]\n"
     ]
    }
   ],
   "source": [
    "#Updating List elements at specific index also called as mutable operations\n",
    "\n",
    "b = [1,2,3]\n",
    "print(f\"Orginal List: {b}\")\n",
    "b[0]=4\n",
    "print(f\"list after updating 0th index value: {b}\")"
   ]
  },
  {
   "cell_type": "code",
   "execution_count": 3,
   "metadata": {},
   "outputs": [
    {
     "data": {
      "text/plain": [
       "[4, 'ABC', 3]"
      ]
     },
     "execution_count": 3,
     "metadata": {},
     "output_type": "execute_result"
    }
   ],
   "source": [
    "b[-2]=\"ABC\"\n",
    "b"
   ]
  },
  {
   "cell_type": "code",
   "execution_count": 4,
   "metadata": {},
   "outputs": [
    {
     "data": {
      "text/plain": [
       "[78, 90.22, 'xyz', 4, 'ABC', 3]"
      ]
     },
     "execution_count": 4,
     "metadata": {},
     "output_type": "execute_result"
    }
   ],
   "source": [
    "# concatination ofLists\n",
    "\n",
    "a = [78,90.22,'xyz']\n",
    "a+b #this operation does not change the value pf a or b as it not assigned to any of the variable."
   ]
  },
  {
   "cell_type": "code",
   "execution_count": 5,
   "metadata": {},
   "outputs": [
    {
     "data": {
      "text/plain": [
       "[78, 90.22, 'xyz', 4, 'ABC', 3]"
      ]
     },
     "execution_count": 5,
     "metadata": {},
     "output_type": "execute_result"
    }
   ],
   "source": [
    "a = a + b # this changes the value of a as a + b is stores in a\n",
    "a"
   ]
  },
  {
   "cell_type": "code",
   "execution_count": 6,
   "metadata": {},
   "outputs": [
    {
     "data": {
      "text/plain": [
       "[78, 90.22, 'xyz', 4, 'ABC', 3, 78, 90.22, 'xyz', 4, 'ABC', 3]"
      ]
     },
     "execution_count": 6,
     "metadata": {},
     "output_type": "execute_result"
    }
   ],
   "source": [
    "a*2"
   ]
  },
  {
   "cell_type": "code",
   "execution_count": null,
   "metadata": {},
   "outputs": [],
   "source": [
    "#Basic List Operations"
   ]
  },
  {
   "cell_type": "code",
   "execution_count": 7,
   "metadata": {},
   "outputs": [
    {
     "data": {
      "text/plain": [
       "6"
      ]
     },
     "execution_count": 7,
     "metadata": {},
     "output_type": "execute_result"
    }
   ],
   "source": [
    "#Len()\n",
    " \n",
    "A = [1,2,3,4,5,6]\n",
    "len(A)"
   ]
  },
  {
   "cell_type": "code",
   "execution_count": 8,
   "metadata": {},
   "outputs": [
    {
     "data": {
      "text/plain": [
       "0"
      ]
     },
     "execution_count": 8,
     "metadata": {},
     "output_type": "execute_result"
    }
   ],
   "source": [
    "my_list = [] # not recommended method to create empty list\n",
    "len(my_list) "
   ]
  },
  {
   "cell_type": "code",
   "execution_count": 9,
   "metadata": {},
   "outputs": [
    {
     "data": {
      "text/plain": [
       "0"
      ]
     },
     "execution_count": 9,
     "metadata": {},
     "output_type": "execute_result"
    }
   ],
   "source": [
    "my_list = list() #recommanded method to create empty list\n",
    "len(my_list)"
   ]
  },
  {
   "cell_type": "code",
   "execution_count": 11,
   "metadata": {},
   "outputs": [
    {
     "name": "stdout",
     "output_type": "stream",
     "text": [
      "['1', '2']\n"
     ]
    }
   ],
   "source": [
    "list_of_itmes = list() #empty list\n",
    "\n",
    "N = int(input(\"Number of items to purchase: \"))\n",
    "for i in range(0,N):\n",
    "    user_input = input(\"Enter the item: \")\n",
    "    list_of_itmes = list_of_itmes + [user_input] # one way to append the empty list\n",
    "\n",
    "print(list_of_itmes)"
   ]
  },
  {
   "cell_type": "code",
   "execution_count": 16,
   "metadata": {},
   "outputs": [
    {
     "name": "stdout",
     "output_type": "stream",
     "text": [
      "['a', 'b', 'c']\n"
     ]
    }
   ],
   "source": [
    "listofitems = list()\n",
    "\n",
    "N = int(input(\"Enter the number of items: \"))\n",
    "i=0\n",
    "while i < N:\n",
    "    userinput = input(\"Enter the item: \")\n",
    "    listofitems = listofitems + [userinput]\n",
    "    i = i + 1\n",
    "print(listofitems)"
   ]
  },
  {
   "cell_type": "code",
   "execution_count": 19,
   "metadata": {},
   "outputs": [
    {
     "name": "stdout",
     "output_type": "stream",
     "text": [
      "1 is in the list\n"
     ]
    }
   ],
   "source": [
    "#Check membership in a list\n",
    "# 1. IN -> checks if the given element is in the list.\n",
    "\n",
    "my_list = [1,2,3,4,\"a\"]\n",
    "\"a\" in listofitems  #checks if the \"a \" is in the given list or not & returns a boolean value\n",
    "\n",
    "if 1 in my_list:\n",
    "    print(\"1 is in the list\")\n",
    "else:\n",
    "    print(\"1 is not in the list\")"
   ]
  },
  {
   "cell_type": "code",
   "execution_count": 20,
   "metadata": {},
   "outputs": [
    {
     "name": "stdout",
     "output_type": "stream",
     "text": [
      "b is not is the list\n",
      "'b' is been added to the list: [1, 2, 3, 'a', 'b']\n"
     ]
    }
   ],
   "source": [
    "# 2. NOT IN -> checks if given element is not in the list.\n",
    "\n",
    "abc_list = [1,2,3,\"a\"]\n",
    "if \"b\" not in abc_list:\n",
    "    print(\"b is not is the list\")\n",
    "    abc_list = abc_list + [\"b\"]\n",
    "    print(f\"'b' is been added to the list: {abc_list}\")"
   ]
  },
  {
   "cell_type": "code",
   "execution_count": 21,
   "metadata": {},
   "outputs": [
    {
     "name": "stdout",
     "output_type": "stream",
     "text": [
      "sdftg\n",
      "3\n"
     ]
    },
    {
     "ename": "TypeError",
     "evalue": "'>' not supported between instances of 'int' and 'str'",
     "output_type": "error",
     "traceback": [
      "\u001b[1;31m---------------------------------------------------------------------------\u001b[0m",
      "\u001b[1;31mTypeError\u001b[0m                                 Traceback (most recent call last)",
      "\u001b[1;32mc:\\Users\\adity\\Desktop\\Demo\\Python_Basics\\Class6.ipynb Cell 26\u001b[0m line \u001b[0;36m8\n\u001b[0;32m      <a href='vscode-notebook-cell:/c%3A/Users/adity/Desktop/Demo/Python_Basics/Class6.ipynb#X35sZmlsZQ%3D%3D?line=5'>6</a>\u001b[0m \u001b[39mprint\u001b[39m(\u001b[39mmax\u001b[39m(list1))\n\u001b[0;32m      <a href='vscode-notebook-cell:/c%3A/Users/adity/Desktop/Demo/Python_Basics/Class6.ipynb#X35sZmlsZQ%3D%3D?line=6'>7</a>\u001b[0m \u001b[39mprint\u001b[39m(\u001b[39mmax\u001b[39m(list2))\n\u001b[1;32m----> <a href='vscode-notebook-cell:/c%3A/Users/adity/Desktop/Demo/Python_Basics/Class6.ipynb#X35sZmlsZQ%3D%3D?line=7'>8</a>\u001b[0m \u001b[39mprint\u001b[39m(\u001b[39mmax\u001b[39;49m(list3))\n",
      "\u001b[1;31mTypeError\u001b[0m: '>' not supported between instances of 'int' and 'str'"
     ]
    }
   ],
   "source": [
    "# max() -> we can find max value from the given list.\n",
    "\n",
    "list1 = [\"abc\", \"ertt\", \"sdftg\"]\n",
    "list2 = [1,2,3]\n",
    "list3 = [\"abc\", \"ertt\", \"sdftg\",4,5,6]\n",
    "print(max(list1)) # -> return the element which is has max ASCII values \n",
    "print(max(list2)) # -> return the element which is of max value\n",
    "print(max(list3)) # -> Does not work for the list of diff data type"
   ]
  },
  {
   "cell_type": "code",
   "execution_count": 22,
   "metadata": {},
   "outputs": [
    {
     "name": "stdout",
     "output_type": "stream",
     "text": [
      "j\n"
     ]
    }
   ],
   "source": [
    "list4 = [\"a\",\"b\",\"c\",\"d\",\"e\",\"f\",\"g\",\"h\",\"i\",\"j\"]\n",
    "print(max(list4)) # this return the element whose ASCII value is the highest"
   ]
  },
  {
   "cell_type": "code",
   "execution_count": 23,
   "metadata": {},
   "outputs": [
    {
     "name": "stdout",
     "output_type": "stream",
     "text": [
      "d\n"
     ]
    }
   ],
   "source": [
    "list5 = [\"A\",\"b\",\"d\",\"D\"]\n",
    "print(max(list5)) # here \"d\" has the highest ASCII value"
   ]
  },
  {
   "cell_type": "code",
   "execution_count": 24,
   "metadata": {},
   "outputs": [
    {
     "ename": "TypeError",
     "evalue": "'>' not supported between instances of 'complex' and 'complex'",
     "output_type": "error",
     "traceback": [
      "\u001b[1;31m---------------------------------------------------------------------------\u001b[0m",
      "\u001b[1;31mTypeError\u001b[0m                                 Traceback (most recent call last)",
      "\u001b[1;32mc:\\Users\\adity\\Desktop\\Demo\\Python_Basics\\Class6.ipynb Cell 29\u001b[0m line \u001b[0;36m2\n\u001b[0;32m      <a href='vscode-notebook-cell:/c%3A/Users/adity/Desktop/Demo/Python_Basics/Class6.ipynb#X41sZmlsZQ%3D%3D?line=0'>1</a>\u001b[0m list6 \u001b[39m=\u001b[39m [\u001b[39m1\u001b[39m\u001b[39m+\u001b[39m\u001b[39m5\u001b[39mj,\u001b[39m2\u001b[39m\u001b[39m+\u001b[39m\u001b[39m3\u001b[39mj]\n\u001b[1;32m----> <a href='vscode-notebook-cell:/c%3A/Users/adity/Desktop/Demo/Python_Basics/Class6.ipynb#X41sZmlsZQ%3D%3D?line=1'>2</a>\u001b[0m \u001b[39mprint\u001b[39m(\u001b[39mmax\u001b[39;49m(list6))\n",
      "\u001b[1;31mTypeError\u001b[0m: '>' not supported between instances of 'complex' and 'complex'"
     ]
    }
   ],
   "source": [
    "list6 = [1+5j,2+3j]\n",
    "print(max(list6)) # does not work for complex numbers"
   ]
  },
  {
   "cell_type": "code",
   "execution_count": 25,
   "metadata": {},
   "outputs": [
    {
     "name": "stdout",
     "output_type": "stream",
     "text": [
      "abc\n",
      "1\n"
     ]
    },
    {
     "ename": "TypeError",
     "evalue": "'<' not supported between instances of 'int' and 'str'",
     "output_type": "error",
     "traceback": [
      "\u001b[1;31m---------------------------------------------------------------------------\u001b[0m",
      "\u001b[1;31mTypeError\u001b[0m                                 Traceback (most recent call last)",
      "\u001b[1;32mc:\\Users\\adity\\Desktop\\Demo\\Python_Basics\\Class6.ipynb Cell 30\u001b[0m line \u001b[0;36m5\n\u001b[0;32m      <a href='vscode-notebook-cell:/c%3A/Users/adity/Desktop/Demo/Python_Basics/Class6.ipynb#X42sZmlsZQ%3D%3D?line=2'>3</a>\u001b[0m \u001b[39mprint\u001b[39m(\u001b[39mmin\u001b[39m(list1))\n\u001b[0;32m      <a href='vscode-notebook-cell:/c%3A/Users/adity/Desktop/Demo/Python_Basics/Class6.ipynb#X42sZmlsZQ%3D%3D?line=3'>4</a>\u001b[0m \u001b[39mprint\u001b[39m(\u001b[39mmin\u001b[39m(list2))\n\u001b[1;32m----> <a href='vscode-notebook-cell:/c%3A/Users/adity/Desktop/Demo/Python_Basics/Class6.ipynb#X42sZmlsZQ%3D%3D?line=4'>5</a>\u001b[0m \u001b[39mprint\u001b[39m(\u001b[39mmin\u001b[39;49m(list3))\n\u001b[0;32m      <a href='vscode-notebook-cell:/c%3A/Users/adity/Desktop/Demo/Python_Basics/Class6.ipynb#X42sZmlsZQ%3D%3D?line=5'>6</a>\u001b[0m \u001b[39mprint\u001b[39m(\u001b[39mmin\u001b[39m(list4))\n\u001b[0;32m      <a href='vscode-notebook-cell:/c%3A/Users/adity/Desktop/Demo/Python_Basics/Class6.ipynb#X42sZmlsZQ%3D%3D?line=6'>7</a>\u001b[0m \u001b[39mprint\u001b[39m(\u001b[39mmin\u001b[39m(list5))\n",
      "\u001b[1;31mTypeError\u001b[0m: '<' not supported between instances of 'int' and 'str'"
     ]
    }
   ],
   "source": [
    "# min() -> it gives the minimum value in the list\n",
    "\n",
    "print(min(list1))\n",
    "print(min(list2))\n",
    "print(min(list3))"
   ]
  },
  {
   "cell_type": "code",
   "execution_count": 26,
   "metadata": {},
   "outputs": [
    {
     "name": "stdout",
     "output_type": "stream",
     "text": [
      "a\n",
      "A\n"
     ]
    },
    {
     "ename": "TypeError",
     "evalue": "'<' not supported between instances of 'complex' and 'complex'",
     "output_type": "error",
     "traceback": [
      "\u001b[1;31m---------------------------------------------------------------------------\u001b[0m",
      "\u001b[1;31mTypeError\u001b[0m                                 Traceback (most recent call last)",
      "\u001b[1;32mc:\\Users\\adity\\Desktop\\Demo\\Python_Basics\\Class6.ipynb Cell 31\u001b[0m line \u001b[0;36m3\n\u001b[0;32m      <a href='vscode-notebook-cell:/c%3A/Users/adity/Desktop/Demo/Python_Basics/Class6.ipynb#X43sZmlsZQ%3D%3D?line=0'>1</a>\u001b[0m \u001b[39mprint\u001b[39m(\u001b[39mmin\u001b[39m(list4))\n\u001b[0;32m      <a href='vscode-notebook-cell:/c%3A/Users/adity/Desktop/Demo/Python_Basics/Class6.ipynb#X43sZmlsZQ%3D%3D?line=1'>2</a>\u001b[0m \u001b[39mprint\u001b[39m(\u001b[39mmin\u001b[39m(list5))\n\u001b[1;32m----> <a href='vscode-notebook-cell:/c%3A/Users/adity/Desktop/Demo/Python_Basics/Class6.ipynb#X43sZmlsZQ%3D%3D?line=2'>3</a>\u001b[0m \u001b[39mprint\u001b[39m(\u001b[39mmin\u001b[39;49m(list6))\n",
      "\u001b[1;31mTypeError\u001b[0m: '<' not supported between instances of 'complex' and 'complex'"
     ]
    }
   ],
   "source": [
    "print(min(list4))\n",
    "print(min(list5))\n",
    "print(min(list6))"
   ]
  },
  {
   "cell_type": "code",
   "execution_count": 28,
   "metadata": {},
   "outputs": [
    {
     "name": "stdout",
     "output_type": "stream",
     "text": [
      "8\n"
     ]
    }
   ],
   "source": [
    "#print the name which highest lenght in the list\n",
    "list7 = [\"bhaveen\", \"abhiskek\", \"dew\", \"dj\", \"charlie\", \"Doctor\"]\n",
    "max_len = 0\n",
    "for i in list7:\n",
    "    if (len(i)>max_len):\n",
    "        max_len = len(i)\n",
    "\n",
    "print(max_len)"
   ]
  }
 ],
 "metadata": {
  "kernelspec": {
   "display_name": "env1",
   "language": "python",
   "name": "python3"
  },
  "language_info": {
   "codemirror_mode": {
    "name": "ipython",
    "version": 3
   },
   "file_extension": ".py",
   "mimetype": "text/x-python",
   "name": "python",
   "nbconvert_exporter": "python",
   "pygments_lexer": "ipython3",
   "version": "3.8.18"
  }
 },
 "nbformat": 4,
 "nbformat_minor": 2
}
