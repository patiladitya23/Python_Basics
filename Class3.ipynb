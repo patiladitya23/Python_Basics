{
 "cells": [
  {
   "cell_type": "code",
   "execution_count": null,
   "metadata": {},
   "outputs": [],
   "source": [
    "\"\"\"\n",
    "Agenda \n",
    "\n",
    "1. Glimpse of Conditional Statment\n",
    "2. Operators\n",
    "     Logical\n",
    "     Equality\n",
    "     Comparison\n",
    "     Arithmetic\n",
    "3. String Methods\n",
    "\"\"\""
   ]
  },
  {
   "cell_type": "code",
   "execution_count": null,
   "metadata": {},
   "outputs": [],
   "source": [
    "#Conditional Statement (if else)\n",
    "\n",
    "'''\n",
    "if condition:\n",
    "    print(\"Execute this statement\")\n",
    "else:\n",
    "    print(\"excecute this statement if condition is not true\")     \n",
    "'''"
   ]
  },
  {
   "cell_type": "code",
   "execution_count": 2,
   "metadata": {},
   "outputs": [
    {
     "name": "stdout",
     "output_type": "stream",
     "text": [
      "Lets Concentra\n"
     ]
    }
   ],
   "source": [
    "class_started = True\n",
    "\n",
    "if class_started: #true condition\n",
    "    print(\"Lets Concentrate\")"
   ]
  },
  {
   "cell_type": "code",
   "execution_count": 3,
   "metadata": {},
   "outputs": [
    {
     "name": "stdout",
     "output_type": "stream",
     "text": [
      "class not started yet\n"
     ]
    }
   ],
   "source": [
    "class_started = False\n",
    "\n",
    "if class_started: #false condition\n",
    "    print(\"lets concentrate\")\n",
    "else:\n",
    "    print(\"class not started yet\")"
   ]
  },
  {
   "cell_type": "code",
   "execution_count": 4,
   "metadata": {},
   "outputs": [
    {
     "ename": "IndentationError",
     "evalue": "expected an indented block (1247752269.py, line 6)",
     "output_type": "error",
     "traceback": [
      "\u001b[1;36m  Cell \u001b[1;32mIn[4], line 6\u001b[1;36m\u001b[0m\n\u001b[1;33m    print(\"lets concentrate\")\u001b[0m\n\u001b[1;37m    ^\u001b[0m\n\u001b[1;31mIndentationError\u001b[0m\u001b[1;31m:\u001b[0m expected an indented block\n"
     ]
    }
   ],
   "source": [
    "#use of indentation\n",
    "\n",
    "class_started = False\n",
    "\n",
    "if class_started:\n",
    "print(\"lets concentrate\") #indentation is necessary in python\n",
    "else:\n",
    "print(\"class not started yet\")"
   ]
  },
  {
   "cell_type": "code",
   "execution_count": 6,
   "metadata": {},
   "outputs": [
    {
     "name": "stdout",
     "output_type": "stream",
     "text": [
      "Since its raining\n",
      "Lets work from home\n"
     ]
    }
   ],
   "source": [
    "#if it raining lets work from home else lets work from office\n",
    "\n",
    "raining = True\n",
    "\n",
    "if raining:\n",
    "    print(\"Since its raining\")\n",
    "    print(\"Lets work from home\")\n",
    "else:\n",
    "    print(\"Since its not raining\")\n",
    "    print(\"Lets work from office\")"
   ]
  },
  {
   "cell_type": "code",
   "execution_count": 8,
   "metadata": {},
   "outputs": [
    {
     "name": "stdout",
     "output_type": "stream",
     "text": [
      "Since its raining\n",
      "Lets work from home\n"
     ]
    }
   ],
   "source": [
    "raining = bool(input(\"It is raining?: [0-false/1-true]\"))\n",
    "\n",
    "if raining:\n",
    "    print(\"Since its raining\")\n",
    "    print(\"Lets work from home\")\n",
    "else:\n",
    "    print(\"Since its not raining\")\n",
    "    print(\"Lets work from office\")"
   ]
  },
  {
   "cell_type": "code",
   "execution_count": null,
   "metadata": {},
   "outputs": [],
   "source": [
    "'''\n",
    "Logical Operators\n",
    "\n",
    "not - negation\n",
    "and - conditional AND\n",
    "or  - conditional OR\n",
    "'''"
   ]
  },
  {
   "cell_type": "code",
   "execution_count": 9,
   "metadata": {},
   "outputs": [
    {
     "name": "stdout",
     "output_type": "stream",
     "text": [
      "Since class is not started...\n",
      "Lets revise\n"
     ]
    }
   ],
   "source": [
    "# not\n",
    "\n",
    "classStarted = False\n",
    "\n",
    "if not classStarted:\n",
    "    print(\"Since class is not started...\")\n",
    "    print(\"Lets revise\")\n",
    "else:\n",
    "    print(\"Since class started...\")\n",
    "    print(\"Lets concentrate\")"
   ]
  },
  {
   "cell_type": "code",
   "execution_count": 10,
   "metadata": {},
   "outputs": [
    {
     "name": "stdout",
     "output_type": "stream",
     "text": [
      "both are not even numbers\n"
     ]
    }
   ],
   "source": [
    "#and - conditional AND\n",
    "\n",
    "num1 = int(input(\"Enter the first even number: \"))\n",
    "num2 = int(input(\"Enter the second even number: \"))\n",
    "\n",
    "if num1 % 2 ==0 and num2 % 2 == 0: #both the conditions should be TRUE\n",
    "    print(f\"Addition of {num1} and {num2} is {num1 + num2}\")\n",
    "else:\n",
    "    print(\"both are not even numbers\")"
   ]
  },
  {
   "cell_type": "code",
   "execution_count": 13,
   "metadata": {},
   "outputs": [
    {
     "name": "stdout",
     "output_type": "stream",
     "text": [
      "Sum of 1 and 0 will grater than 0\n"
     ]
    }
   ],
   "source": [
    "#or - conditional OR\n",
    "\n",
    "num1 = int(input(\"Enter the first  number: \"))\n",
    "num2 = int(input(\"Enter the second  number: \"))\n",
    "\n",
    "if num1 > 0 or num2 > 0: #atleast one condition should be TRUE\n",
    "    print(f\"Sum of {num1} and {num2} will grater than 0\")\n",
    "else:\n",
    "    print(f\"Sum of {num1} and {num2} will be equal to 0\")"
   ]
  },
  {
   "cell_type": "code",
   "execution_count": 14,
   "metadata": {},
   "outputs": [
    {
     "name": "stdout",
     "output_type": "stream",
     "text": [
      "Attendace criteria met? : False\n",
      "Assignment criteria met? : False\n",
      "You are not eligible for examination\n"
     ]
    }
   ],
   "source": [
    "# AND example\n",
    "\n",
    "attendance = 70\n",
    "assignment = 60\n",
    "\n",
    "print(f\"Attendace criteria met? : {attendance>=75}\")\n",
    "print(f\"Assignment criteria met? : {assignment>=70}\")\n",
    "\n",
    "if attendance > 75 and assignment > 70:\n",
    "    print(\"You are eligible for examination\")\n",
    "else:\n",
    "    print(\"You are not eligible for examination\")"
   ]
  },
  {
   "cell_type": "code",
   "execution_count": 15,
   "metadata": {},
   "outputs": [
    {
     "name": "stdout",
     "output_type": "stream",
     "text": [
      "Go Ahead to payments...\n"
     ]
    }
   ],
   "source": [
    "# OR exmaple\n",
    "\n",
    "own_credit_card = False\n",
    "own_debit_card = False\n",
    "net_banking = True\n",
    "\n",
    "if own_credit_card or own_debit_card or net_banking:\n",
    "    print(\"Go Ahead to payments...\")\n",
    "else:\n",
    "    print(\"Cash on delivery available\")"
   ]
  },
  {
   "cell_type": "code",
   "execution_count": null,
   "metadata": {},
   "outputs": [],
   "source": [
    "# Equality Operators\n",
    "'''\n",
    "is      - a is b True   - return true if a and b point to the same object\n",
    "is not  - a is not b    - return true if a and b do not points to the same object\n",
    "==      - a==b          - a is equal to b\n",
    "!=      - a!=b          - a is not equal to b\n",
    "'''"
   ]
  },
  {
   "cell_type": "code",
   "execution_count": 16,
   "metadata": {},
   "outputs": [
    {
     "name": "stdout",
     "output_type": "stream",
     "text": [
      "A and B are same\n"
     ]
    }
   ],
   "source": [
    "# is\n",
    "# in this case it points to memory address/block to check the condition\n",
    "A = 1\n",
    "B = 1\n",
    "\n",
    "if A is B:\n",
    "    print(\"A and B are same\")\n",
    "else:\n",
    "    print(\"A and B are not same\")"
   ]
  },
  {
   "cell_type": "code",
   "execution_count": 17,
   "metadata": {},
   "outputs": [
    {
     "name": "stdout",
     "output_type": "stream",
     "text": [
      "A and B are not same\n"
     ]
    }
   ],
   "source": [
    "A = 1\n",
    "B = 2\n",
    "\n",
    "if A is B:\n",
    "    print(\"A and B are same\")\n",
    "else:\n",
    "    print(\"A and B are not same\")"
   ]
  },
  {
   "cell_type": "code",
   "execution_count": 22,
   "metadata": {},
   "outputs": [
    {
     "data": {
      "text/plain": [
       "True"
      ]
     },
     "execution_count": 22,
     "metadata": {},
     "output_type": "execute_result"
    }
   ],
   "source": [
    "x = \"Alex\"\n",
    "y = \"Alex\"\n",
    "\n",
    "x is y"
   ]
  },
  {
   "cell_type": "code",
   "execution_count": 23,
   "metadata": {},
   "outputs": [
    {
     "data": {
      "text/plain": [
       "False"
      ]
     },
     "execution_count": 23,
     "metadata": {},
     "output_type": "execute_result"
    }
   ],
   "source": [
    "i = [1,'hi','john']\n",
    "j = [1,'hi','john']\n",
    "\n",
    "i is j #it does not work for list as both the list has assigned diff memory loacation as it can appended any time"
   ]
  },
  {
   "cell_type": "code",
   "execution_count": 18,
   "metadata": {},
   "outputs": [
    {
     "name": "stdout",
     "output_type": "stream",
     "text": [
      "A and B are same\n"
     ]
    }
   ],
   "source": [
    "# ==\n",
    "# in this case it checks the value of the the variable\n",
    "A = 1\n",
    "B = 1\n",
    "\n",
    "if A == B:\n",
    "    print(\"A and B are same\")\n",
    "else:\n",
    "    print(\"A and B are not same\")"
   ]
  },
  {
   "cell_type": "code",
   "execution_count": 19,
   "metadata": {},
   "outputs": [
    {
     "name": "stdout",
     "output_type": "stream",
     "text": [
      "A and B are not same\n"
     ]
    }
   ],
   "source": [
    "A = 1\n",
    "B = 2\n",
    "\n",
    "if A == B:\n",
    "    print(\"A and B are same\")\n",
    "else:\n",
    "    print(\"A and B are not same\")"
   ]
  },
  {
   "cell_type": "code",
   "execution_count": 21,
   "metadata": {},
   "outputs": [
    {
     "name": "stdout",
     "output_type": "stream",
     "text": [
      "A and B are not same\n"
     ]
    }
   ],
   "source": [
    "# !=\n",
    "\n",
    "A = 2\n",
    "B = 1\n",
    "\n",
    "if A != B:\n",
    "    print(\"A and B are not same\")\n",
    "else:\n",
    "    print(\"A and B are same\")"
   ]
  },
  {
   "cell_type": "code",
   "execution_count": null,
   "metadata": {},
   "outputs": [],
   "source": [
    "# Comparison Operators\n",
    "\n",
    "'''\n",
    "<   -   less than\n",
    "<=  -   less than or equal\n",
    ">   -   greater than\n",
    ">=  -   greater than or equal\n",
    "'''"
   ]
  },
  {
   "cell_type": "code",
   "execution_count": 29,
   "metadata": {},
   "outputs": [
    {
     "name": "stdout",
     "output_type": "stream",
     "text": [
      "n is greater than m\n"
     ]
    }
   ],
   "source": [
    "m = 100\n",
    "n = 102\n",
    "\n",
    "if m > n:\n",
    "    print (\"m is greater than n\")\n",
    "else:\n",
    "    print (\"n is greater than m\")"
   ]
  },
  {
   "cell_type": "code",
   "execution_count": 32,
   "metadata": {},
   "outputs": [
    {
     "name": "stdout",
     "output_type": "stream",
     "text": [
      "you are eligible for examination\n"
     ]
    }
   ],
   "source": [
    "m = 75\n",
    "if m >= 75:\n",
    "    print (\"you are eligible for examination\")\n",
    "else:\n",
    "    print (\"you are not eligible for examination\")"
   ]
  },
  {
   "cell_type": "code",
   "execution_count": 33,
   "metadata": {},
   "outputs": [
    {
     "name": "stdout",
     "output_type": "stream",
     "text": [
      "you are detained\n"
     ]
    }
   ],
   "source": [
    "m = 74\n",
    "\n",
    "if m <= 75:\n",
    "    print (\"you are detained\")\n",
    "else:\n",
    "    print (\"you are not detained\")"
   ]
  },
  {
   "cell_type": "code",
   "execution_count": 34,
   "metadata": {},
   "outputs": [
    {
     "name": "stdout",
     "output_type": "stream",
     "text": [
      "m is smaller than n\n"
     ]
    }
   ],
   "source": [
    "m = 99\n",
    "n = 1000\n",
    "\n",
    "if m < n:\n",
    "    print (\"m is smaller than n\")\n",
    "else:\n",
    "    print (\"m is larger than n\")"
   ]
  },
  {
   "cell_type": "code",
   "execution_count": null,
   "metadata": {},
   "outputs": [],
   "source": [
    "# Arithmatic Operators\n",
    "'''\n",
    "+   - Addition\n",
    "-   - Subtraction\n",
    "*   - Multiplication\n",
    "/   - True Division\n",
    "//  - integer division\n",
    "%   - the modulo operator\n",
    "'''"
   ]
  },
  {
   "cell_type": "code",
   "execution_count": 3,
   "metadata": {},
   "outputs": [
    {
     "name": "stdout",
     "output_type": "stream",
     "text": [
      "45 - this is a addition operation\n",
      "-1 - this is a subtraction operation\n",
      "506 - this is a multiplication operation\n",
      "0.9565217391304348 - this is normal division operation which gives us quotient\n",
      "0 - this is integer division operation which gives us quotient (i.e. answer) in integer format\n",
      "22 - this mode operation which gives us remainder\n"
     ]
    }
   ],
   "source": [
    "A= 22\n",
    "B = 23\n",
    "\n",
    "print(f\"{A+B} - this is a addition operation\")\n",
    "print(f\"{A-B} - this is a subtraction operation\")\n",
    "print(f\"{A*B} - this is a multiplication operation\")\n",
    "print(f\"{A/B} - this is normal division operation which gives us quotient\") \n",
    "print(f\"{A//B} - this is integer division operation which gives us quotient (i.e. answer) in integer format\")\n",
    "print(f\"{A%B} - this mode operation which gives us remainder\")"
   ]
  }
 ],
 "metadata": {
  "kernelspec": {
   "display_name": "env1",
   "language": "python",
   "name": "python3"
  },
  "language_info": {
   "codemirror_mode": {
    "name": "ipython",
    "version": 3
   },
   "file_extension": ".py",
   "mimetype": "text/x-python",
   "name": "python",
   "nbconvert_exporter": "python",
   "pygments_lexer": "ipython3",
   "version": "3.8.18"
  }
 },
 "nbformat": 4,
 "nbformat_minor": 2
}
