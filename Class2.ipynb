{
 "cells": [
  {
   "cell_type": "code",
   "execution_count": 3,
   "metadata": {},
   "outputs": [
    {
     "data": {
      "text/plain": [
       "'\\n1. Variable Case Sensitivity\\n2. Reserved words in Python\\n3. Multi assignment of variables\\n4. User input\\n5. Type casting and type conversion\\n6. Memory block\\n7. Operators\\n    Logical\\n    Equality\\n    Comparison\\n    Arithmetic\\n    Bitwise\\n    Operator for Sets and Dictionary\\n8. String Methods\\n'"
      ]
     },
     "execution_count": 3,
     "metadata": {},
     "output_type": "execute_result"
    }
   ],
   "source": [
    "\"\"\"\n",
    "1. Variable Case Sensitivity\n",
    "2. Reserved words in Python\n",
    "3. Multi assignment of variables\n",
    "4. User input\n",
    "5. Type casting and type conversion\n",
    "6. Memory block\n",
    "---------------------------------------\n",
    "7. Operators\n",
    "    Logical\n",
    "    Equality\n",
    "    Comparison\n",
    "    Arithmetic\n",
    "    Bitwise\n",
    "    Operator for Sets and Dictionary\n",
    "8. String Methods\n",
    "\"\"\""
   ]
  },
  {
   "cell_type": "code",
   "execution_count": 5,
   "metadata": {},
   "outputs": [
    {
     "data": {
      "text/plain": [
       "' Both are different vairables in terms of lower and upper case letters'"
      ]
     },
     "execution_count": 5,
     "metadata": {},
     "output_type": "execute_result"
    }
   ],
   "source": [
    "#Variable Case Sensitivity\n",
    "\n",
    "Ten = 10\n",
    "ten = 10\n",
    "\n",
    "\"\"\" Both are different vairables in terms of lower and upper case letters\"\"\""
   ]
  },
  {
   "cell_type": "code",
   "execution_count": null,
   "metadata": {},
   "outputs": [],
   "source": [
    "#Reserved words in Python\n",
    "\n",
    "\"\"\"\n",
    "1. We should not use reserved words as variable names\n",
    "2. Also python does not restrict user ot use reserved words as variable names\n",
    "\"\"\""
   ]
  },
  {
   "cell_type": "code",
   "execution_count": 6,
   "metadata": {},
   "outputs": [
    {
     "data": {
      "text/plain": [
       "str"
      ]
     },
     "execution_count": 6,
     "metadata": {},
     "output_type": "execute_result"
    }
   ],
   "source": [
    "print = \"Hi\" #python does not restrict user ot use reserved words as variable names\n",
    "type (print)"
   ]
  },
  {
   "cell_type": "code",
   "execution_count": 11,
   "metadata": {},
   "outputs": [
    {
     "name": "stdout",
     "output_type": "stream",
     "text": [
      "<built-in function print>\n"
     ]
    }
   ],
   "source": [
    "print (print) # can not use print keyword to print as print is used as variable before"
   ]
  },
  {
   "cell_type": "code",
   "execution_count": 8,
   "metadata": {},
   "outputs": [],
   "source": [
    "del print # to delete the print variable we created in above block"
   ]
  },
  {
   "cell_type": "code",
   "execution_count": 9,
   "metadata": {},
   "outputs": [
    {
     "name": "stdout",
     "output_type": "stream",
     "text": [
      "Hello World\n"
     ]
    }
   ],
   "source": [
    "print (\"Hello World\")"
   ]
  },
  {
   "cell_type": "code",
   "execution_count": 10,
   "metadata": {},
   "outputs": [
    {
     "data": {
      "text/plain": [
       "'\\nReserved Words -\\nand       del       from      not       while    \\nas        elif      global    or        with     \\nassert    else      if        pass      yield    \\nbreak     except    import    print              \\nclass     exec      in        raise              \\ncontinue  finally   is        return             \\ndef       for       lambda    try\\n'"
      ]
     },
     "execution_count": 10,
     "metadata": {},
     "output_type": "execute_result"
    }
   ],
   "source": [
    "\"\"\"\n",
    "Reserved Words -\n",
    "and       del       from      not       while    \n",
    "as        elif      global    or        with     \n",
    "assert    else      if        pass      yield    \n",
    "break     except    import    print              \n",
    "class     exec      in        raise              \n",
    "continue  finally   is        return             \n",
    "def       for       lambda    try\n",
    "\"\"\""
   ]
  },
  {
   "cell_type": "code",
   "execution_count": 23,
   "metadata": {},
   "outputs": [],
   "source": [
    "# Multi assignment of variables\n",
    "\n",
    "a, b, c = 10, 20.22, 'hi'"
   ]
  },
  {
   "cell_type": "code",
   "execution_count": 24,
   "metadata": {},
   "outputs": [
    {
     "name": "stdout",
     "output_type": "stream",
     "text": [
      "<class 'int'>\n",
      "<class 'float'>\n",
      "<class 'str'>\n"
     ]
    }
   ],
   "source": [
    "print(type(a))\n",
    "print(type(b))\n",
    "print(type(c))"
   ]
  },
  {
   "cell_type": "code",
   "execution_count": 60,
   "metadata": {},
   "outputs": [
    {
     "name": "stdout",
     "output_type": "stream",
     "text": [
      "Johan.Jacob@helloworld.com\n"
     ]
    }
   ],
   "source": [
    "first_name, last_name = \"Johan\", \"Jacob\"\n",
    "\n",
    "print(F\"{first_name}.{last_name}@helloworld.com\")"
   ]
  },
  {
   "cell_type": "code",
   "execution_count": 25,
   "metadata": {},
   "outputs": [
    {
     "ename": "TypeError",
     "evalue": "cannot unpack non-iterable int object",
     "output_type": "error",
     "traceback": [
      "\u001b[1;31m---------------------------------------------------------------------------\u001b[0m",
      "\u001b[1;31mTypeError\u001b[0m                                 Traceback (most recent call last)",
      "\u001b[1;32mc:\\Users\\adity\\Desktop\\Demo\\Python_Basics\\Class2.ipynb Cell 11\u001b[0m line \u001b[0;36m1\n\u001b[1;32m----> <a href='vscode-notebook-cell:/c%3A/Users/adity/Desktop/Demo/Python_Basics/Class2.ipynb#X14sZmlsZQ%3D%3D?line=0'>1</a>\u001b[0m x, y, z \u001b[39m=\u001b[39m \u001b[39m10\u001b[39m  \u001b[39m# not having enough inputs to all the varibales\u001b[39;00m\n",
      "\u001b[1;31mTypeError\u001b[0m: cannot unpack non-iterable int object"
     ]
    }
   ],
   "source": [
    "x, y, z = 10  # not having enough inputs to all the varibales"
   ]
  },
  {
   "cell_type": "code",
   "execution_count": 27,
   "metadata": {},
   "outputs": [
    {
     "name": "stdout",
     "output_type": "stream",
     "text": [
      "10 10 10\n"
     ]
    }
   ],
   "source": [
    "i=j=k=10\n",
    "print(i,j,k)"
   ]
  },
  {
   "cell_type": "code",
   "execution_count": 31,
   "metadata": {},
   "outputs": [
    {
     "name": "stdout",
     "output_type": "stream",
     "text": [
      "You have entered your name as jOHN\n"
     ]
    }
   ],
   "source": [
    "#User input\n",
    "\n",
    "name= input(\"Enter your Name: \")\n",
    "print(f\"You have entered your name as {name}\")"
   ]
  },
  {
   "cell_type": "code",
   "execution_count": 39,
   "metadata": {},
   "outputs": [
    {
     "name": "stdout",
     "output_type": "stream",
     "text": [
      "A: 13, B: 13\n",
      "Sum of A & B is: 1313\n",
      "<class 'str'> <class 'str'>\n"
     ]
    }
   ],
   "source": [
    "A = input (\"Enter value for A : \")\n",
    "B = input (\"Enter value for B : \")\n",
    "\n",
    "print (f\"A: {A}, B: {B}\")\n",
    "print (f\"Sum of A & B is: {A + B}\")\n",
    "print(type(A), type(B))"
   ]
  },
  {
   "cell_type": "code",
   "execution_count": 40,
   "metadata": {},
   "outputs": [],
   "source": [
    "#In above addition its shwoing the anwer as 1212 because it user input has been taken as string values.\n",
    "#Hence we need to convert the user input into integers of floating point numbers this process is called as type conversion."
   ]
  },
  {
   "cell_type": "code",
   "execution_count": 41,
   "metadata": {},
   "outputs": [
    {
     "name": "stdout",
     "output_type": "stream",
     "text": [
      "A: 12.0, B: 14.5\n",
      "Sum of A & B is: 26.5\n",
      "<class 'float'> <class 'float'>\n"
     ]
    }
   ],
   "source": [
    "#type conversion and type casting\n",
    "#we can convert data type of one variable to another if it is allowed\n",
    "\n",
    "\n",
    "A = float(input (\"Enter value for A : \"))\n",
    "B = float(input (\"Enter value for B : \"))\n",
    "\n",
    "print (f\"A: {A}, B: {B}\")\n",
    "print (f\"Sum of A & B is: {A + B}\")\n",
    "print(type(A), type(B))"
   ]
  },
  {
   "cell_type": "code",
   "execution_count": 47,
   "metadata": {},
   "outputs": [
    {
     "name": "stdout",
     "output_type": "stream",
     "text": [
      "Data type Before: <class 'str'>, value of S: 50\n",
      "Data type After: <class 'int'>, value of S: 50\n"
     ]
    }
   ],
   "source": [
    "#string to integer\n",
    "\n",
    "S = \"50\"\n",
    "print(f\"Data type Before: {type(S)}, value of S: {S}\")\n",
    "S = int(S)\n",
    "print(f\"Data type After: {type(S)}, value of S: {S}\")"
   ]
  },
  {
   "cell_type": "code",
   "execution_count": 48,
   "metadata": {},
   "outputs": [
    {
     "name": "stdout",
     "output_type": "stream",
     "text": [
      "Data type Before: <class 'str'>, value of S: 50.222\n"
     ]
    },
    {
     "ename": "ValueError",
     "evalue": "invalid literal for int() with base 10: '50.222'",
     "output_type": "error",
     "traceback": [
      "\u001b[1;31m---------------------------------------------------------------------------\u001b[0m",
      "\u001b[1;31mValueError\u001b[0m                                Traceback (most recent call last)",
      "\u001b[1;32mc:\\Users\\adity\\Desktop\\Demo\\Python_Basics\\Class2.ipynb Cell 18\u001b[0m line \u001b[0;36m5\n\u001b[0;32m      <a href='vscode-notebook-cell:/c%3A/Users/adity/Desktop/Demo/Python_Basics/Class2.ipynb#X25sZmlsZQ%3D%3D?line=2'>3</a>\u001b[0m S \u001b[39m=\u001b[39m \u001b[39m\"\u001b[39m\u001b[39m50.222\u001b[39m\u001b[39m\"\u001b[39m \n\u001b[0;32m      <a href='vscode-notebook-cell:/c%3A/Users/adity/Desktop/Demo/Python_Basics/Class2.ipynb#X25sZmlsZQ%3D%3D?line=3'>4</a>\u001b[0m \u001b[39mprint\u001b[39m(\u001b[39mf\u001b[39m\u001b[39m\"\u001b[39m\u001b[39mData type Before: \u001b[39m\u001b[39m{\u001b[39;00m\u001b[39mtype\u001b[39m(S)\u001b[39m}\u001b[39;00m\u001b[39m, value of S: \u001b[39m\u001b[39m{\u001b[39;00mS\u001b[39m}\u001b[39;00m\u001b[39m\"\u001b[39m)\n\u001b[1;32m----> <a href='vscode-notebook-cell:/c%3A/Users/adity/Desktop/Demo/Python_Basics/Class2.ipynb#X25sZmlsZQ%3D%3D?line=4'>5</a>\u001b[0m S \u001b[39m=\u001b[39m \u001b[39mint\u001b[39;49m(S) \n\u001b[0;32m      <a href='vscode-notebook-cell:/c%3A/Users/adity/Desktop/Demo/Python_Basics/Class2.ipynb#X25sZmlsZQ%3D%3D?line=5'>6</a>\u001b[0m \u001b[39mprint\u001b[39m(\u001b[39mf\u001b[39m\u001b[39m\"\u001b[39m\u001b[39mData type After: \u001b[39m\u001b[39m{\u001b[39;00m\u001b[39mtype\u001b[39m(S)\u001b[39m}\u001b[39;00m\u001b[39m, value of S: \u001b[39m\u001b[39m{\u001b[39;00mS\u001b[39m}\u001b[39;00m\u001b[39m\"\u001b[39m)\n",
      "\u001b[1;31mValueError\u001b[0m: invalid literal for int() with base 10: '50.222'"
     ]
    }
   ],
   "source": [
    "#string to integer\n",
    "\n",
    "S = \"50.222\" \n",
    "print(f\"Data type Before: {type(S)}, value of S: {S}\")\n",
    "S = int(S) \n",
    "print(f\"Data type After: {type(S)}, value of S: {S}\")"
   ]
  },
  {
   "cell_type": "code",
   "execution_count": 49,
   "metadata": {},
   "outputs": [
    {
     "name": "stdout",
     "output_type": "stream",
     "text": [
      "Data type Before: <class 'float'>, value of S: 50.222\n",
      "Data type After: <class 'int'>, value of S: 50\n"
     ]
    }
   ],
   "source": [
    "#float to integer\n",
    "\n",
    "S = 50.222\n",
    "print(f\"Data type Before: {type(S)}, value of S: {S}\")\n",
    "S = int(S) \n",
    "print(f\"Data type After: {type(S)}, value of S: {S}\")"
   ]
  },
  {
   "cell_type": "code",
   "execution_count": 59,
   "metadata": {},
   "outputs": [
    {
     "name": "stdout",
     "output_type": "stream",
     "text": [
      "Data type Before: <class 'str'>, value of S: \n"
     ]
    },
    {
     "ename": "ValueError",
     "evalue": "invalid literal for int() with base 10: ''",
     "output_type": "error",
     "traceback": [
      "\u001b[1;31m---------------------------------------------------------------------------\u001b[0m",
      "\u001b[1;31mValueError\u001b[0m                                Traceback (most recent call last)",
      "\u001b[1;32mc:\\Users\\adity\\Desktop\\Demo\\Python_Basics\\Class2.ipynb Cell 20\u001b[0m line \u001b[0;36m5\n\u001b[0;32m      <a href='vscode-notebook-cell:/c%3A/Users/adity/Desktop/Demo/Python_Basics/Class2.ipynb#X41sZmlsZQ%3D%3D?line=2'>3</a>\u001b[0m S \u001b[39m=\u001b[39m \u001b[39m\"\u001b[39m\u001b[39m\"\u001b[39m\n\u001b[0;32m      <a href='vscode-notebook-cell:/c%3A/Users/adity/Desktop/Demo/Python_Basics/Class2.ipynb#X41sZmlsZQ%3D%3D?line=3'>4</a>\u001b[0m \u001b[39mprint\u001b[39m(\u001b[39mf\u001b[39m\u001b[39m\"\u001b[39m\u001b[39mData type Before: \u001b[39m\u001b[39m{\u001b[39;00m\u001b[39mtype\u001b[39m(S)\u001b[39m}\u001b[39;00m\u001b[39m, value of S: \u001b[39m\u001b[39m{\u001b[39;00mS\u001b[39m}\u001b[39;00m\u001b[39m\"\u001b[39m)\n\u001b[1;32m----> <a href='vscode-notebook-cell:/c%3A/Users/adity/Desktop/Demo/Python_Basics/Class2.ipynb#X41sZmlsZQ%3D%3D?line=4'>5</a>\u001b[0m S \u001b[39m=\u001b[39m \u001b[39mint\u001b[39;49m(S) \n\u001b[0;32m      <a href='vscode-notebook-cell:/c%3A/Users/adity/Desktop/Demo/Python_Basics/Class2.ipynb#X41sZmlsZQ%3D%3D?line=5'>6</a>\u001b[0m \u001b[39mprint\u001b[39m(\u001b[39mf\u001b[39m\u001b[39m\"\u001b[39m\u001b[39mData type After: \u001b[39m\u001b[39m{\u001b[39;00m\u001b[39mtype\u001b[39m(S)\u001b[39m}\u001b[39;00m\u001b[39m, value of S: \u001b[39m\u001b[39m{\u001b[39;00mS\u001b[39m}\u001b[39;00m\u001b[39m\"\u001b[39m)\n",
      "\u001b[1;31mValueError\u001b[0m: invalid literal for int() with base 10: ''"
     ]
    }
   ],
   "source": [
    "#empty string to integer\n",
    "\n",
    "S = \"\"\n",
    "print(f\"Data type Before: {type(S)}, value of S: {S}\")\n",
    "S = int(S) \n",
    "print(f\"Data type After: {type(S)}, value of S: {S}\")"
   ]
  },
  {
   "cell_type": "code",
   "execution_count": 51,
   "metadata": {},
   "outputs": [
    {
     "name": "stdout",
     "output_type": "stream",
     "text": [
      "Data type Before: <class 'int'>, value of S: 50\n",
      "Data type After: <class 'float'>, value of S: 50.0\n"
     ]
    }
   ],
   "source": [
    "#integer to float\n",
    "\n",
    "S = 50\n",
    "print(f\"Data type Before: {type(S)}, value of S: {S}\")\n",
    "S = float(S) \n",
    "print(f\"Data type After: {type(S)}, value of S: {S}\")"
   ]
  },
  {
   "cell_type": "code",
   "execution_count": 52,
   "metadata": {},
   "outputs": [
    {
     "name": "stdout",
     "output_type": "stream",
     "text": [
      "Data type Before: <class 'int'>, value of S: 10\n",
      "Data type After: <class 'bool'>, value of S: True\n"
     ]
    }
   ],
   "source": [
    "#integer to boolean\n",
    "# True in Binary = 1\n",
    "# False in Binary = 0\n",
    "\n",
    "S = 10\n",
    "print(f\"Data type Before: {type(S)}, value of S: {S}\")\n",
    "S = bool(S) \n",
    "print(f\"Data type After: {type(S)}, value of S: {S}\")"
   ]
  },
  {
   "cell_type": "code",
   "execution_count": 54,
   "metadata": {},
   "outputs": [
    {
     "name": "stdout",
     "output_type": "stream",
     "text": [
      "Data type Before: <class 'int'>, value of S: 0\n",
      "Data type After: <class 'bool'>, value of S: False\n"
     ]
    }
   ],
   "source": [
    "#float to boolean\n",
    "\n",
    "S = 0\n",
    "print(f\"Data type Before: {type(S)}, value of S: {S}\")\n",
    "S = bool(S) \n",
    "print(f\"Data type After: {type(S)}, value of S: {S}\")"
   ]
  },
  {
   "cell_type": "code",
   "execution_count": 55,
   "metadata": {},
   "outputs": [
    {
     "name": "stdout",
     "output_type": "stream",
     "text": [
      "Data type Before: <class 'int'>, value of S: -5\n",
      "Data type After: <class 'bool'>, value of S: True\n"
     ]
    }
   ],
   "source": [
    "#float to boolean\n",
    "\n",
    "S = -5\n",
    "print(f\"Data type Before: {type(S)}, value of S: {S}\")\n",
    "S = bool(S) \n",
    "print(f\"Data type After: {type(S)}, value of S: {S}\")"
   ]
  },
  {
   "cell_type": "code",
   "execution_count": 56,
   "metadata": {},
   "outputs": [
    {
     "name": "stdout",
     "output_type": "stream",
     "text": [
      "Data type Before: <class 'str'>, value of S: Hi\n",
      "Data type After: <class 'bool'>, value of S: True\n"
     ]
    }
   ],
   "source": [
    "#string to boolean\n",
    "\n",
    "S = \"Hi\"\n",
    "print(f\"Data type Before: {type(S)}, value of S: {S}\")\n",
    "S = bool(S) \n",
    "print(f\"Data type After: {type(S)}, value of S: {S}\")"
   ]
  },
  {
   "cell_type": "code",
   "execution_count": 62,
   "metadata": {},
   "outputs": [
    {
     "ename": "SyntaxError",
     "evalue": "EOF while scanning triple-quoted string literal (3618039221.py, line 9)",
     "output_type": "error",
     "traceback": [
      "\u001b[1;36m  Cell \u001b[1;32mIn[62], line 9\u001b[1;36m\u001b[0m\n\u001b[1;33m    #Note - Empty string will give False as answer after converting from string to Boolean.\u001b[0m\n\u001b[1;37m                                                                                           \n^\u001b[0m\n\u001b[1;31mSyntaxError\u001b[0m\u001b[1;31m:\u001b[0m EOF while scanning triple-quoted string literal\n"
     ]
    }
   ],
   "source": [
    "#empty string to boolean\n",
    "\n",
    "S = \"\"\n",
    "print(f\"Data type Before: {type(S)}, value of S: {S}\")\n",
    "S = bool(S) \n",
    "print(f\"Data type After: {type(S)}, value of S: {S}\")\n",
    "\n",
    "\"\"\"\n",
    "Note - Converting any non zero values and \n",
    "       string values into boolean values will give True as answer.\n",
    "Note - Empty string will give False as answer after \n",
    "       converting from string to Boolean.\n",
    "\"\"\""
   ]
  },
  {
   "cell_type": "code",
   "execution_count": 61,
   "metadata": {},
   "outputs": [
    {
     "name": "stdout",
     "output_type": "stream",
     "text": [
      "Hello Alex, you are 26 years old.\n"
     ]
    }
   ],
   "source": [
    "# Calculate the age of the user\n",
    "\n",
    "name = input(\"Enter you name: \")\n",
    "year_of_birth = int(input(\"Enter year of birth: \"))\n",
    "\n",
    "age = 2023 - year_of_birth\n",
    "\n",
    "print(f\"Hello {name}, you are {age} years old.\")"
   ]
  },
  {
   "cell_type": "code",
   "execution_count": 66,
   "metadata": {},
   "outputs": [
    {
     "data": {
      "text/plain": [
       "'\\nlet say,\\n a= 10 -> address/memory block 101\\n b= 20 -> address/memory block 102\\n c= 10 -> address/memory block 103\\n but for c it take same memory address as a coz value is same\\n'"
      ]
     },
     "execution_count": 66,
     "metadata": {},
     "output_type": "execute_result"
    }
   ],
   "source": [
    "#Memory Block\n",
    "\"\"\"\n",
    "let say,\n",
    " a= 10 -> address/memory block 101\n",
    " b= 20 -> address/memory block 102\n",
    " c= 10 -> address/memory block 103\n",
    " but for c it take same memory address as a coz value is same\n",
    "\"\"\""
   ]
  },
  {
   "cell_type": "code",
   "execution_count": 65,
   "metadata": {},
   "outputs": [
    {
     "name": "stdout",
     "output_type": "stream",
     "text": [
      "140730156133952\n",
      "140730156134272\n",
      "140730156133952\n"
     ]
    }
   ],
   "source": [
    "a = 22\n",
    "b = 32\n",
    "c = 22\n",
    "\n",
    "print(id(a)) # -> id(a) t check the memory address of a or any variable\n",
    "print(id(b))\n",
    "print(id(c))"
   ]
  },
  {
   "cell_type": "code",
   "execution_count": 67,
   "metadata": {},
   "outputs": [
    {
     "name": "stdout",
     "output_type": "stream",
     "text": [
      "140730156134976\n",
      "140730156136448\n"
     ]
    }
   ],
   "source": [
    "c = 22 + b\n",
    "print(id(c))\n",
    "\n",
    "a = 100\n",
    "print(id(a))\n",
    "\n",
    "\"\"\"\n",
    "Note - Memory is assigned to the value of vairale passed not the variable name.\n",
    "\"\"\""
   ]
  },
  {
   "cell_type": "code",
   "execution_count": 70,
   "metadata": {},
   "outputs": [
    {
     "name": "stdout",
     "output_type": "stream",
     "text": [
      "1406549740592 1406548921296 1406549740592\n"
     ]
    }
   ],
   "source": [
    "a,b,c = \"Hi\", 22.22, \"Hi\"\n",
    "\n",
    "print(id(a),id(b),id(c))"
   ]
  }
 ],
 "metadata": {
  "kernelspec": {
   "display_name": "env1",
   "language": "python",
   "name": "python3"
  },
  "language_info": {
   "codemirror_mode": {
    "name": "ipython",
    "version": 3
   },
   "file_extension": ".py",
   "mimetype": "text/x-python",
   "name": "python",
   "nbconvert_exporter": "python",
   "pygments_lexer": "ipython3",
   "version": "3.8.18"
  }
 },
 "nbformat": 4,
 "nbformat_minor": 2
}
